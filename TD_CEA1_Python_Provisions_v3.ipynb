{
 "cells": [
  {
   "cell_type": "markdown",
   "metadata": {},
   "source": [
    "# TD CEA 1 - Autres provisions techniques : initiation à Python\n",
    "## 3 Octobre 2019\n",
    "\n",
    "### Préliminaires\n",
    "Ce document est ce que l'on appelle un \"Notebook\". Il s'agit d'un format un peu particulier qui permet de combiner à la fois du texte et des morceaux de code, contenus dans des cellules, qui peuvent s'exécuter les unes à la suite des autres. Il est possible de faire apparaître dans le Notebook les résultats de l'exécution du code (chiffres, graphiques) à mesure que celui-ci est excécuté. Pour exécuter une cellule de code, on peut cliquer sur \"Exécuter\" ci-dessus, ou encore appuyer simultanément sur \"Maj\" et \"Entrée\".\n",
    "\n",
    "Ceci est rendu possible par le fait que, tout comme R ou Matlab, Python est un language interprêté. A l'inverse d'un langage compilé (p.ex. C) qui doit être lu d'un bloc pour être exécuté, un langage interprêté peut être lu au fur et à mesure de son exécution.\n",
    "\n",
    "Remarque : Le format Notebook n'est en rien obligatoire et il est aussi tout à fait possible de créer des programmes python d'un seul bloc ! De manière générale, si vous le souhaitez et si vous disposez de pas ou peu de bases en termes de programmation, vous pouvez vous reporter au tutoriel OpenClassroom suivant:\n",
    "https://openclassrooms.com/fr/courses/235344-apprenez-a-programmer-en-python\n",
    "\n",
    "## Introduction à Python\n",
    "Tout d'abord, quelques rappels ou règles de base en python.\n",
    "\n",
    "### Les variables\n",
    "Pour déclarer une variable, il suffit de la nommer et de lui assigner une valeur, par exemple, les variables a et b ci-dessous:"
   ]
  },
  {
   "cell_type": "code",
   "execution_count": 1,
   "metadata": {},
   "outputs": [],
   "source": [
    "a=3\n",
    "b=5"
   ]
  },
  {
   "cell_type": "markdown",
   "metadata": {},
   "source": [
    "On peut alors créer deux autres variables c et d que l'on définit comme le produit et la somme de a et b et afficher leurs valeurs:"
   ]
  },
  {
   "cell_type": "code",
   "execution_count": 2,
   "metadata": {},
   "outputs": [
    {
     "name": "stdout",
     "output_type": "stream",
     "text": [
      "c = 15\n",
      "d = 8\n"
     ]
    }
   ],
   "source": [
    "c=a*b\n",
    "d=a+b\n",
    "\n",
    "print(\"c =\",c)\n",
    "print(\"d =\",d)"
   ]
  },
  {
   "cell_type": "markdown",
   "metadata": {},
   "source": [
    "Vous pouvez alors remonter quelques lignes plus haut et changer la valeur de a et b, puis actualiser les calculs en exécutant les briques de code.\n",
    "L'instruction print est une fonction dont les arguments (renseignés à l'intérieur de parenthèses) sont une liste de choses à afficher à la suite sur une même ligne. \n",
    "\n",
    "Dans l'instruction print(\"c =\",c), on a demandé l'affichage de la chaine de caractères \"c =\" (entourée de guillemets pour signifier qu'il s'agit de texte), puis de c."
   ]
  },
  {
   "cell_type": "markdown",
   "metadata": {},
   "source": [
    "## Les listes\n",
    "Il est possible de regrouper des variables dans des \"listes\". Une liste se présente sous la forme d'une suite d'éléments délimitée par des crochets et séparés par des virgules.\n",
    "\n",
    "On peut appeler les éléments constituant une boucle à l'aide de crochets. Le i-ème élément peut ainsi être appelé par liste[i].\n",
    "Par exemple :"
   ]
  },
  {
   "cell_type": "code",
   "execution_count": 3,
   "metadata": {},
   "outputs": [
    {
     "name": "stdout",
     "output_type": "stream",
     "text": [
      "[1, 3, 5]\n",
      "1er élément: 1\n",
      "dernier élément: 5\n"
     ]
    }
   ],
   "source": [
    "liste=[1,3,5]\n",
    "print(liste)\n",
    "print(\"1er élément:\",liste[0])\n",
    "print(\"dernier élément:\",liste[2])"
   ]
  },
  {
   "cell_type": "markdown",
   "metadata": {},
   "source": [
    "Attention, comme dans Matlab mais contrairement à R, les listes sont indexées à partir de 0 et non à partir de 1.\n",
    "Pour récupérer le N-ième élément d'une liste, il faut donc appeler liste[N-1].\n",
    "\n",
    "On peut concaténer deux listes ensemble en utilisant l'opérateur d'addition + :"
   ]
  },
  {
   "cell_type": "code",
   "execution_count": 4,
   "metadata": {
    "scrolled": true
   },
   "outputs": [
    {
     "name": "stdout",
     "output_type": "stream",
     "text": [
      "[1, 3, 5, 'a']\n"
     ]
    }
   ],
   "source": [
    "liste=liste+[\"a\"]\n",
    "print(liste)"
   ]
  },
  {
   "cell_type": "markdown",
   "metadata": {},
   "source": [
    "Python est un langage dit \"objet\". Une liste est ainsi un objet qui contient à la fois des données (les termes de la liste), mais également des méthodes. Il s'agit de fonctions qui peuvent effectuer des opérations spécifiques sur la liste. De manière générale, on accède aux méthodes en utilisant le point (.) : liste.fonction(argument de la fonction).\n",
    "\n",
    "On peut alors par exemple ajouter un élément à la liste en utilisant la fonction append: "
   ]
  },
  {
   "cell_type": "code",
   "execution_count": 5,
   "metadata": {},
   "outputs": [
    {
     "name": "stdout",
     "output_type": "stream",
     "text": [
      "[1, 3, 5, 'a', 'un terme ajouté']\n"
     ]
    }
   ],
   "source": [
    "liste.append(\"un terme ajouté\")\n",
    "print(liste)"
   ]
  },
  {
   "cell_type": "markdown",
   "metadata": {},
   "source": [
    "On peut également utiliser l'instruction \"pop\" pour supprimer. De manière générale pour voir la documentation associée à un objet et les différentes fonctions utilisables, on peut utiliser la fonction help."
   ]
  },
  {
   "cell_type": "code",
   "execution_count": 6,
   "metadata": {},
   "outputs": [
    {
     "name": "stdout",
     "output_type": "stream",
     "text": [
      "Help on list object:\n",
      "\n",
      "class list(object)\n",
      " |  list(iterable=(), /)\n",
      " |  \n",
      " |  Built-in mutable sequence.\n",
      " |  \n",
      " |  If no argument is given, the constructor creates a new empty list.\n",
      " |  The argument must be an iterable if specified.\n",
      " |  \n",
      " |  Methods defined here:\n",
      " |  \n",
      " |  __add__(self, value, /)\n",
      " |      Return self+value.\n",
      " |  \n",
      " |  __contains__(self, key, /)\n",
      " |      Return key in self.\n",
      " |  \n",
      " |  __delitem__(self, key, /)\n",
      " |      Delete self[key].\n",
      " |  \n",
      " |  __eq__(self, value, /)\n",
      " |      Return self==value.\n",
      " |  \n",
      " |  __ge__(self, value, /)\n",
      " |      Return self>=value.\n",
      " |  \n",
      " |  __getattribute__(self, name, /)\n",
      " |      Return getattr(self, name).\n",
      " |  \n",
      " |  __getitem__(...)\n",
      " |      x.__getitem__(y) <==> x[y]\n",
      " |  \n",
      " |  __gt__(self, value, /)\n",
      " |      Return self>value.\n",
      " |  \n",
      " |  __iadd__(self, value, /)\n",
      " |      Implement self+=value.\n",
      " |  \n",
      " |  __imul__(self, value, /)\n",
      " |      Implement self*=value.\n",
      " |  \n",
      " |  __init__(self, /, *args, **kwargs)\n",
      " |      Initialize self.  See help(type(self)) for accurate signature.\n",
      " |  \n",
      " |  __iter__(self, /)\n",
      " |      Implement iter(self).\n",
      " |  \n",
      " |  __le__(self, value, /)\n",
      " |      Return self<=value.\n",
      " |  \n",
      " |  __len__(self, /)\n",
      " |      Return len(self).\n",
      " |  \n",
      " |  __lt__(self, value, /)\n",
      " |      Return self<value.\n",
      " |  \n",
      " |  __mul__(self, value, /)\n",
      " |      Return self*value.\n",
      " |  \n",
      " |  __ne__(self, value, /)\n",
      " |      Return self!=value.\n",
      " |  \n",
      " |  __repr__(self, /)\n",
      " |      Return repr(self).\n",
      " |  \n",
      " |  __reversed__(self, /)\n",
      " |      Return a reverse iterator over the list.\n",
      " |  \n",
      " |  __rmul__(self, value, /)\n",
      " |      Return value*self.\n",
      " |  \n",
      " |  __setitem__(self, key, value, /)\n",
      " |      Set self[key] to value.\n",
      " |  \n",
      " |  __sizeof__(self, /)\n",
      " |      Return the size of the list in memory, in bytes.\n",
      " |  \n",
      " |  append(self, object, /)\n",
      " |      Append object to the end of the list.\n",
      " |  \n",
      " |  clear(self, /)\n",
      " |      Remove all items from list.\n",
      " |  \n",
      " |  copy(self, /)\n",
      " |      Return a shallow copy of the list.\n",
      " |  \n",
      " |  count(self, value, /)\n",
      " |      Return number of occurrences of value.\n",
      " |  \n",
      " |  extend(self, iterable, /)\n",
      " |      Extend list by appending elements from the iterable.\n",
      " |  \n",
      " |  index(self, value, start=0, stop=9223372036854775807, /)\n",
      " |      Return first index of value.\n",
      " |      \n",
      " |      Raises ValueError if the value is not present.\n",
      " |  \n",
      " |  insert(self, index, object, /)\n",
      " |      Insert object before index.\n",
      " |  \n",
      " |  pop(self, index=-1, /)\n",
      " |      Remove and return item at index (default last).\n",
      " |      \n",
      " |      Raises IndexError if list is empty or index is out of range.\n",
      " |  \n",
      " |  remove(self, value, /)\n",
      " |      Remove first occurrence of value.\n",
      " |      \n",
      " |      Raises ValueError if the value is not present.\n",
      " |  \n",
      " |  reverse(self, /)\n",
      " |      Reverse *IN PLACE*.\n",
      " |  \n",
      " |  sort(self, /, *, key=None, reverse=False)\n",
      " |      Stable sort *IN PLACE*.\n",
      " |  \n",
      " |  ----------------------------------------------------------------------\n",
      " |  Static methods defined here:\n",
      " |  \n",
      " |  __new__(*args, **kwargs) from builtins.type\n",
      " |      Create and return a new object.  See help(type) for accurate signature.\n",
      " |  \n",
      " |  ----------------------------------------------------------------------\n",
      " |  Data and other attributes defined here:\n",
      " |  \n",
      " |  __hash__ = None\n",
      "\n"
     ]
    }
   ],
   "source": [
    "help(liste)"
   ]
  },
  {
   "cell_type": "code",
   "execution_count": 7,
   "metadata": {},
   "outputs": [
    {
     "name": "stdout",
     "output_type": "stream",
     "text": [
      "[1, 3, 5, 'a']\n"
     ]
    }
   ],
   "source": [
    "liste.pop(4)\n",
    "print(liste)"
   ]
  },
  {
   "cell_type": "markdown",
   "metadata": {},
   "source": [
    "Il n'y a pas de contrainte particulière sur les listes et on peut ainsi faire facilement des listes de liste"
   ]
  },
  {
   "cell_type": "code",
   "execution_count": 8,
   "metadata": {},
   "outputs": [
    {
     "name": "stdout",
     "output_type": "stream",
     "text": [
      "[[1, 0.25, 0.25], [0.25, 1, 0], [0.25, 0, 1]]\n"
     ]
    }
   ],
   "source": [
    "matrice=[[1,0.25,0.25],[0.25,1,0],[0.25,0,1]]\n",
    "print(matrice)"
   ]
  },
  {
   "cell_type": "markdown",
   "metadata": {},
   "source": [
    "Puis on accède par double crochet aux éléments de la liste de liste : matrice[i][j] renvoie ainsi la i-ème ligne et j-ème colonne:"
   ]
  },
  {
   "cell_type": "code",
   "execution_count": 9,
   "metadata": {},
   "outputs": [
    {
     "name": "stdout",
     "output_type": "stream",
     "text": [
      "1\n",
      "0.25\n"
     ]
    }
   ],
   "source": [
    "print(matrice[0][0])\n",
    "print(matrice[1][0])\n"
   ]
  },
  {
   "cell_type": "markdown",
   "metadata": {},
   "source": [
    "## Les conditions et tests logiques\n",
    "Les tests logiques s'écrivent comme à l'aide des opérateurs \"==\" pour vérifier une égalité ou != pour une différence."
   ]
  },
  {
   "cell_type": "code",
   "execution_count": 10,
   "metadata": {},
   "outputs": [
    {
     "name": "stdout",
     "output_type": "stream",
     "text": [
      "1 égal 0? False\n",
      "1 différent de 0 ? True\n"
     ]
    }
   ],
   "source": [
    "print(\"1 égal 0?\",1==0)\n",
    "print(\"1 différent de 0 ?\",1!=0)"
   ]
  },
  {
   "cell_type": "markdown",
   "metadata": {},
   "source": [
    "Il est également possible de tester des inégalités (inférieur strict, inférieur ou égal):"
   ]
  },
  {
   "cell_type": "code",
   "execution_count": 11,
   "metadata": {},
   "outputs": [
    {
     "name": "stdout",
     "output_type": "stream",
     "text": [
      "False\n",
      "False\n",
      "False\n",
      "True\n"
     ]
    }
   ],
   "source": [
    "print(1<0)\n",
    "print(1<=0)\n",
    "print(1>1)\n",
    "print(1>=1)"
   ]
  },
  {
   "cell_type": "markdown",
   "metadata": {},
   "source": [
    "Les tests logiques peuvent également être combinés à l'aide des opérateurs ET (&) et OU (barre verticale : |)"
   ]
  },
  {
   "cell_type": "code",
   "execution_count": 12,
   "metadata": {},
   "outputs": [
    {
     "name": "stdout",
     "output_type": "stream",
     "text": [
      "True\n"
     ]
    }
   ],
   "source": [
    "un_test=(1==0)|(1!=0)\n",
    "print(un_test)"
   ]
  },
  {
   "cell_type": "code",
   "execution_count": 13,
   "metadata": {},
   "outputs": [
    {
     "name": "stdout",
     "output_type": "stream",
     "text": [
      "False\n"
     ]
    }
   ],
   "source": [
    "un_test=(1==0)&(1!=0)\n",
    "print(un_test)"
   ]
  },
  {
   "cell_type": "markdown",
   "metadata": {},
   "source": [
    "à partir de ces tests logiques, il est possible d'écrire des conditions.\n",
    "\n",
    "Python se caractérise par une syntaxe minimaliste et très visuelle. Contrairement à des langages comme le C ou le Java, il n'est pas nécessaire d'entourer une boucle de parenthèses ou d'accolades : on utilisera la tabulation pour indiquer les instructions qui font partie de la boucle. Ainsi, l'intendation du code n'est pas une simple bonne pratique mais fait partie intégrante de la syntaxe de Python.\n",
    "\n",
    "Les \"si\" s'écrirons simplement:"
   ]
  },
  {
   "cell_type": "code",
   "execution_count": 14,
   "metadata": {},
   "outputs": [
    {
     "name": "stdout",
     "output_type": "stream",
     "text": [
      "i est égal à 0\n"
     ]
    }
   ],
   "source": [
    "i=1\n",
    "if i==0:\n",
    "    #on écrit les instructions à l'intérieur du if en les décalant d'une largeur de tabulation.\n",
    "    print(\"i est égal à 0\")\n",
    "elif i==1:\n",
    "    print(\"i est égal à 0\")\n",
    "else:\n",
    "    print(\"i n'est ni égal à 0, ni à 1\")"
   ]
  },
  {
   "cell_type": "markdown",
   "metadata": {},
   "source": [
    "## Les boucles\n",
    "Pour écrire des boucles \"for\", la syntaxe de Python aura ici aussi recours à la tabulation. \n",
    "\n",
    "### Exemple"
   ]
  },
  {
   "cell_type": "code",
   "execution_count": 15,
   "metadata": {},
   "outputs": [
    {
     "name": "stdout",
     "output_type": "stream",
     "text": [
      "0 1\n",
      "1 2\n",
      "2 3\n",
      "3 4\n",
      "4 5\n",
      "5 6\n",
      "6 7\n",
      "7 8\n",
      "8 9\n",
      "9 10\n"
     ]
    }
   ],
   "source": [
    "a=0\n",
    "#ici, i va de 0 à 10 (exclu) et pour chaque valeur de i, les instructions dans la boucle sont exécutées\n",
    "for i in range(0,10):\n",
    "    a=a+1\n",
    "    print(i,a)"
   ]
  },
  {
   "cell_type": "markdown",
   "metadata": {},
   "source": [
    "Ici, on a initialisé une variable a, puis on a incrémentée celle-ci 10 fois de 1.\n",
    "La variable de boucle i a quant à elle pris ses valeurs entre 1 et 0 et 9 mais n'a pas été utilisée explicitement pour les calculs.\n",
    "\n",
    "Dans l'instruction range, on indique les deux extrémités de l'intervalle d'entiers à parcourir : la première est inclue, la seconde exclue. Ainsi, un range(0,n) comprendra n termes, de 0 à n-1.\n",
    "\n",
    "Les instructions à l'intérieur de la boucle peuvent être identifiées par une tabulation (touche tab). Pour sortir de la boucle, il suffira de revenir au niveau de tabulation inférieur. On peut bien entendu imbriquer plusieurs boucles les unes dans les autres en utilisant des doubles ou triples tabulations.\n",
    "\n",
    "N.B. : Les instructions For se terminent par un \":\" "
   ]
  },
  {
   "cell_type": "markdown",
   "metadata": {},
   "source": [
    "### Pratique\n",
    "#### 1. Adaptez la boucle de l'exemple précédent pour calculer la somme de i = 1 à 10 (inclus) de i et afficher les valeurs intermédiaires calculées."
   ]
  },
  {
   "cell_type": "code",
   "execution_count": 16,
   "metadata": {},
   "outputs": [
    {
     "name": "stdout",
     "output_type": "stream",
     "text": [
      "1 1\n",
      "2 3\n",
      "3 6\n",
      "4 10\n",
      "5 15\n",
      "6 21\n",
      "7 28\n",
      "8 36\n",
      "9 45\n",
      "10 55\n"
     ]
    }
   ],
   "source": [
    "#écrivez ici votre réponse\n",
    "a=0\n",
    "for i in range(1,11):\n",
    "    a=a+i\n",
    "    print(i,a)"
   ]
  },
  {
   "cell_type": "markdown",
   "metadata": {},
   "source": [
    "#### 2. Modifiez à la marge pour n'afficher que le résultat final obtenu à la dernière itération."
   ]
  },
  {
   "cell_type": "code",
   "execution_count": 17,
   "metadata": {},
   "outputs": [
    {
     "name": "stdout",
     "output_type": "stream",
     "text": [
      "10 55\n"
     ]
    }
   ],
   "source": [
    "#écrivez ici votre réponse puis appuyez sur MAJ+Entrée pour exécuter la cellule\n",
    "a=0\n",
    "for i in range(1,11):\n",
    "    a=a+i\n",
    "print(i,a)"
   ]
  },
  {
   "cell_type": "markdown",
   "metadata": {},
   "source": [
    "De la même manière, il est possible de réaliser des boucles conditionnelles \"while\"."
   ]
  },
  {
   "cell_type": "code",
   "execution_count": 18,
   "metadata": {},
   "outputs": [
    {
     "name": "stdout",
     "output_type": "stream",
     "text": [
      "0 1\n",
      "1 2\n",
      "2 3\n",
      "3 4\n",
      "4 5\n",
      "5 6\n",
      "6 7\n",
      "7 8\n",
      "8 9\n",
      "9 10\n"
     ]
    }
   ],
   "source": [
    "a=0\n",
    "i=0\n",
    "while i<10:\n",
    "    a=a+1\n",
    "    print(i,a)\n",
    "    i=i+1\n"
   ]
  },
  {
   "cell_type": "markdown",
   "metadata": {},
   "source": [
    "#### 3. Réalisez une boucle \"while\" équivalente à la boucle \"for\" de la question 2."
   ]
  },
  {
   "cell_type": "code",
   "execution_count": 19,
   "metadata": {},
   "outputs": [],
   "source": [
    "#écrivez ici votre réponse\n"
   ]
  },
  {
   "cell_type": "markdown",
   "metadata": {},
   "source": [
    "# Les librairies : exemple de numpy et matplotlib"
   ]
  },
  {
   "cell_type": "markdown",
   "metadata": {
    "collapsed": true
   },
   "source": [
    "Python fait partie des langages dont la richesse se base sur les nombreuses librairies déjà développées et disponibles pour l'utilisateur. Outre les fonctions et la flexibilité qu'elles apportent, elles améliorent aussi le temps de calcul. Tout comme dans Matlab, les librairies orientées calcul sont ainsi implémentées dans des langages plus performants sur le plan du temps de calcul (p.ex. C++) sans que l'utilisateur en ait à supporter la lourdeur syntaxique.\n",
    "\n",
    "## Numpy\n",
    "Numpy est l'une des librairies centrales dès lors qu'il est question de calcul. Elle permet de travailler avec des tableaux de chiffres ou des matrices.\n",
    "\n",
    "Pour utiliser une librairie, on commence toujours par l'importer afin de charger ses composantes. On lui donne souvent un alias (ici, numpy sera raccourci en np)"
   ]
  },
  {
   "cell_type": "code",
   "execution_count": 20,
   "metadata": {},
   "outputs": [],
   "source": [
    "import numpy as np"
   ]
  },
  {
   "cell_type": "markdown",
   "metadata": {},
   "source": [
    "Les fonctions et composantes de la librairie sont ainsi accessibles via le \".\" : np.composante. Parmi les nombreux composants disponibles pour l'utilisateur, on s'intéressera ici à \"array\", qui permet de définir des tableaux, et à \"random\" (et en particulier random.randn) qui génère des nombres aléatoires (suivant la loi normale)."
   ]
  },
  {
   "cell_type": "code",
   "execution_count": 21,
   "metadata": {},
   "outputs": [
    {
     "name": "stdout",
     "output_type": "stream",
     "text": [
      "tableau [0. 0. 0. 0. 0. 0. 0. 0. 0. 0.]\n",
      "matrice [[0. 0. 0.]\n",
      " [0. 0. 0.]\n",
      " [0. 0. 0.]\n",
      " [0. 0. 0.]\n",
      " [0. 0. 0.]\n",
      " [0. 0. 0.]\n",
      " [0. 0. 0.]\n",
      " [0. 0. 0.]\n",
      " [0. 0. 0.]\n",
      " [0. 0. 0.]]\n",
      "liste [1 2 3 4]\n",
      "alea [ 1.31459151 -0.11228951  0.49604837  0.30014516  1.25136086  0.5543159\n",
      " -1.01527116 -0.25337341 -1.24291861  0.6626887  -0.21154929  1.34784678\n",
      "  2.14990033  0.97046107 -0.51199403 -1.51171418 -0.34976108  0.30018868\n",
      "  0.46975678 -0.33641821  1.44288884 -0.13997022 -0.07511232 -0.78392983\n",
      "  0.22352506 -0.36661175  1.45681644 -1.58822286  0.13621293  0.51538791\n",
      "  0.0430275  -0.34569225  0.73601694  0.40502186  0.92793185  0.44038509\n",
      " -0.04103429  0.15339192  0.90698587  0.01291384 -0.16463433  0.7872662\n",
      "  2.70016654 -0.46814241 -2.00553375 -1.4412378  -0.31912042 -0.41552504\n",
      " -0.27441345  0.40842142  0.47823334 -0.46869895  0.68353345  0.64685026\n",
      " -0.89896136  1.32506985 -0.18470783 -0.02688506 -1.14001492 -1.58877315\n",
      " -0.55183821 -0.88990248 -0.13174357  1.88129612 -1.10858056 -0.40490193\n",
      "  2.43363121 -0.91863634 -1.19783081 -0.71612346  1.01325031 -0.01882816\n",
      "  0.76449615 -0.86783461  0.39294371 -0.55342846 -0.07852738 -0.66683354\n",
      "  0.84259205 -0.34354727 -0.29001838 -0.82045747 -0.3782547   0.41379564\n",
      " -0.84073781 -0.72516606  0.59281744 -0.0731396   0.32796605 -0.4256346\n",
      " -0.29782803  0.21726364 -0.50686279 -1.95250991  0.29005952 -0.65380377\n",
      " -1.77495468 -0.47797243  0.73623324 -0.54971529]\n"
     ]
    }
   ],
   "source": [
    "#on définit un tableau unidimensionnel de dimension 10 (un vecteur) rempli de zeros :\n",
    "tableau=np.zeros(10)\n",
    "print(\"tableau\",tableau)\n",
    "#et une matrice de la même manière en donnant un couple de dimensions :\n",
    "matrice=np.zeros((10,3))\n",
    "print(\"matrice\",matrice)\n",
    "#Il est aussi possible de transformer une liste en tableau numpy :\n",
    "liste=np.array([1,2,3,4])\n",
    "print(\"liste\",liste)\n",
    "#On peut facilement générer des nombres aléatoires à l'aide de :\n",
    "alea=np.random.randn(100)\n",
    "print(\"alea\",alea)"
   ]
  },
  {
   "cell_type": "markdown",
   "metadata": {},
   "source": [
    "Ces tableaux sont des objets qui ont donc eux-mêmes des fonctions telles que max, sum (somme), mean (moyenne), std (écart-type)"
   ]
  },
  {
   "cell_type": "code",
   "execution_count": 22,
   "metadata": {},
   "outputs": [
    {
     "name": "stdout",
     "output_type": "stream",
     "text": [
      "par exemple: -2.344427505139422 -0.02344427505139422 0.9018958076283891 2.700166538351179\n"
     ]
    }
   ],
   "source": [
    "print(\"par exemple:\",alea.sum(),alea.mean(),alea.std(),alea.max())"
   ]
  },
  {
   "cell_type": "markdown",
   "metadata": {},
   "source": [
    "Pour représenter graphiquement les résultats, on peut utiliser la librairie matplotlib (voir google pour de nombreux exemples). Un graphique simple peut par exemple s'écrire :"
   ]
  },
  {
   "cell_type": "code",
   "execution_count": 23,
   "metadata": {},
   "outputs": [
    {
     "data": {
      "text/plain": [
       "<Figure size 640x480 with 1 Axes>"
      ]
     },
     "metadata": {},
     "output_type": "display_data"
    }
   ],
   "source": [
    "from matplotlib import pyplot as plt\n",
    "#on s'assure que toutes les figures sont fermées:\n",
    "plt.close()\n",
    "#on crée une figure\n",
    "plt.figure()\n",
    "plt.plot(alea)\n",
    "#on affiche la figure\n",
    "plt.show()"
   ]
  },
  {
   "cell_type": "markdown",
   "metadata": {},
   "source": [
    "En pratique, toutes les instructions plot écrites avant d'afficher la figure seront superposées sur le même graphe, ce qui permet d'afficher plusieurs courbes sur une même figure. Ainsi, par exemple, on peut utiliser la fonction \"bar\" qui trace des barres verticales étant donné des vecteurs x (abscisses) et y (ordonnées). Pour créer les abscisses, on utilise par exemple ci-dessous la fonction linspace qui crée un vecteur (une grille de 1 à 100 contenant 100 points."
   ]
  },
  {
   "cell_type": "code",
   "execution_count": 24,
   "metadata": {},
   "outputs": [
    {
     "data": {
      "image/png": "[encoded data removed]",
      "text/plain": [
       "<Figure size 432x288 with 1 Axes>"
      ]
     },
     "metadata": {
      "needs_background": "light"
     },
     "output_type": "display_data"
    },
    {
     "name": "stdout",
     "output_type": "stream",
     "text": [
      "x: [  1.   2.   3.   4.   5.   6.   7.   8.   9.  10.  11.  12.  13.  14.\n",
      "  15.  16.  17.  18.  19.  20.  21.  22.  23.  24.  25.  26.  27.  28.\n",
      "  29.  30.  31.  32.  33.  34.  35.  36.  37.  38.  39.  40.  41.  42.\n",
      "  43.  44.  45.  46.  47.  48.  49.  50.  51.  52.  53.  54.  55.  56.\n",
      "  57.  58.  59.  60.  61.  62.  63.  64.  65.  66.  67.  68.  69.  70.\n",
      "  71.  72.  73.  74.  75.  76.  77.  78.  79.  80.  81.  82.  83.  84.\n",
      "  85.  86.  87.  88.  89.  90.  91.  92.  93.  94.  95.  96.  97.  98.\n",
      "  99. 100.]\n"
     ]
    }
   ],
   "source": [
    "#on s'assure que toutes les figures sont fermées:\n",
    "plt.close()\n",
    "#on crée une figure\n",
    "plt.figure()\n",
    "plt.plot(alea)\n",
    "plt.bar(np.linspace(1,100,100),alea,color=\"r\")\n",
    "#on affiche la figure\n",
    "plt.show()\n",
    "print(\"x:\",np.linspace(1,100,100))"
   ]
  },
  {
   "cell_type": "markdown",
   "metadata": {},
   "source": [
    "# A. Provision pour participation aux bénéfices"
   ]
  },
  {
   "cell_type": "markdown",
   "metadata": {},
   "source": [
    "#### 1. Quel est le but de la provision pour participation aux bénéfices ? Rappelez ci-dessous ses règles de dotation et de reprise"
   ]
  },
  {
   "cell_type": "markdown",
   "metadata": {},
   "source": [
    "[double cliquer pour afficher l'espace de réponse]"
   ]
  },
  {
   "cell_type": "markdown",
   "metadata": {},
   "source": [
    "#### 2. L'assureur A commercialise des produits d'épargne et souhaite distribuer à ses assurés un rendement stable année après année. Il s'est engagé contractuellement auprès de ses assurés à leur redistribuer 100% des produits financiers issus des actifs qu'il détient. Les produits financiers générés par ces actifs sont toutefois volatiles et l'assureur souhaite utiliser la PPB pour lisser le rendement servi aux assurés. \n",
    "\n",
    "On se placera dans la suite sur un horizon de projection de T=30 ans.\n",
    "\n",
    "##### 2.a. On propose de simuler aléatoirement les produits financiers dont dispose l'assureur chaque année : ils sont ainsi supposés suivre une loi normale de moyenne 5 M€ et de variance 5 M€.\n",
    "\n",
    "Définir un vecteur de réalisation des produis financiers disponibles année après année (sous la forme d'un tableau numpy à une dimension) en utilisant la fonction np.random.randn(n) qui renvoie un vecteur de n réalisations d'une loi normale N(0,1) (pour plus d'information sur cette fonction, help(np.random.randn).\n",
    "\n",
    "##### 2.b. On supposera dans un premier temps que la contrainte de reprise sous 8 ans des sommes dotées en PPB ne s'applique pas. \n",
    "- la PPB est initialement constituée de 5 M€\n",
    "- la cible de revalorisation, fixe à chaque année de projection, est de 4,5 M€.\n",
    "\n",
    "Lorsque les produits financiers sont suffisants pour remplir la cible de 4,5 M€, l'excédent est doté en PPB, lorsqu'ils sont inssufisants, une reprise est réalisée (sans toutefois que la provision puisse prendre des valeurs négatives).\n",
    "\n",
    "Calculez le vecteur \"revalo\" qui contiendra les revalorisations futures ainsi que le vecteur \"PPB\" qui représente l'évolution de la PPB tout au long de la projection.\n",
    "\n",
    "##### 2.c. Afficher à l'aide de la fonction \"plt.bar\" de matplotlib les trois vecteurs."
   ]
  },
  {
   "cell_type": "code",
   "execution_count": 25,
   "metadata": {},
   "outputs": [
    {
     "data": {
      "image/png": "[encoded data removed]",
      "text/plain": [
       "<Figure size 1080x504 with 3 Axes>"
      ]
     },
     "metadata": {
      "needs_background": "light"
     },
     "output_type": "display_data"
    }
   ],
   "source": [
    "#écrivez ici votre réponse\n",
    "import numpy as np\n",
    "from matplotlib import pyplot as plt\n",
    "#2.a On définit l'horizon temporel\n",
    "T=30\n",
    "pfi=np.random.randn(T)*5+5\n",
    "cible=4.5\n",
    "\n",
    "#Pour afficher le graphique, on utilise \"bar(x,y)\" où x correspond ici aux années de\n",
    "#projection et y à la valeur calculée (hauteur des barres).\n",
    "u=np.linspace(1,T,T)\n",
    "\n",
    "#2.b \n",
    "#On initialise les tableaux\n",
    "revalo=np.zeros(T+1)\n",
    "PPB=np.zeros(T+1)\n",
    "#On initialise le vecteur PPB\n",
    "PPB[0]=5\n",
    "#Puis on réalise une boucle de projection\n",
    "for t in range(0,T):\n",
    "    if pfi[t]>cible:\n",
    "        PPB[t+1]=PPB[t]+(pfi[t]-cible)\n",
    "        revalo[t]=cible\n",
    "    elif pfi[t]<cible:\n",
    "        #Si PPB + Pfi suffisant\n",
    "        if PPB[t]+pfi[t]>cible:\n",
    "            PPB[t+1]=PPB[t]-(cible-pfi[t])\n",
    "            revalo[t]=cible\n",
    "        else:\n",
    "            PPB[t+1]=0\n",
    "            revalo[t]=np.max((0,pfi[t]+PPB[t]))\n",
    "plt.close()\n",
    "plt.figure(figsize=(15,7))\n",
    "plt.subplot(1,3,1)\n",
    "plt.title(\"produits\")\n",
    "plt.bar(u,pfi[0:T])\n",
    "plt.subplot(1,3,2)\n",
    "plt.bar(u,revalo[1:T+1])\n",
    "plt.title(\"revalorisation\")\n",
    "plt.subplot(1,3,3)\n",
    "plt.bar(u,PPB[0:T])\n",
    "plt.title(\"PPB\")\n",
    "\n",
    "\n",
    "plt.show()\n",
    "plt.close()\n",
    "\n",
    "            "
   ]
  },
  {
   "cell_type": "markdown",
   "metadata": {
    "collapsed": true
   },
   "source": [
    "#### 3. On souhaite maintenant calculer à chaque pas de projection la probabilité que la revalorisation cible ne soit pas atteinte. \n",
    "\n",
    "Adaptez la réponse à la question 2 pour simuler un grand nombre de trajectoires et déterminier empiriquement cette probabilité."
   ]
  },
  {
   "cell_type": "code",
   "execution_count": 26,
   "metadata": {},
   "outputs": [
    {
     "data": {
      "image/png": "[encoded data removed]",
      "text/plain": [
       "<Figure size 432x288 with 1 Axes>"
      ]
     },
     "metadata": {
      "needs_background": "light"
     },
     "output_type": "display_data"
    }
   ],
   "source": [
    "#On définit le nombre d'itérations \n",
    "N=10000\n",
    "\n",
    "T=30\n",
    "\n",
    "cible=4.5\n",
    "\n",
    "#On initialise le vecteur de probabilité de ne pas servir la cible :\n",
    "Proba=np.zeros(T)\n",
    "\n",
    "#Pour afficher le graphique, on utilise \"bar(x,y)\" où x correspond ici aux années de\n",
    "#projection et y à la valeur calculée (hauteur des barres).\n",
    "u=np.linspace(1,T,T)\n",
    "\n",
    "for i in range(0,N):\n",
    "    #Puis on réalise une boucle de projection\n",
    "    #en faisant attention de bien réinitialiser les variables dans la boucle !\n",
    "    pfi=np.random.randn(T)*5+5\n",
    "    #On initialise les tableaux\n",
    "    revalo=np.zeros(T+1)\n",
    "    PPB=np.zeros(T+1)\n",
    "    #On initialise le vecteur PPB\n",
    "    PPB[0]=5\n",
    "\n",
    "    for t in range(0,T):\n",
    "        if pfi[t]>cible:\n",
    "            PPB[t+1]=PPB[t]+(pfi[t]-cible)\n",
    "            revalo[t]=cible\n",
    "        elif pfi[t]<cible:\n",
    "            #Si PPB + Pfi suffisant\n",
    "            if PPB[t]+pfi[t]>cible:\n",
    "                PPB[t+1]=PPB[t]-(cible-pfi[t])\n",
    "                revalo[t]=cible\n",
    "            else:\n",
    "                PPB[t+1]=0\n",
    "                revalo[t]=np.max((0,pfi[t]+PPB[t]))\n",
    "                Proba[t]+=1./N\n",
    "plt.close()\n",
    "plt.bar(u,Proba*100)\n",
    "plt.ylabel(\"Probabilité de ne pas servir la cible (en %)\")\n",
    "plt.xlabel(\"nombre d'années de projection\")\n",
    "plt.show()"
   ]
  },
  {
   "cell_type": "markdown",
   "metadata": {},
   "source": [
    "#### 4. On tient maintenant compte de la contrainte de reprise des sommes dotées en PPB sous 8 ans.  Modifiez le code de la question 2 pour déterminer les chroniques de revalorisation dans ces nouvelles conditions."
   ]
  },
  {
   "cell_type": "code",
   "execution_count": 27,
   "metadata": {},
   "outputs": [
    {
     "data": {
      "image/png": "[encoded data removed]",
      "text/plain": [
       "<Figure size 1080x504 with 3 Axes>"
      ]
     },
     "metadata": {
      "needs_background": "light"
     },
     "output_type": "display_data"
    }
   ],
   "source": [
    "#écrivez ici votre réponse\n",
    "import numpy as np\n",
    "from matplotlib import pyplot as plt\n",
    "#2.a On définit l'horizon temporel\n",
    "T=30\n",
    "pfi=np.random.randn(T)*5+5\n",
    "cible=4.5\n",
    "\n",
    "#Pour afficher le graphique, on utilise \"bar(x,y)\" où x correspond ici aux années de\n",
    "#projection et y à la valeur calculée (hauteur des barres).\n",
    "u=np.linspace(1,T,T)\n",
    "\n",
    "#2.b \n",
    "#On initialise les tableaux\n",
    "revalo=np.zeros(T+1)\n",
    "#Cette fois-ci, la PPB est à un tableau multidimensionnel (T+1,8)\n",
    "PPB=np.zeros((T+1,8))\n",
    "#On initialise le vecteur PPB\n",
    "PPB[0,0]=5\n",
    "#Puis on réalise une boucle de projection\n",
    "for t in range(0,T):\n",
    "    PPB[t+1,1:7]=PPB[t,0:6]\n",
    "    if pfi[t]>cible:\n",
    "        PPB[t+1,0]=(pfi[t]-cible)\n",
    "        #On force à distribuer le montant arrivé à échéance\n",
    "        revalo[t]=cible+PPB[t,6]\n",
    "    elif pfi[t]<=cible:\n",
    "        #Si PPB + Pfi suffisant : on regarde pour ça la somme suivant la dimension (1) (et non 0)\n",
    "        #des sommes disponibles sur la PPB.\n",
    "        servi=pfi[t]\n",
    "\n",
    "        #Dans tous les cas on sert les sommes en 8ème année\n",
    "        servi+=PPB[t,6]\n",
    "\n",
    "        k=1\n",
    "        #on fait une boucle while pour itérer sur les anciennetés de PPB\n",
    "        while (servi<cible)&(k<=7):\n",
    "            #astuce de syntaxe: plutôt que d'écrire a=a+1, on peut écrire a+=1\n",
    "            #8 = 5\n",
    "            servi_old=servi\n",
    "            servi+=np.min((PPB[t+1,7-k],np.max((0,cible-servi))))\n",
    "            PPB[t+1,7-k]-=servi-servi_old\n",
    "\n",
    "            k+=1\n",
    "        revalo[t]=servi\n",
    "        \n",
    "\n",
    "plt.close()\n",
    "plt.figure(figsize=(15,7))\n",
    "plt.subplot(1,3,1)\n",
    "plt.title(\"produits\")\n",
    "plt.bar(u,pfi[0:T])\n",
    "plt.subplot(1,3,2)\n",
    "plt.bar(u,revalo[1:T+1])\n",
    "plt.title(\"revalorisation\")\n",
    "plt.subplot(1,3,3)\n",
    "plt.bar(u,PPB[0:T,:].sum(1))\n",
    "plt.title(\"PPB\")\n",
    "\n",
    "\n",
    "plt.show()\n",
    "plt.close()\n",
    "\n"
   ]
  },
  {
   "cell_type": "markdown",
   "metadata": {},
   "source": [
    "#### 5. Par analogie avec la question 3, calculez la nouvelle probabilité de ne pas servir la cible de revalorisation. "
   ]
  },
  {
   "cell_type": "code",
   "execution_count": 28,
   "metadata": {},
   "outputs": [
    {
     "data": {
      "image/png": "[encoded data removed]",
      "text/plain": [
       "<Figure size 720x288 with 2 Axes>"
      ]
     },
     "metadata": {
      "needs_background": "light"
     },
     "output_type": "display_data"
    }
   ],
   "source": [
    "#écrivez ici votre réponse\n",
    "import numpy as np\n",
    "from matplotlib import pyplot as plt\n",
    "\n",
    "#On définit le nombre d'itérations \n",
    "N=10000\n",
    "\n",
    "T=30\n",
    "\n",
    "cible=4.5\n",
    "\n",
    "#On initialise le vecteur de probabilité de ne pas servir la cible :\n",
    "Proba_sup=np.zeros(T)\n",
    "Proba_inf=np.zeros(T)\n",
    "\n",
    "\n",
    "#Pour afficher le graphique, on utilise \"bar(x,y)\" où x correspond ici aux années de\n",
    "#projection et y à la valeur calculée (hauteur des barres).\n",
    "u=np.linspace(1,T,T)\n",
    "\n",
    "for i in range(0,N):\n",
    "    #on initialise l'aléa\n",
    "    pfi=np.random.randn(T)*5+5\n",
    "    #On initialise les tableaux\n",
    "    revalo=np.zeros(T+1)\n",
    "    #Cette fois-ci, la PPB est à un tableau multidimensionnel (T+1,8)\n",
    "    PPB=np.zeros((T+1,8))\n",
    "    #On initialise le vecteur PPB\n",
    "    PPB[0,0]=5\n",
    "    #Puis on réalise une boucle de projection\n",
    "    for t in range(0,T):\n",
    "        PPB[t+1,1:7]=PPB[t,0:6]\n",
    "        if pfi[t]>cible:\n",
    "            PPB[t+1,0]=(pfi[t]-cible)\n",
    "            #On force à distribuer le montant arrivé à échéance\n",
    "            revalo[t]=cible+PPB[t,6]\n",
    "        elif pfi[t]<=cible:\n",
    "            #Si PPB + Pfi suffisant : on regarde pour ça la somme suivant la dimension (1) (et non 0)\n",
    "            #des sommes disponibles sur la PPB.\n",
    "            servi=pfi[t]\n",
    "\n",
    "            #Dans tous les cas on sert les sommes en 8ème année\n",
    "            servi+=PPB[t,7]\n",
    "\n",
    "            k=1\n",
    "            #on fait une boucle while pour itérer sur les anciennetés de PPB\n",
    "            while (servi<cible)&(k<=7):\n",
    "                #astuce de syntaxe: plutôt que d'écrire a=a+1, on peut écrire a+=1\n",
    "                #8 = 5\n",
    "                servi_old=servi\n",
    "                #au plus on donne le montant disponible\n",
    "                servi+=np.min((PPB[t+1,7-k],np.max((0,cible-servi))))\n",
    "                PPB[t+1,7-k]-=servi-servi_old\n",
    "\n",
    "                k+=1\n",
    "            revalo[t]=servi\n",
    "        if revalo[t]<cible:\n",
    "            Proba_inf[t]+=1/N\n",
    "        if revalo[t]>cible:\n",
    "            Proba_sup[t]+=1/N\n",
    "\n",
    "plt.close()\n",
    "plt.figure(figsize=(10,4))\n",
    "plt.subplot(121)\n",
    "plt.bar(u,Proba_inf[0:T]*100)\n",
    "plt.ylabel(\"Probabilité de servir moins que la cible (en %)\")\n",
    "plt.xlabel(\"nombre d'années de projection\")\n",
    "plt.subplot(122)\n",
    "plt.bar(u,Proba_sup[0:T]*100)\n",
    "plt.ylabel(\"Probabilité de servir plus que la cible (en %)\")\n",
    "plt.xlabel(\"nombre d'années de projection\")\n",
    "plt.show()\n",
    "plt.close()"
   ]
  },
  {
   "cell_type": "markdown",
   "metadata": {},
   "source": [
    "#### 6. Affichez alors le résultat sur le même graphique que le résultat obtenu en question 3 et commentez. \n",
    "\n",
    "Précision : dans un Notebook, les variables définies dans les cellules précédentes restent disponibles une fois calculées. Il n'est donc pas nécessaire de les re-calculer dans la cellule courante."
   ]
  },
  {
   "cell_type": "code",
   "execution_count": 29,
   "metadata": {},
   "outputs": [
    {
     "data": {
      "image/png": "[encoded data removed]",
      "text/plain": [
       "<Figure size 432x288 with 1 Axes>"
      ]
     },
     "metadata": {
      "needs_background": "light"
     },
     "output_type": "display_data"
    }
   ],
   "source": [
    "#Comparaison des deux graphiques\n",
    "plt.close()\n",
    "plt.figure()\n",
    "plt.bar(u,Proba[0:T]*100)\n",
    "plt.bar(u,Proba_inf[0:T]*100,alpha=0.6)\n",
    "plt.legend([\"sans 8 ans\",\"avec 8 ans\"])\n",
    "plt.ylabel(\"Probabilité de servir plus que la cible (en %)\")\n",
    "plt.xlabel(\"nombre d'années de projection\")\n",
    "plt.show()\n",
    "plt.close()"
   ]
  },
  {
   "cell_type": "markdown",
   "metadata": {
    "collapsed": true
   },
   "source": [
    "[double cliquer pour afficher l'espace de réponse]\n",
    "\n",
    "Sur les premières années, le comportement est relativement similaire, puis partir de 8 ans, la contrainte réglementaire de reprise des sommes dotées sous 8 ans commence à détériorer le niveau des revalorisations. "
   ]
  },
  {
   "cell_type": "markdown",
   "metadata": {},
   "source": [
    "#### 7. Que deviennent les résultats précédents si les sommes dotées en PPB doivent être reprises non pas sous 8 mais sous 10 ans ?"
   ]
  },
  {
   "cell_type": "code",
   "execution_count": 30,
   "metadata": {},
   "outputs": [],
   "source": [
    "#Indiquez la réponse dans cette case"
   ]
  },
  {
   "cell_type": "markdown",
   "metadata": {
    "collapsed": true
   },
   "source": [
    "## B. Réserve de capitalisation\n",
    "\n",
    "#### 1. Quel est le but de la réserve de capitalisation ? Rappelez ci-dessous ses règles de dotation et de reprise"
   ]
  },
  {
   "cell_type": "markdown",
   "metadata": {},
   "source": [
    "[double cliquer pour afficher l'espace de réponse]"
   ]
  },
  {
   "cell_type": "markdown",
   "metadata": {},
   "source": [
    "#### 2. Calcul de la valeur d'une obligation : on suppose que l'on dispose des caractéristiques d'une obligation achetée au pair en fin d'année (nominal N, taux de coupon C, maturité M) et dont les échéances sont en fin d'année. On dispose également d'une courbe de taux sans risque spot r(t). En faisant l'hypothèse de l'absence de risque de crédit, écrire la formule de calcul de la valeur de marché d'une obligation."
   ]
  },
  {
   "cell_type": "markdown",
   "metadata": {},
   "source": [
    "[double cliquer pour afficher l'espace de réponse]"
   ]
  },
  {
   "cell_type": "markdown",
   "metadata": {},
   "source": [
    "Dans la suite du problème, on utilisera la courbe de taux spot EIOPA à fin 2018 jusqu'à la maturité 10 ans: "
   ]
  },
  {
   "cell_type": "code",
   "execution_count": 31,
   "metadata": {},
   "outputs": [
    {
     "data": {
      "image/png": "[encoded data removed]",
      "text/plain": [
       "<Figure size 432x288 with 1 Axes>"
      ]
     },
     "metadata": {
      "needs_background": "light"
     },
     "output_type": "display_data"
    }
   ],
   "source": [
    "import numpy as np\n",
    "from matplotlib import pyplot as plt\n",
    "r0=np.array([-0.093,-0.035,0.063,0.194,0.339,0.478,0.612,0.739,0.858,0.966])*1/100\n",
    "t=np.linspace(1,10,10)\n",
    "plt.close()\n",
    "plt.plot(t,r0)\n",
    "plt.show()"
   ]
  },
  {
   "cell_type": "markdown",
   "metadata": {},
   "source": [
    "#### 3. Implémentez une fonction qui applique la formule précédente et renvoie le prix de l'obligation comme une fonction des caractéristiques (M, C, N) et de la courbe de taux (tableau r)\n",
    "\n",
    "En python, il est possible de définir des fonctions personnalisées en utilisant \"def\". Par exemple :"
   ]
  },
  {
   "cell_type": "code",
   "execution_count": 32,
   "metadata": {},
   "outputs": [],
   "source": [
    "def ma_fonction(x,y):\n",
    "    #On indique dans cette partie tout ce que fait la fonction (peut inclure des boucles, des conditions, etc.)\n",
    "    z=x+y\n",
    "    return y #valeur retournée par la fonction"
   ]
  },
  {
   "cell_type": "code",
   "execution_count": 33,
   "metadata": {},
   "outputs": [],
   "source": [
    "#écrivez votre réponse ici\n",
    "def valeur(M,C,N,r):\n",
    "    valeur=0\n",
    "    for t in range(0,M):\n",
    "        valeur+=C*N*np.exp(-r[t]*(t+1)) #en convention exponentielle, sinon convention actuarielle 1/(1+r)^M\n",
    "    valeur+=N*np.exp(-r[t]*M)\n",
    "    return valeur"
   ]
  },
  {
   "cell_type": "code",
   "execution_count": 34,
   "metadata": {},
   "outputs": [
    {
     "name": "stdout",
     "output_type": "stream",
     "text": [
      "0.907919101149888\n"
     ]
    }
   ],
   "source": [
    "#testez la fonction définie précédemment sur une obligation\n",
    "print(valeur(10,0,1,r0))"
   ]
  },
  {
   "cell_type": "markdown",
   "metadata": {},
   "source": [
    "#### 4. Le portefeuille d'un assureur A des composé des obligations suivantes achetées au pair :\n",
    "- Obligation 1, maturité 10 ans, coupon 3.2%, nominal 50 M€ ;\n",
    "- Obligation 2, maturité 7 ans, coupon 2.8%, nominal 50 M€ ;\n",
    "- Obligation 3, maturité 5 ans, coupon 1.8%, nominal 50 M€ ;\n",
    "- Obligation 4, maturité 2 ans, coupon 1.2%, nominal 25 M€ ;\n",
    "- Obligation 5, maturité 1 ans, coupon 1%, nominal 25 M€ ;\n",
    "\n",
    "Calculez la valeur de marché du portefeuille d'actifs de A"
   ]
  },
  {
   "cell_type": "code",
   "execution_count": 35,
   "metadata": {},
   "outputs": [
    {
     "name": "stdout",
     "output_type": "stream",
     "text": [
      "248.2584080046795\n"
     ]
    }
   ],
   "source": [
    "#écrivez votre réponse ici\n",
    "\n",
    "Portefeuille=[[10,3.2/100,50],\n",
    "              [7,2.8/100,50],\n",
    "              [5,1.8/100,50],\n",
    "              [2,1.2/100,25],\n",
    "              [1,1/100,50]]\n",
    "vm=0\n",
    "for obligation in Portefeuille:#On boucle sur les objets de portefeuille\n",
    "    vm+=valeur(obligation[0],obligation[1],obligation[2],r0)\n",
    "print(vm)"
   ]
  },
  {
   "cell_type": "markdown",
   "metadata": {
    "collapsed": true
   },
   "source": [
    "#### 5.a On suppose de la valeur de la réserve de capitalisation de l'assureur est aujourd'hui nulle. Que se passerait-il si les obligations en portefeuille étaient cédées aujourd'hui ?"
   ]
  },
  {
   "cell_type": "code",
   "execution_count": 36,
   "metadata": {},
   "outputs": [
    {
     "name": "stdout",
     "output_type": "stream",
     "text": [
      "RKPI: 48.258408004679495\n"
     ]
    }
   ],
   "source": [
    "#écrivez votre réponse ici\n",
    "\n",
    "#On doterait la réserve de capitalisation à hauteur de :\n",
    "print(\"RKPI:\",vm-200)#On retire la VNC"
   ]
  },
  {
   "cell_type": "markdown",
   "metadata": {},
   "source": [
    "#### 5.b Décrivez le nouveau portefeuille d'actif si l'on rachetait une obligation au pair et sans risque de maturité 10 ans dont on précisera les caractéristiques ?"
   ]
  },
  {
   "cell_type": "code",
   "execution_count": 37,
   "metadata": {},
   "outputs": [
    {
     "name": "stdout",
     "output_type": "stream",
     "text": [
      "[1.00093043 1.00070025 0.99811178 0.99227003 0.98319284 0.97172737\n",
      " 0.95806467 0.94259365 0.92568618 0.9079191 ]\n",
      "Taux de coupon:  0.9511314092876718 % , VM = N = 248.2584080046795\n"
     ]
    }
   ],
   "source": [
    "#écrivez votre réponse ici\n",
    "\n",
    "#On calcule les zero-coupons associés à la courbe de taux r0:\n",
    "#astuce:il est possible de donner à une fonction telle que exponentielle un tableau de valeur, ou un produit \n",
    "#terme à terme de tableaux de valeurs. On obtient alors en sortie la fonction appliquée à chaque terme du tableau\n",
    "ZC0=np.exp(-np.linspace(1,10,10)*r0)\n",
    "\n",
    "print(ZC0)\n",
    "\n",
    "#Pour rappel, VM_oblig=Sum_t C*N*ZC(t) + N ZC(M), c'est à dire\n",
    "#C=(VM-N ZC(M))/(N Sum_t ZC(t))\n",
    "#Si l'obligation est achetée au pair, alors vm=N=248,...\n",
    "C=(1-ZC0[9])/(ZC0.sum())\n",
    "print(\"Taux de coupon: \",C*100,\"%\", \", VM = N =\",vm)"
   ]
  },
  {
   "cell_type": "markdown",
   "metadata": {},
   "source": [
    "#### On suppose que la participation aux bénéfices prévue contractuellement inclût 90 % des produits des actifs en représentation des provisions mathématiques et les coupons et nominaux reçus sont réinvestis en trésorerie, laquelle est revalorisée d'année en année au taux sans risque calculé à partir de la courbe des taux fournie.\n",
    "\n",
    "#### 6. Calculez les produits financiers entrant dans la participation aux bénéfices associés avec les deux stratégies d'investissement ainsi que la part de produits financiers revenant à l'assureur.\n",
    "\n",
    "##### 6.a stratégie 1 : conservation des actifs du portefeuille initial jusqu'à l'échéance"
   ]
  },
  {
   "cell_type": "code",
   "execution_count": 38,
   "metadata": {},
   "outputs": [
    {
     "name": "stdout",
     "output_type": "stream",
     "text": [
      "Produits financiers 34.598249847514154\n",
      "Produits financiers partagés 31.13842486276274\n",
      "Produits financiers assureur 3.4598249847514158\n"
     ]
    }
   ],
   "source": [
    "#écrivez votre réponse ici\n",
    "\n",
    "pfi=0\n",
    "cash=0\n",
    "\n",
    "for t in range(0,10):\n",
    "    if t>0:\n",
    "        cash*=ZC0[t-1]/ZC0[t]\n",
    "        pfi+=(ZC0[t-1]/ZC0[t]-1)\n",
    "\n",
    "    for oblig in Portefeuille:\n",
    "        if t<=oblig[0]:#t<=Maturité\n",
    "            pfi+=oblig[1]*oblig[2]#coupon * nominal\n",
    "            cash+=oblig[1]*oblig[2]\n",
    "        if t<=oblig[0]:#==Maturité\n",
    "            cash+=oblig[2]#nominal\n",
    "\n",
    "            \n",
    "print(\"Produits financiers\",pfi)\n",
    "print(\"Produits financiers partagés\",pfi*0.9)\n",
    "print(\"Produits financiers assureur\",pfi*0.1)"
   ]
  },
  {
   "cell_type": "markdown",
   "metadata": {},
   "source": [
    "##### 6.b stratégie 2 : vente de l'ensemble des actifs puis conservation jusqu'à l'échéance"
   ]
  },
  {
   "cell_type": "code",
   "execution_count": 39,
   "metadata": {},
   "outputs": [
    {
     "name": "stdout",
     "output_type": "stream",
     "text": [
      "Produits financiers 25.203700323151978\n",
      "Produits finannciers partagés 18.273967414154384\n",
      "Produits financiers assureur 6.929732908997599\n"
     ]
    }
   ],
   "source": [
    "#écrivez votre réponse ici\n",
    "\n",
    "pfi=0\n",
    "cash=0\n",
    "\n",
    "Portefeuille2=[[10,C,vm]]\n",
    "\n",
    "for t in range(0,10):\n",
    "    if t>0:\n",
    "        cash*=ZC0[t-1]/ZC0[t]\n",
    "        pfi+=cash*(ZC0[t-1]/ZC0[t]-1)\n",
    "    for oblig in Portefeuille2:\n",
    "        if t<=oblig[0]:#t<=Maturité\n",
    "            pfi+=oblig[1]*oblig[2]#coupon * nominal\n",
    "            cash+=oblig[1]*oblig[2]\n",
    "        if t==oblig[0]:#==Maturité\n",
    "            cash+=oblig[2]#nominal\n",
    "\n",
    "            \n",
    "print(\"Produits financiers\",pfi)\n",
    "#On partage seulement les produits financiers en face de la PM (le total des provisions étant constitué \n",
    "#de la PM et de la réserve de capitalisation)\n",
    "print(\"Produits finannciers partagés\",pfi*0.9*200/vm)\n",
    "print(\"Produits financiers assureur\",pfi*(1-0.9*200/vm))\n"
   ]
  },
  {
   "cell_type": "markdown",
   "metadata": {},
   "source": [
    "#### 6.c Commentez : sans la réserve de capitalisation, le montant de produits financiers in fine partagés avec les assurés aurait-il été inférieur à celui partagé avec celle-ci ? Quel est l'objet de la réserve de capitalisation ?"
   ]
  },
  {
   "cell_type": "code",
   "execution_count": 40,
   "metadata": {},
   "outputs": [
    {
     "name": "stdout",
     "output_type": "stream",
     "text": [
      "Produits financiers 73.46210832783147\n",
      "Produits finannciers partagés 53.26377303910053\n",
      "Produits financiers assureur 20.198335288730952\n"
     ]
    }
   ],
   "source": [
    "#écrivez votre réponse ici\n",
    "\n",
    "pfi=vm-200\n",
    "cash=0\n",
    "\n",
    "Portefeuille2=[[10,C,vm]]\n",
    "\n",
    "for t in range(0,10):\n",
    "    if t>0:\n",
    "        cash*=ZC0[t-1]/ZC0[t]\n",
    "        pfi+=cash*(ZC0[t-1]/ZC0[t]-1)\n",
    "    for oblig in Portefeuille2:\n",
    "        if t<=oblig[0]:#t<=Maturité\n",
    "            pfi+=oblig[1]*oblig[2]#coupon * nominal\n",
    "            cash+=oblig[1]*oblig[2]\n",
    "        if t==oblig[0]:#==Maturité\n",
    "            cash+=oblig[2]#nominal\n",
    "\n",
    "            \n",
    "print(\"Produits financiers\",pfi)\n",
    "#On partage seulement les produits financiers en face de la PM (le total des provisions étant constitué \n",
    "#de la PM et de la réserve de capitalisation)\n",
    "print(\"Produits finannciers partagés\",pfi*0.9*200/vm)\n",
    "print(\"Produits financiers assureur\",pfi*(1-0.9*200/vm))"
   ]
  },
  {
   "cell_type": "markdown",
   "metadata": {},
   "source": [
    "En l'absence de réserve de capitalisation, les montants partagés au titre de la PB ainsi que les produits financiers conservés par l'assureur auraient été nettement plus importants, ce qui aurait fait peser le risque que les produits financiers conservés par l'assureur soient distribués sous forme de dividendes. La réserve de capitalisation conduit à conserver les richesses obligataires et à limiter l'intérêt de cessions brutales de titres obligataires en période de taux bas."
   ]
  },
  {
   "cell_type": "code",
   "execution_count": null,
   "metadata": {},
   "outputs": [],
   "source": []
  }
 ],
 "metadata": {
  "kernelspec": {
   "display_name": "Python 3",
   "language": "python",
   "name": "python3"
  },
  "language_info": {
   "codemirror_mode": {
    "name": "ipython",
    "version": 3
   },
   "file_extension": ".py",
   "mimetype": "text/x-python",
   "name": "python",
   "nbconvert_exporter": "python",
   "pygments_lexer": "ipython3",
   "version": "3.7.1"
  }
 },
 "nbformat": 4,
 "nbformat_minor": 2
}
