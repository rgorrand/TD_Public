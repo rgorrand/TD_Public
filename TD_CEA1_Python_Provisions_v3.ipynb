{
 "cells": [
  {
   "cell_type": "markdown",
   "metadata": {},
   "source": [
    "# TD CEA 1 - Autres provisions techniques : initiation à Python\n",
    "## 3 Octobre 2019\n",
    "\n",
    "### Préliminaires\n",
    "Ce document est ce que l'on appelle un \"Notebook\". Il s'agit d'un format un peu particulier qui permet de combiner à la fois du texte et des morceaux de code, contenus dans des cellules, qui peuvent s'exécuter les unes à la suite des autres. Il est possible de faire apparaître dans le Notebook les résultats de l'exécution du code (chiffres, graphiques) à mesure que celui-ci est excécuté. Pour exécuter une cellule de code, on peut cliquer sur \"Exécuter\" ci-dessus, ou encore appuyer simultanément sur \"Maj\" et \"Entrée\".\n",
    "\n",
    "Ceci est rendu possible par le fait que, tout comme R ou Matlab, Python est un language interprêté. A l'inverse d'un langage compilé (p.ex. C) qui doit être lu d'un bloc pour être exécuté, un langage interprêté peut être lu au fur et à mesure de son exécution.\n",
    "\n",
    "Remarque : Le format Notebook n'est en rien obligatoire et il est aussi tout à fait possible de créer des programmes python d'un seul bloc ! De manière générale, si vous le souhaitez et si vous disposez de pas ou peu de bases en termes de programmation, vous pouvez vous reporter au tutoriel OpenClassroom suivant:\n",
    "https://openclassrooms.com/fr/courses/235344-apprenez-a-programmer-en-python\n",
    "\n",
    "## Introduction à Python\n",
    "Tout d'abord, quelques rappels ou règles de base en python.\n",
    "\n",
    "### Les variables\n",
    "Pour déclarer une variable, il suffit de la nommer et de lui assigner une valeur, par exemple, les variables a et b ci-dessous:"
   ]
  },
  {
   "cell_type": "code",
   "execution_count": 41,
   "metadata": {
    "collapsed": true
   },
   "outputs": [],
   "source": [
    "a=3\n",
    "b=5"
   ]
  },
  {
   "cell_type": "markdown",
   "metadata": {},
   "source": [
    "On peut alors créer deux autres variables c et d que l'on définit comme le produit et la somme de a et b et afficher leurs valeurs:"
   ]
  },
  {
   "cell_type": "code",
   "execution_count": 42,
   "metadata": {},
   "outputs": [
    {
     "name": "stdout",
     "output_type": "stream",
     "text": [
      "c = 15\n",
      "d = 8\n"
     ]
    }
   ],
   "source": [
    "c=a*b\n",
    "d=a+b\n",
    "\n",
    "print(\"c =\",c)\n",
    "print(\"d =\",d)"
   ]
  },
  {
   "cell_type": "markdown",
   "metadata": {},
   "source": [
    "Vous pouvez alors remonter quelques lignes plus haut et changer la valeur de a et b, puis actualiser les calculs en exécutant les briques de code.\n",
    "L'instruction print est une fonction dont les arguments (renseignés à l'intérieur de parenthèses) sont une liste de choses à afficher à la suite sur une même ligne. \n",
    "\n",
    "Dans l'instruction print(\"c =\",c), on a demandé l'affichage de la chaine de caractères \"c =\" (entourée de guillemets pour signifier qu'il s'agit de texte), puis de c."
   ]
  },
  {
   "cell_type": "markdown",
   "metadata": {},
   "source": [
    "## Les listes\n",
    "Il est possible de regrouper des variables dans des \"listes\". Une liste se présente sous la forme d'une suite d'éléments délimitée par des crochets et séparés par des virgules.\n",
    "\n",
    "On peut appeler les éléments constituant une boucle à l'aide de crochets. Le i-ème élément peut ainsi être appelé par liste[i].\n",
    "Par exemple :"
   ]
  },
  {
   "cell_type": "code",
   "execution_count": 43,
   "metadata": {},
   "outputs": [
    {
     "name": "stdout",
     "output_type": "stream",
     "text": [
      "[1, 3, 5]\n",
      "1er élément: 1\n",
      "dernier élément: 5\n"
     ]
    }
   ],
   "source": [
    "liste=[1,3,5]\n",
    "print(liste)\n",
    "print(\"1er élément:\",liste[0])\n",
    "print(\"dernier élément:\",liste[2])"
   ]
  },
  {
   "cell_type": "markdown",
   "metadata": {},
   "source": [
    "Attention, comme dans Matlab mais contrairement à R, les listes sont indexées à partir de 0 et non à partir de 1.\n",
    "Pour récupérer le N-ième élément d'une liste, il faut donc appeler liste[N-1].\n",
    "\n",
    "On peut concaténer deux listes ensemble en utilisant l'opérateur d'addition + :"
   ]
  },
  {
   "cell_type": "code",
   "execution_count": 44,
   "metadata": {
    "scrolled": true
   },
   "outputs": [
    {
     "name": "stdout",
     "output_type": "stream",
     "text": [
      "[1, 3, 5, 'a']\n"
     ]
    }
   ],
   "source": [
    "liste=liste+[\"a\"]\n",
    "print(liste)"
   ]
  },
  {
   "cell_type": "markdown",
   "metadata": {},
   "source": [
    "Python est un langage dit \"objet\". Une liste est ainsi un objet qui contient à la fois des données (les termes de la liste), mais également des méthodes. Il s'agit de fonctions qui peuvent effectuer des opérations spécifiques sur la liste. De manière générale, on accède aux méthodes en utilisant le point (.) : liste.fonction(argument de la fonction).\n",
    "\n",
    "On peut alors par exemple ajouter un élément à la liste en utilisant la fonction append: "
   ]
  },
  {
   "cell_type": "code",
   "execution_count": 45,
   "metadata": {},
   "outputs": [
    {
     "name": "stdout",
     "output_type": "stream",
     "text": [
      "[1, 3, 5, 'a', 'un terme ajouté']\n"
     ]
    }
   ],
   "source": [
    "liste.append(\"un terme ajouté\")\n",
    "print(liste)"
   ]
  },
  {
   "cell_type": "markdown",
   "metadata": {},
   "source": [
    "On peut également utiliser l'instruction \"pop\" pour supprimer. De manière générale pour voir la documentation associée à un objet et les différentes fonctions utilisables, on peut utiliser la fonction help."
   ]
  },
  {
   "cell_type": "code",
   "execution_count": 46,
   "metadata": {},
   "outputs": [
    {
     "name": "stdout",
     "output_type": "stream",
     "text": [
      "Help on list object:\n",
      "\n",
      "class list(object)\n",
      " |  list() -> new empty list\n",
      " |  list(iterable) -> new list initialized from iterable's items\n",
      " |  \n",
      " |  Methods defined here:\n",
      " |  \n",
      " |  __add__(self, value, /)\n",
      " |      Return self+value.\n",
      " |  \n",
      " |  __contains__(self, key, /)\n",
      " |      Return key in self.\n",
      " |  \n",
      " |  __delitem__(self, key, /)\n",
      " |      Delete self[key].\n",
      " |  \n",
      " |  __eq__(self, value, /)\n",
      " |      Return self==value.\n",
      " |  \n",
      " |  __ge__(self, value, /)\n",
      " |      Return self>=value.\n",
      " |  \n",
      " |  __getattribute__(self, name, /)\n",
      " |      Return getattr(self, name).\n",
      " |  \n",
      " |  __getitem__(...)\n",
      " |      x.__getitem__(y) <==> x[y]\n",
      " |  \n",
      " |  __gt__(self, value, /)\n",
      " |      Return self>value.\n",
      " |  \n",
      " |  __iadd__(self, value, /)\n",
      " |      Implement self+=value.\n",
      " |  \n",
      " |  __imul__(self, value, /)\n",
      " |      Implement self*=value.\n",
      " |  \n",
      " |  __init__(self, /, *args, **kwargs)\n",
      " |      Initialize self.  See help(type(self)) for accurate signature.\n",
      " |  \n",
      " |  __iter__(self, /)\n",
      " |      Implement iter(self).\n",
      " |  \n",
      " |  __le__(self, value, /)\n",
      " |      Return self<=value.\n",
      " |  \n",
      " |  __len__(self, /)\n",
      " |      Return len(self).\n",
      " |  \n",
      " |  __lt__(self, value, /)\n",
      " |      Return self<value.\n",
      " |  \n",
      " |  __mul__(self, value, /)\n",
      " |      Return self*value.n\n",
      " |  \n",
      " |  __ne__(self, value, /)\n",
      " |      Return self!=value.\n",
      " |  \n",
      " |  __new__(*args, **kwargs) from builtins.type\n",
      " |      Create and return a new object.  See help(type) for accurate signature.\n",
      " |  \n",
      " |  __repr__(self, /)\n",
      " |      Return repr(self).\n",
      " |  \n",
      " |  __reversed__(...)\n",
      " |      L.__reversed__() -- return a reverse iterator over the list\n",
      " |  \n",
      " |  __rmul__(self, value, /)\n",
      " |      Return self*value.\n",
      " |  \n",
      " |  __setitem__(self, key, value, /)\n",
      " |      Set self[key] to value.\n",
      " |  \n",
      " |  __sizeof__(...)\n",
      " |      L.__sizeof__() -- size of L in memory, in bytes\n",
      " |  \n",
      " |  append(...)\n",
      " |      L.append(object) -> None -- append object to end\n",
      " |  \n",
      " |  clear(...)\n",
      " |      L.clear() -> None -- remove all items from L\n",
      " |  \n",
      " |  copy(...)\n",
      " |      L.copy() -> list -- a shallow copy of L\n",
      " |  \n",
      " |  count(...)\n",
      " |      L.count(value) -> integer -- return number of occurrences of value\n",
      " |  \n",
      " |  extend(...)\n",
      " |      L.extend(iterable) -> None -- extend list by appending elements from the iterable\n",
      " |  \n",
      " |  index(...)\n",
      " |      L.index(value, [start, [stop]]) -> integer -- return first index of value.\n",
      " |      Raises ValueError if the value is not present.\n",
      " |  \n",
      " |  insert(...)\n",
      " |      L.insert(index, object) -- insert object before index\n",
      " |  \n",
      " |  pop(...)\n",
      " |      L.pop([index]) -> item -- remove and return item at index (default last).\n",
      " |      Raises IndexError if list is empty or index is out of range.\n",
      " |  \n",
      " |  remove(...)\n",
      " |      L.remove(value) -> None -- remove first occurrence of value.\n",
      " |      Raises ValueError if the value is not present.\n",
      " |  \n",
      " |  reverse(...)\n",
      " |      L.reverse() -- reverse *IN PLACE*\n",
      " |  \n",
      " |  sort(...)\n",
      " |      L.sort(key=None, reverse=False) -> None -- stable sort *IN PLACE*\n",
      " |  \n",
      " |  ----------------------------------------------------------------------\n",
      " |  Data and other attributes defined here:\n",
      " |  \n",
      " |  __hash__ = None\n",
      "\n"
     ]
    }
   ],
   "source": [
    "help(liste)"
   ]
  },
  {
   "cell_type": "code",
   "execution_count": 47,
   "metadata": {},
   "outputs": [
    {
     "name": "stdout",
     "output_type": "stream",
     "text": [
      "[1, 3, 5, 'a']\n"
     ]
    }
   ],
   "source": [
    "liste.pop(4)\n",
    "print(liste)"
   ]
  },
  {
   "cell_type": "markdown",
   "metadata": {},
   "source": [
    "Il n'y a pas de contrainte particulière sur les listes et on peut ainsi faire facilement des listes de liste"
   ]
  },
  {
   "cell_type": "code",
   "execution_count": 48,
   "metadata": {},
   "outputs": [
    {
     "name": "stdout",
     "output_type": "stream",
     "text": [
      "[[1, 0.25, 0.25], [0.25, 1, 0], [0.25, 0, 1]]\n"
     ]
    }
   ],
   "source": [
    "matrice=[[1,0.25,0.25],[0.25,1,0],[0.25,0,1]]\n",
    "print(matrice)"
   ]
  },
  {
   "cell_type": "markdown",
   "metadata": {},
   "source": [
    "Puis on accède par double crochet aux éléments de la liste de liste : matrice[i][j] renvoie ainsi la i-ème ligne et j-ème colonne:"
   ]
  },
  {
   "cell_type": "code",
   "execution_count": 49,
   "metadata": {},
   "outputs": [
    {
     "name": "stdout",
     "output_type": "stream",
     "text": [
      "1\n",
      "0.25\n"
     ]
    }
   ],
   "source": [
    "print(matrice[0][0])\n",
    "print(matrice[1][0])\n"
   ]
  },
  {
   "cell_type": "markdown",
   "metadata": {},
   "source": [
    "## Les conditions et tests logiques\n",
    "Les tests logiques s'écrivent comme à l'aide des opérateurs \"==\" pour vérifier une égalité ou != pour une différence."
   ]
  },
  {
   "cell_type": "code",
   "execution_count": 50,
   "metadata": {},
   "outputs": [
    {
     "name": "stdout",
     "output_type": "stream",
     "text": [
      "1 égal 0? False\n",
      "1 différent de 0 ? True\n"
     ]
    }
   ],
   "source": [
    "print(\"1 égal 0?\",1==0)\n",
    "print(\"1 différent de 0 ?\",1!=0)"
   ]
  },
  {
   "cell_type": "markdown",
   "metadata": {},
   "source": [
    "Il est également possible de tester des inégalités (inférieur strict, inférieur ou égal):"
   ]
  },
  {
   "cell_type": "code",
   "execution_count": 51,
   "metadata": {},
   "outputs": [
    {
     "name": "stdout",
     "output_type": "stream",
     "text": [
      "False\n",
      "False\n",
      "False\n",
      "True\n"
     ]
    }
   ],
   "source": [
    "print(1<0)\n",
    "print(1<=0)\n",
    "print(1>1)\n",
    "print(1>=1)"
   ]
  },
  {
   "cell_type": "markdown",
   "metadata": {},
   "source": [
    "Les tests logiques peuvent également être combinés à l'aide des opérateurs ET (&) et OU (barre verticale : |)"
   ]
  },
  {
   "cell_type": "code",
   "execution_count": 52,
   "metadata": {},
   "outputs": [
    {
     "name": "stdout",
     "output_type": "stream",
     "text": [
      "True\n"
     ]
    }
   ],
   "source": [
    "un_test=(1==0)|(1!=0)\n",
    "print(un_test)"
   ]
  },
  {
   "cell_type": "code",
   "execution_count": 53,
   "metadata": {},
   "outputs": [
    {
     "name": "stdout",
     "output_type": "stream",
     "text": [
      "False\n"
     ]
    }
   ],
   "source": [
    "un_test=(1==0)&(1!=0)\n",
    "print(un_test)"
   ]
  },
  {
   "cell_type": "markdown",
   "metadata": {},
   "source": [
    "à partir de ces tests logiques, il est possible d'écrire des conditions.\n",
    "\n",
    "Python se caractérise par une syntaxe minimaliste et très visuelle. Contrairement à des langages comme le C ou le Java, il n'est pas nécessaire d'entourer une boucle de parenthèses ou d'accolades : on utilisera la tabulation pour indiquer les instructions qui font partie de la boucle. Ainsi, l'intendation du code n'est pas une simple bonne pratique mais fait partie intégrante de la syntaxe de Python.\n",
    "\n",
    "Les \"si\" s'écrirons simplement:"
   ]
  },
  {
   "cell_type": "code",
   "execution_count": 54,
   "metadata": {},
   "outputs": [
    {
     "name": "stdout",
     "output_type": "stream",
     "text": [
      "i est égal à 0\n"
     ]
    }
   ],
   "source": [
    "i=1\n",
    "if i==0:\n",
    "    #on écrit les instructions à l'intérieur du if en les décalant d'une largeur de tabulation.\n",
    "    print(\"i est égal à 0\")\n",
    "elif i==1:\n",
    "    print(\"i est égal à 0\")\n",
    "else:\n",
    "    print(\"i n'est ni égal à 0, ni à 1\")"
   ]
  },
  {
   "cell_type": "markdown",
   "metadata": {},
   "source": [
    "## Les boucles\n",
    "Pour écrire des boucles \"for\", la syntaxe de Python aura ici aussi recours à la tabulation. \n",
    "\n",
    "### Exemple"
   ]
  },
  {
   "cell_type": "code",
   "execution_count": 55,
   "metadata": {},
   "outputs": [
    {
     "name": "stdout",
     "output_type": "stream",
     "text": [
      "0 1\n",
      "1 2\n",
      "2 3\n",
      "3 4\n",
      "4 5\n",
      "5 6\n",
      "6 7\n",
      "7 8\n",
      "8 9\n",
      "9 10\n"
     ]
    }
   ],
   "source": [
    "a=0\n",
    "#ici, i va de 0 à 10 (exclu) et pour chaque valeur de i, les instructions dans la boucle sont exécutées\n",
    "for i in range(0,10):\n",
    "    a=a+1\n",
    "    print(i,a)"
   ]
  },
  {
   "cell_type": "markdown",
   "metadata": {},
   "source": [
    "Ici, on a initialisé une variable a, puis on a incrémentée celle-ci 10 fois de 1.\n",
    "La variable de boucle i a quant à elle pris ses valeurs entre 1 et 0 et 9 mais n'a pas été utilisée explicitement pour les calculs.\n",
    "\n",
    "Dans l'instruction range, on indique les deux extrémités de l'intervalle d'entiers à parcourir : la première est inclue, la seconde exclue. Ainsi, un range(0,n) comprendra n termes, de 0 à n-1.\n",
    "\n",
    "Les instructions à l'intérieur de la boucle peuvent être identifiées par une tabulation (touche tab). Pour sortir de la boucle, il suffira de revenir au niveau de tabulation inférieur. On peut bien entendu imbriquer plusieurs boucles les unes dans les autres en utilisant des doubles ou triples tabulations.\n",
    "\n",
    "N.B. : Les instructions For se terminent par un \":\" "
   ]
  },
  {
   "cell_type": "markdown",
   "metadata": {},
   "source": [
    "### Pratique\n",
    "#### 1. Adaptez la boucle de l'exemple précédent pour calculer la somme de i = 1 à 10 (inclus) de i et afficher les valeurs intermédiaires calculées."
   ]
  },
  {
   "cell_type": "code",
   "execution_count": 56,
   "metadata": {},
   "outputs": [
    {
     "name": "stdout",
     "output_type": "stream",
     "text": [
      "1 1\n",
      "2 3\n",
      "3 6\n",
      "4 10\n",
      "5 15\n",
      "6 21\n",
      "7 28\n",
      "8 36\n",
      "9 45\n",
      "10 55\n"
     ]
    }
   ],
   "source": [
    "#écrivez ici votre réponse\n",
    "a=0\n",
    "for i in range(1,11):\n",
    "    a=a+i\n",
    "    print(i,a)"
   ]
  },
  {
   "cell_type": "markdown",
   "metadata": {},
   "source": [
    "#### 2. Modifiez à la marge pour n'afficher que le résultat final obtenu à la dernière itération."
   ]
  },
  {
   "cell_type": "code",
   "execution_count": 57,
   "metadata": {},
   "outputs": [
    {
     "name": "stdout",
     "output_type": "stream",
     "text": [
      "10 55\n"
     ]
    }
   ],
   "source": [
    "#écrivez ici votre réponse puis appuyez sur MAJ+Entrée pour exécuter la cellule\n",
    "a=0\n",
    "for i in range(1,11):\n",
    "    a=a+i\n",
    "print(i,a)"
   ]
  },
  {
   "cell_type": "markdown",
   "metadata": {},
   "source": [
    "De la même manière, il est possible de réaliser des boucles conditionnelles \"while\"."
   ]
  },
  {
   "cell_type": "code",
   "execution_count": 58,
   "metadata": {},
   "outputs": [
    {
     "name": "stdout",
     "output_type": "stream",
     "text": [
      "0 1\n",
      "1 2\n",
      "2 3\n",
      "3 4\n",
      "4 5\n",
      "5 6\n",
      "6 7\n",
      "7 8\n",
      "8 9\n",
      "9 10\n"
     ]
    }
   ],
   "source": [
    "a=0\n",
    "i=0\n",
    "while i<10:\n",
    "    a=a+1\n",
    "    print(i,a)\n",
    "    i=i+1\n"
   ]
  },
  {
   "cell_type": "markdown",
   "metadata": {},
   "source": [
    "#### 3. Réalisez une boucle \"while\" équivalente à la boucle \"for\" de la question 2."
   ]
  },
  {
   "cell_type": "code",
   "execution_count": 59,
   "metadata": {
    "collapsed": true
   },
   "outputs": [],
   "source": [
    "#écrivez ici votre réponse\n"
   ]
  },
  {
   "cell_type": "markdown",
   "metadata": {},
   "source": [
    "# Les librairies : exemple de numpy et matplotlib"
   ]
  },
  {
   "cell_type": "markdown",
   "metadata": {
    "collapsed": true
   },
   "source": [
    "Python fait partie des langages dont la richesse se base sur les nombreuses librairies déjà développées et disponibles pour l'utilisateur. Outre les fonctions et la flexibilité qu'elles apportent, elles améliorent aussi le temps de calcul. Tout comme dans Matlab, les librairies orientées calcul sont ainsi implémentées dans des langages plus performants sur le plan du temps de calcul (p.ex. C++) sans que l'utilisateur en ait à supporter la lourdeur syntaxique.\n",
    "\n",
    "## Numpy\n",
    "Numpy est l'une des librairies centrales dès lors qu'il est question de calcul. Elle permet de travailler avec des tableaux de chiffres ou des matrices.\n",
    "\n",
    "Pour utiliser une librairie, on commence toujours par l'importer afin de charger ses composantes. On lui donne souvent un alias (ici, numpy sera raccourci en np)"
   ]
  },
  {
   "cell_type": "code",
   "execution_count": 60,
   "metadata": {
    "collapsed": true
   },
   "outputs": [],
   "source": [
    "import numpy as np"
   ]
  },
  {
   "cell_type": "markdown",
   "metadata": {},
   "source": [
    "Les fonctions et composantes de la librairie sont ainsi accessibles via le \".\" : np.composante. Parmi les nombreux composants disponibles pour l'utilisateur, on s'intéressera ici à \"array\", qui permet de définir des tableaux, et à \"random\" (et en particulier random.randn) qui génère des nombres aléatoires (suivant la loi normale)."
   ]
  },
  {
   "cell_type": "code",
   "execution_count": 61,
   "metadata": {},
   "outputs": [
    {
     "name": "stdout",
     "output_type": "stream",
     "text": [
      "tableau [ 0.  0.  0.  0.  0.  0.  0.  0.  0.  0.]\n",
      "matrice [[ 0.  0.  0.]\n",
      " [ 0.  0.  0.]\n",
      " [ 0.  0.  0.]\n",
      " [ 0.  0.  0.]\n",
      " [ 0.  0.  0.]\n",
      " [ 0.  0.  0.]\n",
      " [ 0.  0.  0.]\n",
      " [ 0.  0.  0.]\n",
      " [ 0.  0.  0.]\n",
      " [ 0.  0.  0.]]\n",
      "liste [1 2 3 4]\n",
      "alea [-0.39239984  0.80211896  2.00790568  0.19456283  3.10064802  0.81332984\n",
      " -0.17329428  0.44336226  0.14800345 -0.82027738  1.47899508  1.15235877\n",
      "  1.92203003  1.73278736  2.18264052  1.1186342   1.45092902  0.64442724\n",
      "  2.36395787 -1.57367621  0.30899914  0.492661    0.3075851  -0.17320867\n",
      " -1.01072094 -1.02052472 -1.26045262 -0.9356953  -1.21905538  1.92140652\n",
      " -2.13631235 -0.9024904   0.46060992 -0.08561596  0.32511261 -0.14695728\n",
      "  0.39493679  1.33062168 -0.56710075  1.46234752  1.25496015  0.79340983\n",
      " -1.94395163  1.01675632  0.08312633  0.19972001 -0.68180127 -0.49036658\n",
      "  0.10599703  0.90460368 -0.53696559  0.43507748 -0.38892847  1.01202993\n",
      "  0.09915313  0.63623299 -0.35799623 -0.3059775  -0.41678735  0.55394978\n",
      " -0.16412737 -1.12400791 -0.21009229 -0.8061895  -0.06769692  2.29945076\n",
      "  0.31895991 -0.09521317  0.69499666  0.66370094 -0.02452465 -0.38624183\n",
      " -0.15115659 -0.25131688 -1.53692902 -0.72404094 -1.0118703   0.35604137\n",
      "  0.89254141  0.41021231 -0.61458741  0.71527295  0.16152651 -0.02949801\n",
      "  0.41790497  0.27305028 -1.09542514 -0.87868886  1.39121041 -1.23302722\n",
      " -0.21293107 -1.0165739   0.81857536  0.79524745 -0.82107392 -1.09577548\n",
      "  0.6194336   0.22282005  0.0351348   1.48555259]\n"
     ]
    }
   ],
   "source": [
    "#on définit un tableau unidimensionnel de dimension 10 (un vecteur) rempli de zeros :\n",
    "tableau=np.zeros(10)\n",
    "print(\"tableau\",tableau)\n",
    "#et une matrice de la même manière en donnant un couple de dimensions :\n",
    "matrice=np.zeros((10,3))\n",
    "print(\"matrice\",matrice)\n",
    "#Il est aussi possible de transformer une liste en tableau numpy :\n",
    "liste=np.array([1,2,3,4])\n",
    "print(\"liste\",liste)\n",
    "#On peut facilement générer des nombres aléatoires à l'aide de :\n",
    "alea=np.random.randn(100)\n",
    "print(\"alea\",alea)"
   ]
  },
  {
   "cell_type": "markdown",
   "metadata": {},
   "source": [
    "Ces tableaux sont des objets qui ont donc eux-mêmes des fonctions telles que max, sum (somme), mean (moyenne), std (écart-type)"
   ]
  },
  {
   "cell_type": "code",
   "execution_count": 62,
   "metadata": {},
   "outputs": [
    {
     "name": "stdout",
     "output_type": "stream",
     "text": [
      "par exemple: 17.1360753363 0.171360753363 0.99311634985 3.10064801649\n"
     ]
    }
   ],
   "source": [
    "print(\"par exemple:\",alea.sum(),alea.mean(),alea.std(),alea.max())"
   ]
  },
  {
   "cell_type": "markdown",
   "metadata": {},
   "source": [
    "Pour représenter graphiquement les résultats, on peut utiliser la librairie matplotlib (voir google pour de nombreux exemples). Un graphique simple peut par exemple s'écrire :"
   ]
  },
  {
   "cell_type": "code",
   "execution_count": 63,
   "metadata": {},
   "outputs": [
    {
     "data": {
      "image/png": "[encoded data removed]",
      "text/plain": [
       "<matplotlib.figure.Figure at 0x271f1964668>"
      ]
     },
     "metadata": {},
     "output_type": "display_data"
    }
   ],
   "source": [
    "from matplotlib import pyplot as plt\n",
    "#on s'assure que toutes les figures sont fermées:\n",
    "plt.close()\n",
    "#on crée une figure\n",
    "plt.figure()\n",
    "plt.plot(alea)\n",
    "#on affiche la figure\n",
    "plt.show()"
   ]
  },
  {
   "cell_type": "markdown",
   "metadata": {},
   "source": [
    "En pratique, toutes les instructions plot écrites avant d'afficher la figure seront superposées sur le même graphe, ce qui permet d'afficher plusieurs courbes sur une même figure. Ainsi, par exemple, on peut utiliser la fonction \"bar\" qui trace des barres verticales étant donné des vecteurs x (abscisses) et y (ordonnées). Pour créer les abscisses, on utilise par exemple ci-dessous la fonction linspace qui crée un vecteur (une grille de 1 à 100 contenant 100 points."
   ]
  },
  {
   "cell_type": "code",
   "execution_count": 64,
   "metadata": {},
   "outputs": [
    {
     "data": {
      "image/png": "[encoded data removed]",
      "text/plain": [
       "<matplotlib.figure.Figure at 0x271f13e40f0>"
      ]
     },
     "metadata": {},
     "output_type": "display_data"
    },
    {
     "name": "stdout",
     "output_type": "stream",
     "text": [
      "x: [   1.    2.    3.    4.    5.    6.    7.    8.    9.   10.   11.   12.\n",
      "   13.   14.   15.   16.   17.   18.   19.   20.   21.   22.   23.   24.\n",
      "   25.   26.   27.   28.   29.   30.   31.   32.   33.   34.   35.   36.\n",
      "   37.   38.   39.   40.   41.   42.   43.   44.   45.   46.   47.   48.\n",
      "   49.   50.   51.   52.   53.   54.   55.   56.   57.   58.   59.   60.\n",
      "   61.   62.   63.   64.   65.   66.   67.   68.   69.   70.   71.   72.\n",
      "   73.   74.   75.   76.   77.   78.   79.   80.   81.   82.   83.   84.\n",
      "   85.   86.   87.   88.   89.   90.   91.   92.   93.   94.   95.   96.\n",
      "   97.   98.   99.  100.]\n"
     ]
    }
   ],
   "source": [
    "#on s'assure que toutes les figures sont fermées:\n",
    "plt.close()\n",
    "#on crée une figure\n",
    "plt.figure()\n",
    "plt.plot(alea)\n",
    "plt.bar(np.linspace(1,100,100),alea,color=\"r\")\n",
    "#on affiche la figure\n",
    "plt.show()\n",
    "print(\"x:\",np.linspace(1,100,100))"
   ]
  },
  {
   "cell_type": "markdown",
   "metadata": {},
   "source": [
    "# A. Provision pour participation aux bénéfices"
   ]
  },
  {
   "cell_type": "markdown",
   "metadata": {},
   "source": [
    "#### 1. Quel est le but de la provision pour participation aux bénéfices ? Rappelez ci-dessous ses règles de dotation et de reprise"
   ]
  },
  {
   "cell_type": "markdown",
   "metadata": {},
   "source": [
    "[double cliquer pour afficher l'espace de réponse]"
   ]
  },
  {
   "cell_type": "markdown",
   "metadata": {},
   "source": [
    "#### 2. L'assureur A commercialise des produits d'épargne et souhaite distribuer à ses assurés un rendement stable année après année. Il s'est engagé contractuellement auprès de ses assurés à leur redistribuer 100% des produits financiers issus des actifs qu'il détient. Les produits financiers générés par ces actifs sont toutefois volatiles et l'assureur souhaite utiliser la PPB pour lisser le rendement servi aux assurés. \n",
    "\n",
    "On se placera dans la suite sur un horizon de projection de T=30 ans.\n",
    "\n",
    "##### 2.a. On propose de simuler aléatoirement les produits financiers dont dispose l'assureur chaque année : ils sont ainsi supposés suivre une loi normale de moyenne 5 M€ et de variance 5 M€.\n",
    "\n",
    "Définir un vecteur de réalisation des produis financiers disponibles année après année (sous la forme d'un tableau numpy à une dimension) en utilisant la fonction np.random.randn(n) qui renvoie un vecteur de n réalisations d'une loi normale N(0,1) (pour plus d'information sur cette fonction, help(np.random.randn).\n",
    "\n",
    "##### 2.b. On supposera dans un premier temps que la contrainte de reprise sous 8 ans des sommes dotées en PPB ne s'applique pas. \n",
    "- la PPB est initialement constituée de 5 M€\n",
    "- la cible de revalorisation, fixe à chaque année de projection, est de 4,5 M€.\n",
    "\n",
    "Lorsque les produits financiers sont suffisants pour remplir la cible de 4,5 M€, l'excédent est doté en PPB, lorsqu'ils sont inssufisants, une reprise est réalisée (sans toutefois que la provision puisse prendre des valeurs négatives).\n",
    "\n",
    "Calculez le vecteur \"revalo\" qui contiendra les revalorisations futures ainsi que le vecteur \"PPB\" qui représente l'évolution de la PPB tout au long de la projection.\n",
    "\n",
    "##### 2.c. Afficher à l'aide de la fonction \"plt.bar\" de matplotlib les trois vecteurs."
   ]
  },
  {
   "cell_type": "code",
   "execution_count": 65,
   "metadata": {},
   "outputs": [
    {
     "data": {
      "image/png": "[encoded data removed]",
      "text/plain": [
       "<matplotlib.figure.Figure at 0x271f193dda0>"
      ]
     },
     "metadata": {},
     "output_type": "display_data"
    }
   ],
   "source": [
    "#écrivez ici votre réponse\n",
    "import numpy as np\n",
    "from matplotlib import pyplot as plt\n",
    "#2.a On définit l'horizon temporel\n",
    "T=30\n",
    "pfi=np.random.randn(T)*5+5\n",
    "cible=4.5\n",
    "\n",
    "#Pour afficher le graphique, on utilise \"bar(x,y)\" où x correspond ici aux années de\n",
    "#projection et y à la valeur calculée (hauteur des barres).\n",
    "u=np.linspace(1,T,T)\n",
    "\n",
    "#2.b \n",
    "#On initialise les tableaux\n",
    "revalo=np.zeros(T+1)\n",
    "PPB=np.zeros(T+1)\n",
    "#On initialise le vecteur PPB\n",
    "PPB[0]=5\n",
    "#Puis on réalise une boucle de projection\n",
    "for t in range(0,T):\n",
    "    if pfi[t]>cible:\n",
    "        PPB[t+1]=PPB[t]+(pfi[t]-cible)\n",
    "        revalo[t]=cible\n",
    "    elif pfi[t]<cible:\n",
    "        #Si PPB + Pfi suffisant\n",
    "        if PPB[t]+pfi[t]>cible:\n",
    "            PPB[t+1]=PPB[t]-(cible-pfi[t])\n",
    "            revalo[t]=cible\n",
    "        else:\n",
    "            PPB[t+1]=0\n",
    "            revalo[t]=np.max((0,pfi[t]+PPB[t]))\n",
    "plt.close()\n",
    "plt.figure(figsize=(15,7))\n",
    "plt.subplot(1,3,1)\n",
    "plt.title(\"produits\")\n",
    "plt.bar(u,pfi[0:T])\n",
    "plt.subplot(1,3,2)\n",
    "plt.bar(u,revalo[1:T+1])\n",
    "plt.title(\"revalorisation\")\n",
    "plt.subplot(1,3,3)\n",
    "plt.bar(u,PPB[0:T])\n",
    "plt.title(\"PPB\")\n",
    "\n",
    "\n",
    "plt.show()\n",
    "plt.close()\n",
    "\n",
    "            "
   ]
  },
  {
   "cell_type": "markdown",
   "metadata": {
    "collapsed": true
   },
   "source": [
    "#### 3. On souhaite maintenant calculer à chaque pas de projection la probabilité que la revalorisation cible ne soit pas atteinte. \n",
    "\n",
    "Adaptez la réponse à la question 2 pour simuler un grand nombre de trajectoires et déterminier empiriquement cette probabilité."
   ]
  },
  {
   "cell_type": "code",
   "execution_count": 66,
   "metadata": {},
   "outputs": [
    {
     "data": {
      "image/png": "[encoded data removed]",
      "text/plain": [
       "<matplotlib.figure.Figure at 0x271f11ec5f8>"
      ]
     },
     "metadata": {},
     "output_type": "display_data"
    }
   ],
   "source": [
    "#On définit le nombre d'itérations \n",
    "N=10000\n",
    "\n",
    "T=30\n",
    "\n",
    "cible=4.5\n",
    "\n",
    "#On initialise le vecteur de probabilité de ne pas servir la cible :\n",
    "Proba=np.zeros(T)\n",
    "\n",
    "#Pour afficher le graphique, on utilise \"bar(x,y)\" où x correspond ici aux années de\n",
    "#projection et y à la valeur calculée (hauteur des barres).\n",
    "u=np.linspace(1,T,T)\n",
    "\n",
    "for i in range(0,N):\n",
    "    #Puis on réalise une boucle de projection\n",
    "    #en faisant attention de bien réinitialiser les variables dans la boucle !\n",
    "    pfi=np.random.randn(T)*5+5\n",
    "    #On initialise les tableaux\n",
    "    revalo=np.zeros(T+1)\n",
    "    PPB=np.zeros(T+1)\n",
    "    #On initialise le vecteur PPB\n",
    "    PPB[0]=5\n",
    "\n",
    "    for t in range(0,T):\n",
    "        if pfi[t]>cible:\n",
    "            PPB[t+1]=PPB[t]+(pfi[t]-cible)\n",
    "            revalo[t]=cible\n",
    "        elif pfi[t]<cible:\n",
    "            #Si PPB + Pfi suffisant\n",
    "            if PPB[t]+pfi[t]>cible:\n",
    "                PPB[t+1]=PPB[t]-(cible-pfi[t])\n",
    "                revalo[t]=cible\n",
    "            else:\n",
    "                PPB[t+1]=0\n",
    "                revalo[t]=np.max((0,pfi[t]+PPB[t]))\n",
    "                Proba[t]+=1./N\n",
    "plt.close()\n",
    "plt.bar(u,Proba*100)\n",
    "plt.ylabel(\"Probabilité de ne pas servir la cible (en %)\")\n",
    "plt.xlabel(\"nombre d'années de projection\")\n",
    "plt.show()"
   ]
  },
  {
   "cell_type": "markdown",
   "metadata": {},
   "source": [
    "#### 4. On tient maintenant compte de la contrainte de reprise des sommes dotées en PPB sous 8 ans.  Modifiez le code de la question 2 pour déterminer les chroniques de revalorisation dans ces nouvelles conditions."
   ]
  },
  {
   "cell_type": "code",
   "execution_count": 67,
   "metadata": {},
   "outputs": [
    {
     "data": {
      "image/png": "[encoded data removed]",
      "text/plain": [
       "<matplotlib.figure.Figure at 0x271f1963898>"
      ]
     },
     "metadata": {},
     "output_type": "display_data"
    }
   ],
   "source": [
    "#écrivez ici votre réponse\n",
    "import numpy as np\n",
    "from matplotlib import pyplot as plt\n",
    "#2.a On définit l'horizon temporel\n",
    "T=30\n",
    "pfi=np.random.randn(T)*5+5\n",
    "cible=4.5\n",
    "\n",
    "#Pour afficher le graphique, on utilise \"bar(x,y)\" où x correspond ici aux années de\n",
    "#projection et y à la valeur calculée (hauteur des barres).\n",
    "u=np.linspace(1,T,T)\n",
    "\n",
    "#2.b \n",
    "#On initialise les tableaux\n",
    "revalo=np.zeros(T+1)\n",
    "#Cette fois-ci, la PPB est à un tableau multidimensionnel (T+1,8)\n",
    "PPB=np.zeros((T+1,8))\n",
    "#On initialise le vecteur PPB\n",
    "PPB[0,0]=5\n",
    "#Puis on réalise une boucle de projection\n",
    "for t in range(0,T):\n",
    "    PPB[t+1,1:7]=PPB[t,0:6]\n",
    "    if pfi[t]+PPB[t,6]>cible:\n",
    "        if PPB[t,6]>cible:\n",
    "            revalo[t]=PPB[t,6]\n",
    "            PPB[t+1,0]=pfi[t]\n",
    "        else:\n",
    "            revalo[t]=cible\n",
    "            PPB[t+1,0]=(pfi[t]-cible)\n",
    "        \n",
    "    elif pfi[t]+PPB[t,6]<=cible:\n",
    "        #Si PPB + Pfi suffisant : on regarde pour ça la somme suivant la dimension (1) (et non 0)\n",
    "        #des sommes disponibles sur la PPB.\n",
    "        servi=pfi[t]\n",
    "\n",
    "        #Dans tous les cas on sert les sommes en 8ème année\n",
    "        servi+=PPB[t,6]\n",
    "\n",
    "        k=1\n",
    "        #on fait une boucle while pour itérer sur les anciennetés de PPB\n",
    "        while (servi<cible)&(k<=7):\n",
    "            #astuce de syntaxe: plutôt que d'écrire a=a+1, on peut écrire a+=1\n",
    "            #8 = 5\n",
    "            servi_old=servi\n",
    "            servi+=np.min((PPB[t+1,7-k],np.max((0,cible-servi))))\n",
    "            PPB[t+1,7-k]-=servi-servi_old\n",
    "\n",
    "            k+=1\n",
    "        revalo[t]=servi\n",
    "        \n",
    "\n",
    "plt.close()\n",
    "plt.figure(figsize=(15,7))\n",
    "plt.subplot(1,3,1)\n",
    "plt.title(\"produits\")\n",
    "plt.bar(u,pfi[0:T])\n",
    "plt.subplot(1,3,2)\n",
    "plt.bar(u,revalo[1:T+1])\n",
    "plt.title(\"revalorisation\")\n",
    "plt.subplot(1,3,3)\n",
    "plt.bar(u,PPB[0:T,:].sum(1))\n",
    "plt.title(\"PPB\")\n",
    "\n",
    "\n",
    "plt.show()\n",
    "plt.close()\n",
    "\n"
   ]
  },
  {
   "cell_type": "markdown",
   "metadata": {},
   "source": [
    "#### 5. Par analogie avec la question 3, calculez la nouvelle probabilité de ne pas servir la cible de revalorisation. "
   ]
  },
  {
   "cell_type": "code",
   "execution_count": 68,
   "metadata": {},
   "outputs": [
    {
     "data": {
      "image/png": "[encoded data removed]",
      "text/plain": [
       "<matplotlib.figure.Figure at 0x271f14a7588>"
      ]
     },
     "metadata": {},
     "output_type": "display_data"
    }
   ],
   "source": [
    "#écrivez ici votre réponse\n",
    "import numpy as np\n",
    "from matplotlib import pyplot as plt\n",
    "\n",
    "#On définit le nombre d'itérations \n",
    "N=10000\n",
    "\n",
    "T=30\n",
    "\n",
    "cible=4.5\n",
    "\n",
    "#On initialise le vecteur de probabilité de ne pas servir la cible :\n",
    "Proba_sup=np.zeros(T)\n",
    "Proba_inf=np.zeros(T)\n",
    "\n",
    "\n",
    "#Pour afficher le graphique, on utilise \"bar(x,y)\" où x correspond ici aux années de\n",
    "#projection et y à la valeur calculée (hauteur des barres).\n",
    "u=np.linspace(1,T,T)\n",
    "\n",
    "for i in range(0,N):\n",
    "    #on initialise l'aléa\n",
    "    pfi=np.random.randn(T)*5+5\n",
    "    #On initialise les tableaux\n",
    "    revalo=np.zeros(T+1)\n",
    "    #Cette fois-ci, la PPB est à un tableau multidimensionnel (T+1,8)\n",
    "    PPB=np.zeros((T+1,8))\n",
    "    #On initialise le vecteur PPB\n",
    "    PPB[0,0]=5\n",
    "    #Puis on réalise une boucle de projection\n",
    "    for t in range(0,T):\n",
    "        PPB[t+1,1:7]=PPB[t,0:6]\n",
    "        if pfi[t]+PPB[t,6]>cible:\n",
    "            if PPB[t,6]>cible:\n",
    "                revalo[t]=PPB[t,6]\n",
    "                PPB[t+1,0]=pfi[t]\n",
    "            else:\n",
    "                revalo[t]=cible\n",
    "                PPB[t+1,0]=(pfi[t]-cible)\n",
    "\n",
    "        elif pfi[t]+PPB[t,6]<=cible:\n",
    "            #Si PPB + Pfi suffisant : on regarde pour ça la somme suivant la dimension (1) (et non 0)\n",
    "            #des sommes disponibles sur la PPB.\n",
    "            servi=pfi[t]\n",
    "\n",
    "            #Dans tous les cas on sert les sommes en 8ème année\n",
    "            servi+=PPB[t,6]\n",
    "\n",
    "            k=1\n",
    "            #on fait une boucle while pour itérer sur les anciennetés de PPB\n",
    "            while (servi<cible)&(k<=7):\n",
    "                #astuce de syntaxe: plutôt que d'écrire a=a+1, on peut écrire a+=1\n",
    "                #8 = 5\n",
    "                servi_old=servi\n",
    "                servi+=np.min((PPB[t+1,7-k],np.max((0,cible-servi))))\n",
    "                PPB[t+1,7-k]-=servi-servi_old\n",
    "\n",
    "                k+=1\n",
    "            revalo[t]=servi\n",
    "        if revalo[t]<cible:\n",
    "            Proba_inf[t]+=1/N\n",
    "        if revalo[t]>cible:\n",
    "            Proba_sup[t]+=1/N\n",
    "\n",
    "plt.close()\n",
    "plt.figure(figsize=(10,4))\n",
    "plt.subplot(121)\n",
    "plt.bar(u,Proba_inf[0:T]*100)\n",
    "plt.ylabel(\"Probabilité de servir moins que la cible (en %)\")\n",
    "plt.xlabel(\"nombre d'années de projection\")\n",
    "plt.subplot(122)\n",
    "plt.bar(u,Proba_sup[0:T]*100)\n",
    "plt.ylabel(\"Probabilité de servir plus que la cible (en %)\")\n",
    "plt.xlabel(\"nombre d'années de projection\")\n",
    "plt.show()\n",
    "plt.close()"
   ]
  },
  {
   "cell_type": "markdown",
   "metadata": {},
   "source": [
    "#### 6. Affichez alors le résultat sur le même graphique que le résultat obtenu en question 3 et commentez. \n",
    "\n",
    "Précision : dans un Notebook, les variables définies dans les cellules précédentes restent disponibles une fois calculées. Il n'est donc pas nécessaire de les re-calculer dans la cellule courante."
   ]
  },
  {
   "cell_type": "code",
   "execution_count": 69,
   "metadata": {},
   "outputs": [
    {
     "data": {
      "image/png": "[encoded data removed]",
      "text/plain": [
       "<matplotlib.figure.Figure at 0x271f1a0c588>"
      ]
     },
     "metadata": {},
     "output_type": "display_data"
    }
   ],
   "source": [
    "#Comparaison des deux graphiques\n",
    "plt.close()\n",
    "plt.figure()\n",
    "plt.bar(u,Proba[0:T]*100)\n",
    "plt.bar(u,Proba_inf[0:T]*100,alpha=0.6)\n",
    "plt.legend([\"sans 8 ans\",\"avec 8 ans\"])\n",
    "plt.ylabel(\"Probabilité de servir plus que la cible (en %)\")\n",
    "plt.xlabel(\"nombre d'années de projection\")\n",
    "plt.show()\n",
    "plt.close()"
   ]
  },
  {
   "cell_type": "markdown",
   "metadata": {
    "collapsed": true
   },
   "source": [
    "[double cliquer pour afficher l'espace de réponse]\n",
    "\n",
    "Sur les premières années, le comportement est relativement similaire, puis partir de 8 ans, la contrainte réglementaire de reprise des sommes dotées sous 8 ans commence à détériorer le niveau des revalorisations. "
   ]
  },
  {
   "cell_type": "markdown",
   "metadata": {},
   "source": [
    "#### 7. Que deviennent les résultats précédents si les sommes dotées en PPB doivent être reprises non pas sous 8 mais sous 10 ans ?"
   ]
  },
  {
   "cell_type": "code",
   "execution_count": 70,
   "metadata": {
    "collapsed": true
   },
   "outputs": [],
   "source": [
    "#Indiquez la réponse dans cette case"
   ]
  },
  {
   "cell_type": "markdown",
   "metadata": {
    "collapsed": true
   },
   "source": [
    "## B. Réserve de capitalisation\n",
    "\n",
    "#### 1. Quel est le but de la réserve de capitalisation ? Rappelez ci-dessous ses règles de dotation et de reprise"
   ]
  },
  {
   "cell_type": "markdown",
   "metadata": {},
   "source": [
    "[double cliquer pour afficher l'espace de réponse]"
   ]
  },
  {
   "cell_type": "markdown",
   "metadata": {},
   "source": [
    "#### 2. Calcul de la valeur d'une obligation : on suppose que l'on dispose des caractéristiques d'une obligation achetée au pair en fin d'année (nominal N, taux de coupon C, maturité M) et dont les échéances sont en fin d'année. On dispose également d'une courbe de taux sans risque spot r(t). En faisant l'hypothèse de l'absence de risque de crédit, écrire la formule de calcul de la valeur de marché d'une obligation."
   ]
  },
  {
   "cell_type": "markdown",
   "metadata": {},
   "source": [
    "[double cliquer pour afficher l'espace de réponse]"
   ]
  },
  {
   "cell_type": "markdown",
   "metadata": {},
   "source": [
    "Dans la suite du problème, on utilisera la courbe de taux spot EIOPA à fin 2018 jusqu'à la maturité 10 ans: "
   ]
  },
  {
   "cell_type": "code",
   "execution_count": 71,
   "metadata": {},
   "outputs": [
    {
     "data": {
      "image/png": "[encoded data removed]",
      "text/plain": [
       "<matplotlib.figure.Figure at 0x271f1a2e470>"
      ]
     },
     "metadata": {},
     "output_type": "display_data"
    }
   ],
   "source": [
    "import numpy as np\n",
    "from matplotlib import pyplot as plt\n",
    "r0=np.array([-0.093,-0.035,0.063,0.194,0.339,0.478,0.612,0.739,0.858,0.966])*1/100\n",
    "t=np.linspace(1,10,10)\n",
    "plt.close()\n",
    "plt.plot(t,r0)\n",
    "plt.show()"
   ]
  },
  {
   "cell_type": "markdown",
   "metadata": {},
   "source": [
    "#### 3. Implémentez une fonction qui applique la formule précédente et renvoie le prix de l'obligation comme une fonction des caractéristiques (M, C, N) et de la courbe de taux (tableau r)\n",
    "\n",
    "En python, il est possible de définir des fonctions personnalisées en utilisant \"def\". Par exemple :"
   ]
  },
  {
   "cell_type": "code",
   "execution_count": 72,
   "metadata": {
    "collapsed": true
   },
   "outputs": [],
   "source": [
    "def ma_fonction(x,y):\n",
    "    #On indique dans cette partie tout ce que fait la fonction (peut inclure des boucles, des conditions, etc.)\n",
    "    z=x+y\n",
    "    return y #valeur retournée par la fonction"
   ]
  },
  {
   "cell_type": "code",
   "execution_count": 73,
   "metadata": {
    "collapsed": true
   },
   "outputs": [],
   "source": [
    "#écrivez votre réponse ici\n",
    "def valeur(M,C,N,r):\n",
    "    valeur=0\n",
    "    for t in range(0,M):\n",
    "        valeur+=C*N*np.exp(-r[t]*(t+1)) #en convention exponentielle, sinon convention actuarielle 1/(1+r)^M\n",
    "    valeur+=N*np.exp(-r[t]*M)\n",
    "    return valeur"
   ]
  },
  {
   "cell_type": "code",
   "execution_count": 74,
   "metadata": {},
   "outputs": [
    {
     "name": "stdout",
     "output_type": "stream",
     "text": [
      "0.90791910115\n"
     ]
    }
   ],
   "source": [
    "#testez la fonction définie précédemment sur une obligation\n",
    "print(valeur(10,0,1,r0))"
   ]
  },
  {
   "cell_type": "markdown",
   "metadata": {},
   "source": [
    "#### 4. Le portefeuille d'un assureur A des composé des obligations suivantes achetées au pair :\n",
    "- Obligation 1, maturité 10 ans, coupon 3.2%, nominal 50 M€ ;\n",
    "- Obligation 2, maturité 7 ans, coupon 2.8%, nominal 50 M€ ;\n",
    "- Obligation 3, maturité 5 ans, coupon 1.8%, nominal 50 M€ ;\n",
    "- Obligation 4, maturité 2 ans, coupon 1.2%, nominal 25 M€ ;\n",
    "- Obligation 5, maturité 1 ans, coupon 1%, nominal 25 M€ ;\n",
    "\n",
    "Calculez la valeur de marché du portefeuille d'actifs de A"
   ]
  },
  {
   "cell_type": "code",
   "execution_count": 75,
   "metadata": {},
   "outputs": [
    {
     "name": "stdout",
     "output_type": "stream",
     "text": [
      "248.258408005\n"
     ]
    }
   ],
   "source": [
    "#écrivez votre réponse ici\n",
    "\n",
    "Portefeuille=[[10,3.2/100,50],\n",
    "              [7,2.8/100,50],\n",
    "              [5,1.8/100,50],\n",
    "              [2,1.2/100,25],\n",
    "              [1,1/100,50]]\n",
    "vm=0\n",
    "for obligation in Portefeuille:#On boucle sur les objets de portefeuille\n",
    "    vm+=valeur(obligation[0],obligation[1],obligation[2],r0)\n",
    "print(vm)"
   ]
  },
  {
   "cell_type": "markdown",
   "metadata": {
    "collapsed": true
   },
   "source": [
    "#### 5.a On suppose de la valeur de la réserve de capitalisation de l'assureur est aujourd'hui nulle. Que se passerait-il si les obligations en portefeuille étaient cédées aujourd'hui ?"
   ]
  },
  {
   "cell_type": "code",
   "execution_count": 76,
   "metadata": {},
   "outputs": [
    {
     "name": "stdout",
     "output_type": "stream",
     "text": [
      "RKPI: 48.2584080047\n"
     ]
    }
   ],
   "source": [
    "#écrivez votre réponse ici\n",
    "\n",
    "#On doterait la réserve de capitalisation à hauteur de :\n",
    "print(\"RKPI:\",vm-200)#On retire la VNC"
   ]
  },
  {
   "cell_type": "markdown",
   "metadata": {},
   "source": [
    "#### 5.b Décrivez le nouveau portefeuille d'actif si l'on rachetait une obligation au pair et sans risque de maturité 10 ans dont on précisera les caractéristiques ?"
   ]
  },
  {
   "cell_type": "code",
   "execution_count": 77,
   "metadata": {},
   "outputs": [
    {
     "name": "stdout",
     "output_type": "stream",
     "text": [
      "[ 1.00093043  1.00070025  0.99811178  0.99227003  0.98319284  0.97172737\n",
      "  0.95806467  0.94259365  0.92568618  0.9079191 ]\n",
      "Taux de coupon:  0.951131409288 % , VM = N = 248.258408005\n"
     ]
    }
   ],
   "source": [
    "#écrivez votre réponse ici\n",
    "\n",
    "#On calcule les zero-coupons associés à la courbe de taux r0:\n",
    "#astuce:il est possible de donner à une fonction telle que exponentielle un tableau de valeur, ou un produit \n",
    "#terme à terme de tableaux de valeurs. On obtient alors en sortie la fonction appliquée à chaque terme du tableau\n",
    "ZC0=np.exp(-np.linspace(1,10,10)*r0)\n",
    "\n",
    "print(ZC0)\n",
    "\n",
    "#Pour rappel, VM_oblig=Sum_t C*N*ZC(t) + N ZC(M), c'est à dire\n",
    "#C=(VM-N ZC(M))/(N Sum_t ZC(t))\n",
    "#Si l'obligation est achetée au pair, alors vm=N=248,...\n",
    "C=(1-ZC0[9])/(ZC0.sum())\n",
    "print(\"Taux de coupon: \",C*100,\"%\", \", VM = N =\",vm)"
   ]
  },
  {
   "cell_type": "markdown",
   "metadata": {},
   "source": [
    "#### On suppose que la participation aux bénéfices prévue contractuellement inclût 90 % des produits des actifs en représentation des provisions mathématiques et les coupons et nominaux reçus sont réinvestis en trésorerie, laquelle est revalorisée d'année en année au taux sans risque calculé à partir de la courbe des taux fournie.\n",
    "\n",
    "#### 6. Calculez les produits financiers entrant dans la participation aux bénéfices associés avec les deux stratégies d'investissement ainsi que la part de produits financiers revenant à l'assureur.\n",
    "\n",
    "##### 6.a stratégie 1 : conservation des actifs du portefeuille initial jusqu'à l'échéance"
   ]
  },
  {
   "cell_type": "code",
   "execution_count": 81,
   "metadata": {},
   "outputs": [
    {
     "name": "stdout",
     "output_type": "stream",
     "text": [
      "Produits financiers 50.4210162529\n",
      "Produits financiers partagés 45.3789146276\n",
      "Produits financiers assureur 5.04210162529\n"
     ]
    }
   ],
   "source": [
    "#écrivez votre réponse ici\n",
    "\n",
    "pfi=0\n",
    "cash=0\n",
    "\n",
    "for t in range(0,10):\n",
    "    if t>0:\n",
    "        cash*=ZC0[t-1]/ZC0[t]\n",
    "        pfi+=cash*(ZC0[t-1]/ZC0[t]-1)\n",
    "\n",
    "    for oblig in Portefeuille:\n",
    "        if t<=oblig[0]:#t<=Maturité\n",
    "            pfi+=oblig[1]*oblig[2]#coupon * nominal\n",
    "            cash+=oblig[1]*oblig[2]\n",
    "        if t==oblig[0]:#==Maturité\n",
    "            cash+=oblig[2]#nominal\n",
    "\n",
    "            \n",
    "print(\"Produits financiers\",pfi)\n",
    "print(\"Produits financiers partagés\",pfi*0.9)\n",
    "print(\"Produits financiers assureur\",pfi*0.1)"
   ]
  },
  {
   "cell_type": "markdown",
   "metadata": {},
   "source": [
    "##### 6.b stratégie 2 : vente de l'ensemble des actifs puis conservation jusqu'à l'échéance"
   ]
  },
  {
   "cell_type": "code",
   "execution_count": 82,
   "metadata": {},
   "outputs": [
    {
     "name": "stdout",
     "output_type": "stream",
     "text": [
      "Produits financiers 25.2037003232\n",
      "Produits finannciers partagés 18.2739674142\n",
      "Produits financiers assureur 6.929732909\n"
     ]
    }
   ],
   "source": [
    "#écrivez votre réponse ici\n",
    "\n",
    "pfi=0\n",
    "cash=0\n",
    "\n",
    "Portefeuille2=[[10,C,vm]]\n",
    "\n",
    "for t in range(0,10):\n",
    "    if t>0:\n",
    "        cash*=ZC0[t-1]/ZC0[t]\n",
    "        pfi+=cash*(ZC0[t-1]/ZC0[t]-1)\n",
    "    for oblig in Portefeuille2:\n",
    "        if t<=oblig[0]:#t<=Maturité\n",
    "            pfi+=oblig[1]*oblig[2]#coupon * nominal\n",
    "            cash+=oblig[1]*oblig[2]\n",
    "        if t==oblig[0]:#==Maturité\n",
    "            cash+=oblig[2]#nominal\n",
    "\n",
    "            \n",
    "print(\"Produits financiers\",pfi)\n",
    "#On partage seulement les produits financiers en face de la PM (le total des provisions étant constitué \n",
    "#de la PM et de la réserve de capitalisation)\n",
    "print(\"Produits finannciers partagés\",pfi*0.9*200/vm)\n",
    "print(\"Produits financiers assureur\",pfi*(1-0.9*200/vm))\n"
   ]
  },
  {
   "cell_type": "markdown",
   "metadata": {},
   "source": [
    "#### 6.c Commentez : sans la réserve de capitalisation, le montant de produits financiers in fine partagés avec les assurés aurait-il été inférieur à celui partagé avec celle-ci ? Quel est l'objet de la réserve de capitalisation ?"
   ]
  },
  {
   "cell_type": "code",
   "execution_count": 83,
   "metadata": {},
   "outputs": [
    {
     "name": "stdout",
     "output_type": "stream",
     "text": [
      "Produits financiers 73.4621083278\n",
      "Produits financiers partagés 53.2637730391\n",
      "Produits financiers assureur 20.1983352887\n"
     ]
    }
   ],
   "source": [
    "#écrivez votre réponse ici\n",
    "\n",
    "pfi=vm-200\n",
    "cash=0\n",
    "\n",
    "Portefeuille2=[[10,C,vm]]\n",
    "\n",
    "for t in range(0,10):\n",
    "    if t>0:\n",
    "        cash*=ZC0[t-1]/ZC0[t]\n",
    "        pfi+=cash*(ZC0[t-1]/ZC0[t]-1)\n",
    "    for oblig in Portefeuille2:\n",
    "        if t<=oblig[0]:#t<=Maturité\n",
    "            pfi+=oblig[1]*oblig[2]#coupon * nominal\n",
    "            cash+=oblig[1]*oblig[2]\n",
    "        if t==oblig[0]:#==Maturité\n",
    "            cash+=oblig[2]#nominal\n",
    "\n",
    "            \n",
    "print(\"Produits financiers\",pfi)\n",
    "#On partage seulement les produits financiers en face de la PM (le total des provisions étant constitué \n",
    "#de la PM et de la réserve de capitalisation)\n",
    "print(\"Produits financiers partagés\",pfi*0.9*200/vm)\n",
    "print(\"Produits financiers assureur\",pfi*(1-0.9*200/vm))"
   ]
  },
  {
   "cell_type": "markdown",
   "metadata": {},
   "source": [
    "En l'absence de réserve de capitalisation, les montants partagés au titre de la PB ainsi que les produits financiers conservés par l'assureur auraient été nettement plus importants, ce qui aurait fait peser le risque que les produits financiers conservés par l'assureur soient distribués sous forme de dividendes. La réserve de capitalisation conduit à conserver les richesses obligataires et à limiter l'intérêt de cessions brutales de titres obligataires en période de taux bas."
   ]
  },
  {
   "cell_type": "code",
   "execution_count": null,
   "metadata": {
    "collapsed": true
   },
   "outputs": [],
   "source": []
  }
 ],
 "metadata": {
  "kernelspec": {
   "display_name": "Python 3",
   "language": "python",
   "name": "python3"
  },
  "language_info": {
   "codemirror_mode": {
    "name": "ipython",
    "version": 3
   },
   "file_extension": ".py",
   "mimetype": "text/x-python",
   "name": "python",
   "nbconvert_exporter": "python",
   "pygments_lexer": "ipython3",
   "version": "3.6.1"
  }
 },
 "nbformat": 4,
 "nbformat_minor": 2
}
