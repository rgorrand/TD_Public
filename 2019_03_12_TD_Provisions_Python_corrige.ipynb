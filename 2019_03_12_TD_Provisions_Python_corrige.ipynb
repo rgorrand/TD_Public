{
 "cells": [
  {
   "cell_type": "markdown",
   "metadata": {},
   "source": [
    "# TD CEA 1 - Autres provisions techniques : initiation à Python\n",
    "## 3 Octobre 2019\n",
    "\n",
    "### Préliminaires\n",
    "Ce document est ce que l'on appelle un \"Notebook\". Il s'agit d'un format un peu particulier qui permet de combiner à la fois du texte et des morceaux de code, contenus dans des cellules, qui peuvent s'exécuter les unes à la suite des autres. Il est possible de faire apparaître dans le Notebook les résultats de l'exécution du code (chiffres, graphiques) à mesure que celui-ci est excécuté. Pour exécuter une cellule de code, on peut cliquer sur \"Exécuter\" ci-dessus, ou encore appuyer simultanément sur \"Maj\" et \"Entrée\".\n",
    "\n",
    "Ceci est rendu possible par le fait que, tout comme R ou Matlab, Python est un language interprêté. A l'inverse d'un langage compilé (p.ex. C) qui doit être lu d'un bloc pour être exécuté, un langage interprêté peut être lu au fur et à mesure de son exécution.\n",
    "\n",
    "Remarque : Le format Notebook n'est en rien obligatoire et il est aussi tout à fait possible de créer des programmes python d'un seul bloc ! De manière générale, si vous le souhaitez et si vous disposez de pas ou peu de bases en termes de programmation, vous pouvez vous reporter au tutoriel OpenClassroom suivant:\n",
    "https://openclassrooms.com/fr/courses/235344-apprenez-a-programmer-en-python\n",
    "\n",
    "## Introduction à Python\n",
    "Tout d'abord, quelques rappels ou règles de base en python.\n",
    "\n",
    "### Les variables\n",
    "Pour déclarer une variable, il suffit de la nommer et de lui assigner une valeur, par exemple, les variables a et b ci-dessous:"
   ]
  },
  {
   "cell_type": "code",
   "execution_count": 140,
   "metadata": {
    "collapsed": true
   },
   "outputs": [],
   "source": [
    "a=4\n",
    "b=2"
   ]
  },
  {
   "cell_type": "markdown",
   "metadata": {},
   "source": [
    "On peut alors créer deux autres variables c et d que l'on définit comme le produit et la somme de a et b et afficher leurs valeurs:"
   ]
  },
  {
   "cell_type": "code",
   "execution_count": 141,
   "metadata": {},
   "outputs": [
    {
     "name": "stdout",
     "output_type": "stream",
     "text": [
      "c = 8\n",
      "d = 6\n"
     ]
    }
   ],
   "source": [
    "c=a*b\n",
    "d=a+b\n",
    "\n",
    "print(\"c =\",c)\n",
    "print(\"d =\",d)"
   ]
  },
  {
   "cell_type": "markdown",
   "metadata": {},
   "source": [
    "Vous pouvez alors remonter quelques lignes plus haut et changer la valeur de a et b, puis actualiser les calculs en exécutant les briques de code.\n",
    "L'instruction print est une fonction dont les arguments (renseignés à l'intérieur de parenthèses) sont une liste de choses à afficher à la suite sur une même ligne. \n",
    "\n",
    "Dans l'instruction print(\"c =\",c), on a demandé l'affichage de la chaine de caractères \"c =\" (entourée de guillemets pour signifier qu'il s'agit de texte), puis de c."
   ]
  },
  {
   "cell_type": "markdown",
   "metadata": {},
   "source": [
    "## Les listes\n",
    "Il est possible de regrouper des variables dans des \"listes\". Une liste se présente sous la forme d'une suite d'éléments délimitée par des crochets et séparés par des virgules.\n",
    "\n",
    "On peut appeler les éléments constituant une boucle à l'aide de crochets. Le i-ème élément peut ainsi être appelé par liste[i].\n",
    "Par exemple :"
   ]
  },
  {
   "cell_type": "code",
   "execution_count": 142,
   "metadata": {},
   "outputs": [
    {
     "name": "stdout",
     "output_type": "stream",
     "text": [
      "[1, 3, 5]\n",
      "1er élément: 1\n",
      "dernier élément: 5\n"
     ]
    }
   ],
   "source": [
    "liste=[1,3,5]\n",
    "print(liste)\n",
    "print(\"1er élément:\",liste[0])\n",
    "print(\"dernier élément:\",liste[2])"
   ]
  },
  {
   "cell_type": "markdown",
   "metadata": {},
   "source": [
    "Attention, comme dans Matlab mais contrairement à R, les listes sont indexées à partir de 0 et non à partir de 1.\n",
    "Pour récupérer le N-ième élément d'une liste, il faut donc appeler liste[N-1].\n",
    "\n",
    "On peut concaténer deux listes ensemble en utilisant l'opérateur d'addition + :"
   ]
  },
  {
   "cell_type": "code",
   "execution_count": 143,
   "metadata": {
    "scrolled": true
   },
   "outputs": [
    {
     "name": "stdout",
     "output_type": "stream",
     "text": [
      "[1, 3, 5, 'a']\n"
     ]
    }
   ],
   "source": [
    "liste=liste+[\"a\"]\n",
    "print(liste)"
   ]
  },
  {
   "cell_type": "markdown",
   "metadata": {},
   "source": [
    "Python est un langage dit \"objet\". Une liste est ainsi un objet qui contient à la fois des données (les termes de la liste), mais également des méthodes. Il s'agit de fonctions qui peuvent effectuer des opérations spécifiques sur la liste. De manière générale, on accède aux méthodes en utilisant le point (.) : liste.fonction(argument de la fonction).\n",
    "\n",
    "On peut alors par exemple ajouter un élément à la liste en utilisant la fonction append: "
   ]
  },
  {
   "cell_type": "code",
   "execution_count": 144,
   "metadata": {},
   "outputs": [
    {
     "name": "stdout",
     "output_type": "stream",
     "text": [
      "[1, 3, 5, 'a', 'un terme ajouté']\n"
     ]
    }
   ],
   "source": [
    "liste.append(\"un terme ajouté\")\n",
    "print(liste)"
   ]
  },
  {
   "cell_type": "markdown",
   "metadata": {},
   "source": [
    "On peut également utiliser l'instruction \"pop\" pour supprimer. De manière générale pour voir la documentation associée à un objet et les différentes fonctions utilisables, on peut utiliser la fonction help."
   ]
  },
  {
   "cell_type": "code",
   "execution_count": 145,
   "metadata": {},
   "outputs": [
    {
     "name": "stdout",
     "output_type": "stream",
     "text": [
      "Help on list object:\n",
      "\n",
      "class list(object)\n",
      " |  list() -> new empty list\n",
      " |  list(iterable) -> new list initialized from iterable's items\n",
      " |  \n",
      " |  Methods defined here:\n",
      " |  \n",
      " |  __add__(self, value, /)\n",
      " |      Return self+value.\n",
      " |  \n",
      " |  __contains__(self, key, /)\n",
      " |      Return key in self.\n",
      " |  \n",
      " |  __delitem__(self, key, /)\n",
      " |      Delete self[key].\n",
      " |  \n",
      " |  __eq__(self, value, /)\n",
      " |      Return self==value.\n",
      " |  \n",
      " |  __ge__(self, value, /)\n",
      " |      Return self>=value.\n",
      " |  \n",
      " |  __getattribute__(self, name, /)\n",
      " |      Return getattr(self, name).\n",
      " |  \n",
      " |  __getitem__(...)\n",
      " |      x.__getitem__(y) <==> x[y]\n",
      " |  \n",
      " |  __gt__(self, value, /)\n",
      " |      Return self>value.\n",
      " |  \n",
      " |  __iadd__(self, value, /)\n",
      " |      Implement self+=value.\n",
      " |  \n",
      " |  __imul__(self, value, /)\n",
      " |      Implement self*=value.\n",
      " |  \n",
      " |  __init__(self, /, *args, **kwargs)\n",
      " |      Initialize self.  See help(type(self)) for accurate signature.\n",
      " |  \n",
      " |  __iter__(self, /)\n",
      " |      Implement iter(self).\n",
      " |  \n",
      " |  __le__(self, value, /)\n",
      " |      Return self<=value.\n",
      " |  \n",
      " |  __len__(self, /)\n",
      " |      Return len(self).\n",
      " |  \n",
      " |  __lt__(self, value, /)\n",
      " |      Return self<value.\n",
      " |  \n",
      " |  __mul__(self, value, /)\n",
      " |      Return self*value.n\n",
      " |  \n",
      " |  __ne__(self, value, /)\n",
      " |      Return self!=value.\n",
      " |  \n",
      " |  __new__(*args, **kwargs) from builtins.type\n",
      " |      Create and return a new object.  See help(type) for accurate signature.\n",
      " |  \n",
      " |  __repr__(self, /)\n",
      " |      Return repr(self).\n",
      " |  \n",
      " |  __reversed__(...)\n",
      " |      L.__reversed__() -- return a reverse iterator over the list\n",
      " |  \n",
      " |  __rmul__(self, value, /)\n",
      " |      Return self*value.\n",
      " |  \n",
      " |  __setitem__(self, key, value, /)\n",
      " |      Set self[key] to value.\n",
      " |  \n",
      " |  __sizeof__(...)\n",
      " |      L.__sizeof__() -- size of L in memory, in bytes\n",
      " |  \n",
      " |  append(...)\n",
      " |      L.append(object) -> None -- append object to end\n",
      " |  \n",
      " |  clear(...)\n",
      " |      L.clear() -> None -- remove all items from L\n",
      " |  \n",
      " |  copy(...)\n",
      " |      L.copy() -> list -- a shallow copy of L\n",
      " |  \n",
      " |  count(...)\n",
      " |      L.count(value) -> integer -- return number of occurrences of value\n",
      " |  \n",
      " |  extend(...)\n",
      " |      L.extend(iterable) -> None -- extend list by appending elements from the iterable\n",
      " |  \n",
      " |  index(...)\n",
      " |      L.index(value, [start, [stop]]) -> integer -- return first index of value.\n",
      " |      Raises ValueError if the value is not present.\n",
      " |  \n",
      " |  insert(...)\n",
      " |      L.insert(index, object) -- insert object before index\n",
      " |  \n",
      " |  pop(...)\n",
      " |      L.pop([index]) -> item -- remove and return item at index (default last).\n",
      " |      Raises IndexError if list is empty or index is out of range.\n",
      " |  \n",
      " |  remove(...)\n",
      " |      L.remove(value) -> None -- remove first occurrence of value.\n",
      " |      Raises ValueError if the value is not present.\n",
      " |  \n",
      " |  reverse(...)\n",
      " |      L.reverse() -- reverse *IN PLACE*\n",
      " |  \n",
      " |  sort(...)\n",
      " |      L.sort(key=None, reverse=False) -> None -- stable sort *IN PLACE*\n",
      " |  \n",
      " |  ----------------------------------------------------------------------\n",
      " |  Data and other attributes defined here:\n",
      " |  \n",
      " |  __hash__ = None\n",
      "\n"
     ]
    }
   ],
   "source": [
    "help(liste)"
   ]
  },
  {
   "cell_type": "code",
   "execution_count": 146,
   "metadata": {},
   "outputs": [
    {
     "name": "stdout",
     "output_type": "stream",
     "text": [
      "[1, 3, 5, 'a']\n"
     ]
    }
   ],
   "source": [
    "liste.pop(4)\n",
    "print(liste)"
   ]
  },
  {
   "cell_type": "markdown",
   "metadata": {},
   "source": [
    "Il n'y a pas de contrainte particulière sur les listes et on peut ainsi faire facilement des listes de liste"
   ]
  },
  {
   "cell_type": "code",
   "execution_count": 147,
   "metadata": {},
   "outputs": [
    {
     "name": "stdout",
     "output_type": "stream",
     "text": [
      "[[1, 0.25, 0.25], [0.25, 1, 0], [0.25, 0, 1]]\n",
      "[0.25, 1, 0]\n"
     ]
    }
   ],
   "source": [
    "matrice=[[1,0.25,0.25],[0.25,1,0],[0.25,0,1]]\n",
    "print(matrice)\n",
    "print(matrice[1])"
   ]
  },
  {
   "cell_type": "markdown",
   "metadata": {},
   "source": [
    "Puis on accède par double crochet aux éléments de la liste de liste : matrice[i][j] renvoie ainsi la i-ème ligne et j-ème colonne:"
   ]
  },
  {
   "cell_type": "code",
   "execution_count": 148,
   "metadata": {},
   "outputs": [
    {
     "name": "stdout",
     "output_type": "stream",
     "text": [
      "1\n",
      "0.25\n"
     ]
    }
   ],
   "source": [
    "print(matrice[0][0])\n",
    "print(matrice[1][0])\n"
   ]
  },
  {
   "cell_type": "markdown",
   "metadata": {},
   "source": [
    "## Les conditions et tests logiques\n",
    "Les tests logiques s'écrivent comme à l'aide des opérateurs \"==\" pour vérifier une égalité ou != pour une différence."
   ]
  },
  {
   "cell_type": "code",
   "execution_count": 149,
   "metadata": {},
   "outputs": [
    {
     "name": "stdout",
     "output_type": "stream",
     "text": [
      "1 égal 0? False\n",
      "1 différent de 0 ? True\n"
     ]
    }
   ],
   "source": [
    "print(\"1 égal 0?\",1==0)\n",
    "print(\"1 différent de 0 ?\",1!=0)"
   ]
  },
  {
   "cell_type": "markdown",
   "metadata": {},
   "source": [
    "Il est également possible de tester des inégalités (inférieur strict, inférieur ou égal):"
   ]
  },
  {
   "cell_type": "code",
   "execution_count": 150,
   "metadata": {},
   "outputs": [
    {
     "name": "stdout",
     "output_type": "stream",
     "text": [
      "False\n",
      "False\n",
      "False\n",
      "True\n"
     ]
    }
   ],
   "source": [
    "print(1<0)\n",
    "print(1<=0)\n",
    "print(1>1)\n",
    "print(1>=1)"
   ]
  },
  {
   "cell_type": "markdown",
   "metadata": {},
   "source": [
    "Les tests logiques peuvent également être combinés à l'aide des opérateurs ET (&) et OU (barre verticale : |)"
   ]
  },
  {
   "cell_type": "code",
   "execution_count": 151,
   "metadata": {},
   "outputs": [
    {
     "name": "stdout",
     "output_type": "stream",
     "text": [
      "True\n"
     ]
    }
   ],
   "source": [
    "un_test=(1==0)|(1!=0)\n",
    "print(un_test)"
   ]
  },
  {
   "cell_type": "code",
   "execution_count": 152,
   "metadata": {},
   "outputs": [
    {
     "name": "stdout",
     "output_type": "stream",
     "text": [
      "False\n"
     ]
    }
   ],
   "source": [
    "un_test=(1==0)&(1!=0)\n",
    "print(un_test)"
   ]
  },
  {
   "cell_type": "markdown",
   "metadata": {},
   "source": [
    "à partir de ces tests logiques, il est possible d'écrire des conditions.\n",
    "\n",
    "Python se caractérise par une syntaxe minimaliste et très visuelle. Contrairement à des langages comme le C ou le Java, il n'est pas nécessaire d'entourer une boucle de parenthèses ou d'accolades : on utilisera la tabulation pour indiquer les instructions qui font partie de la boucle. Ainsi, l'intendation du code n'est pas une simple bonne pratique mais fait partie intégrante de la syntaxe de Python.\n",
    "\n",
    "Les \"si\" s'écrirons simplement:"
   ]
  },
  {
   "cell_type": "code",
   "execution_count": 153,
   "metadata": {},
   "outputs": [],
   "source": [
    "i=2\n",
    "if i==0:\n",
    "    #on écrit les instructions à l'intérieur du if en les décalant d'une largeur de tabulation.\n",
    "    print(\"i est égal à 0\")\n"
   ]
  },
  {
   "cell_type": "markdown",
   "metadata": {},
   "source": [
    "## Les boucles\n",
    "Pour écrire des boucles \"for\", la syntaxe de Python aura ici aussi recours à la tabulation. \n",
    "\n",
    "### Exemple"
   ]
  },
  {
   "cell_type": "code",
   "execution_count": 154,
   "metadata": {},
   "outputs": [
    {
     "name": "stdout",
     "output_type": "stream",
     "text": [
      "pierre\n",
      "paul\n",
      "jean\n"
     ]
    }
   ],
   "source": [
    "a=0\n",
    "liste_i=[\"pierre\",\"paul\",\"jean\"]\n",
    "#ici, i va de 0 à 10 (exclu) et pour chaque valeur de i, les instructions dans la boucle sont exécutées\n",
    "for i in liste_i:\n",
    "    print(i)\n"
   ]
  },
  {
   "cell_type": "code",
   "execution_count": 155,
   "metadata": {},
   "outputs": [
    {
     "name": "stdout",
     "output_type": "stream",
     "text": [
      "38\n",
      "38\n"
     ]
    }
   ],
   "source": [
    "v1=[1,2,3]\n",
    "v2=[5,6,7]\n",
    "\n",
    "sumprod=v1[0]*v2[0]+v1[1]*v2[1]+v1[2]*v2[2]\n",
    "print(sumprod)\n",
    "\n",
    "sumprod=0\n",
    "for i in range(0,len(v1)):\n",
    "    sumprod=sumprod+v1[i]*v2[i]\n",
    "print(sumprod)"
   ]
  },
  {
   "cell_type": "code",
   "execution_count": null,
   "metadata": {
    "collapsed": true
   },
   "outputs": [],
   "source": []
  },
  {
   "cell_type": "markdown",
   "metadata": {},
   "source": [
    "Ici, on a initialisé une variable a, puis on a incrémentée celle-ci 10 fois de 1.\n",
    "La variable de boucle i a quant à elle pris ses valeurs entre 1 et 0 et 9 mais n'a pas été utilisée explicitement pour les calculs.\n",
    "\n",
    "Dans l'instruction range, on indique les deux extrémités de l'intervalle d'entiers à parcourir : la première est inclue, la seconde exclue. Ainsi, un range(0,n) comprendra n termes, de 0 à n-1.\n",
    "\n",
    "Les instructions à l'intérieur de la boucle peuvent être identifiées par une tabulation (touche tab). Pour sortir de la boucle, il suffira de revenir au niveau de tabulation inférieur. On peut bien entendu imbriquer plusieurs boucles les unes dans les autres en utilisant des doubles ou triples tabulations.\n",
    "\n",
    "N.B. : Les instructions For se terminent par un \":\" "
   ]
  },
  {
   "cell_type": "markdown",
   "metadata": {},
   "source": [
    "### Pratique\n",
    "#### 1. Adaptez la boucle de l'exemple précédent pour calculer la somme de i = 1 à 10 (inclus) de i et afficher les valeurs intermédiaires calculées."
   ]
  },
  {
   "cell_type": "code",
   "execution_count": 156,
   "metadata": {},
   "outputs": [
    {
     "name": "stdout",
     "output_type": "stream",
     "text": [
      "1 1\n",
      "2 3\n",
      "3 6\n",
      "4 10\n",
      "5 15\n",
      "6 21\n",
      "7 28\n",
      "8 36\n",
      "9 45\n",
      "10 55\n"
     ]
    }
   ],
   "source": [
    "somme=0\n",
    "for i in range (1 , 11):\n",
    "    somme=somme+i\n",
    "    print(i,somme)"
   ]
  },
  {
   "cell_type": "markdown",
   "metadata": {},
   "source": [
    "#### 2. Modifiez à la marge pour n'afficher que le résultat final obtenu à la dernière itération."
   ]
  },
  {
   "cell_type": "code",
   "execution_count": 157,
   "metadata": {},
   "outputs": [
    {
     "name": "stdout",
     "output_type": "stream",
     "text": [
      "25\n"
     ]
    }
   ],
   "source": [
    "somme=0\n",
    "for i in range (1 , 11,2):\n",
    "    somme=somme+i\n",
    "print(somme)\n"
   ]
  },
  {
   "cell_type": "markdown",
   "metadata": {},
   "source": [
    "De la même manière, il est possible de réaliser des boucles conditionnelles \"while\"."
   ]
  },
  {
   "cell_type": "code",
   "execution_count": 158,
   "metadata": {},
   "outputs": [
    {
     "name": "stdout",
     "output_type": "stream",
     "text": [
      "0 1\n",
      "1 2\n",
      "2 3\n",
      "3 4\n",
      "4 5\n",
      "5 6\n",
      "6 7\n",
      "7 8\n",
      "8 9\n",
      "9 10\n"
     ]
    }
   ],
   "source": [
    "a=0\n",
    "i=0\n",
    "while i<10:\n",
    "    a=a+1\n",
    "    print(i,a)\n",
    "    i=i+1\n"
   ]
  },
  {
   "cell_type": "markdown",
   "metadata": {},
   "source": [
    "#### 3. Réalisez une boucle \"while\" équivalente à la boucle \"for\" de la question 2."
   ]
  },
  {
   "cell_type": "code",
   "execution_count": 159,
   "metadata": {},
   "outputs": [
    {
     "name": "stdout",
     "output_type": "stream",
     "text": [
      "1 1\n",
      "2 3\n",
      "3 6\n",
      "4 10\n",
      "5 15\n",
      "6 21\n",
      "7 28\n",
      "8 36\n",
      "9 45\n",
      "10 55\n"
     ]
    }
   ],
   "source": [
    "i=1\n",
    "somme=0\n",
    "while  i<=10:\n",
    "    somme=somme+i\n",
    "    print(i, somme)\n",
    "    i=i+1\n",
    "    \n",
    "\n",
    "    #écrivez ici votre réponse\n"
   ]
  },
  {
   "cell_type": "markdown",
   "metadata": {},
   "source": [
    "# Les librairies : exemple de numpy et matplotlib"
   ]
  },
  {
   "cell_type": "markdown",
   "metadata": {
    "collapsed": true
   },
   "source": [
    "Python fait partie des langages dont la richesse se base sur les nombreuses librairies déjà développées et disponibles pour l'utilisateur. Outre les fonctions et la flexibilité qu'elles apportent, elles améliorent aussi le temps de calcul. Tout comme dans Matlab, les librairies orientées calcul sont ainsi implémentées dans des langages plus performants sur le plan du temps de calcul (p.ex. C++) sans que l'utilisateur en ait à supporter la lourdeur syntaxique.\n",
    "\n",
    "## Numpy\n",
    "Numpy est l'une des librairies centrales dès lors qu'il est question de calcul. Elle permet de travailler avec des tableaux de chiffres ou des matrices.\n",
    "\n",
    "Pour utiliser une librairie, on commence toujours par l'importer afin de charger ses composantes. On lui donne souvent un alias (ici, numpy sera raccourci en np)"
   ]
  },
  {
   "cell_type": "code",
   "execution_count": 160,
   "metadata": {
    "collapsed": true
   },
   "outputs": [],
   "source": [
    "import numpy as np"
   ]
  },
  {
   "cell_type": "markdown",
   "metadata": {},
   "source": [
    "Les fonctions et composantes de la librairie sont ainsi accessibles via le \".\" : np.composante. Parmi les nombreux composants disponibles pour l'utilisateur, on s'intéressera ici à \"array\", qui permet de définir des tableaux, et à \"random\" (et en particulier random.randn) qui génère des nombres aléatoires (suivant la loi normale)."
   ]
  },
  {
   "cell_type": "code",
   "execution_count": 161,
   "metadata": {},
   "outputs": [
    {
     "name": "stdout",
     "output_type": "stream",
     "text": [
      "tableau [ 0.  0.  0.  0.  0.  0.  0.  0.  0.  0.]\n",
      "matrice [[ 0.  0.  0.]\n",
      " [ 0.  0.  0.]\n",
      " [ 0.  0.  0.]\n",
      " [ 0.  0.  0.]\n",
      " [ 0.  0.  0.]\n",
      " [ 0.  0.  0.]\n",
      " [ 0.  0.  0.]\n",
      " [ 0.  0.  0.]\n",
      " [ 0.  0.  0.]\n",
      " [ 0.  0.  0.]]\n",
      "liste [1 2 3 4]\n",
      "alea [-0.80756943 -0.21263576  0.59839189  0.73972594  0.39450605  0.25234119\n",
      "  0.8906105   0.02827755 -0.0679853   1.00183912  0.55623116 -1.36750747\n",
      "  1.38544796 -0.52651276  0.94094888  0.87393286  1.16566622 -0.41359605\n",
      " -0.43095311  2.38977609  0.54126338 -0.39750378 -0.57874277 -0.2078277\n",
      " -0.84603426  0.69356767  0.16940912 -0.7035222  -0.5070479  -1.35711725\n",
      "  0.26456844  0.01351177  1.28339598 -1.21984348 -0.75989944  1.57850326\n",
      "  2.3218671  -1.36575126 -3.04983725  1.32233577 -0.35348729 -0.04574117\n",
      " -2.06482768 -0.96617657 -0.47464593 -0.11123517  0.11806467 -0.14501806\n",
      " -1.13255619 -1.09599209 -0.45697089  1.15603146  1.90721051  0.91460101\n",
      "  0.4889196  -0.90042968 -0.2050166   0.48790923 -0.77213655  1.14228105\n",
      "  0.92830401 -0.51387855  0.26334625 -0.84547333  0.1207535  -2.08269074\n",
      " -1.6776346   0.8245583   1.01311506  0.02348839  0.73826122  0.57436612\n",
      "  1.75647417  0.85720889  0.03769111  0.78142735 -0.91772084  1.93197936\n",
      "  0.29143218 -0.08309241  0.25049978  0.30997559 -0.56033912 -0.84271959\n",
      "  0.1047811   0.04348735 -1.21342825  1.98675809  2.43471925  2.02131001\n",
      " -1.08170438 -0.45480178  1.5363402   0.43569601  1.48789599 -1.19177724\n",
      "  0.49675532  0.55525147 -0.92225965  0.87495907]\n"
     ]
    }
   ],
   "source": [
    "#on définit un tableau unidimensionnel de dimension 10 (un vecteur) rempli de zeros :\n",
    "tableau=np.zeros(10)\n",
    "print(\"tableau\",tableau)\n",
    "#et une matrice de la même manière en donnant un couple de dimensions :\n",
    "matrice=np.zeros((10,3))\n",
    "print(\"matrice\",matrice)\n",
    "#Il est aussi possible de transformer une liste en tableau numpy :\n",
    "liste=np.array([1,2,3,4])\n",
    "print(\"liste\",liste)\n",
    "#On peut facilement générer des nombres aléatoires à l'aide de :\n",
    "alea=np.random.randn(100)\n",
    "print(\"alea\",alea)"
   ]
  },
  {
   "cell_type": "markdown",
   "metadata": {},
   "source": [
    "Ces tableaux sont des objets qui ont donc eux-mêmes des fonctions telles que max, sum (somme), mean (moyenne), std (écart-type)"
   ]
  },
  {
   "cell_type": "code",
   "execution_count": 162,
   "metadata": {},
   "outputs": [
    {
     "name": "stdout",
     "output_type": "stream",
     "text": [
      "par exemple: 12.3703290694 0.123703290694 1.04510457728 2.43471925421\n"
     ]
    }
   ],
   "source": [
    "import numpy as np\n",
    "print(\"par exemple:\",alea.sum(),alea.mean(),alea.std(),alea.max())"
   ]
  },
  {
   "cell_type": "markdown",
   "metadata": {},
   "source": [
    "Pour représenter graphiquement les résultats, on peut utiliser la librairie matplotlib (voir google pour de nombreux exemples). Un graphique simple peut par exemple s'écrire :"
   ]
  },
  {
   "cell_type": "code",
   "execution_count": 163,
   "metadata": {},
   "outputs": [
    {
     "data": {
      "image/png": "[encoded data removed]",
      "text/plain": [
       "<matplotlib.figure.Figure at 0x251b1891fd0>"
      ]
     },
     "metadata": {},
     "output_type": "display_data"
    }
   ],
   "source": [
    "from matplotlib import pyplot as plt\n",
    "#on s'assure que toutes les figures sont fermées:\n",
    "plt.close()\n",
    "#on crée une figure\n",
    "plt.figure()\n",
    "plt.plot(alea)\n",
    "#on affiche la figure\n",
    "plt.show()"
   ]
  },
  {
   "cell_type": "markdown",
   "metadata": {},
   "source": [
    "En pratique, toutes les instructions plot écrites avant d'afficher la figure seront superposées sur le même graphe, ce qui permet d'afficher plusieurs courbes sur une même figure. Ainsi, par exemple, on peut utiliser la fonction \"bar\" qui trace des barres verticales étant donné des vecteurs x (abscisses) et y (ordonnées). Pour créer les abscisses, on utilise par exemple ci-dessous la fonction linspace qui crée un vecteur (une grille de 1 à 100 contenant 100 points."
   ]
  },
  {
   "cell_type": "code",
   "execution_count": 164,
   "metadata": {},
   "outputs": [
    {
     "data": {
      "image/png": "[encoded data removed]",
      "text/plain": [
       "<matplotlib.figure.Figure at 0x251b0eef320>"
      ]
     },
     "metadata": {},
     "output_type": "display_data"
    },
    {
     "name": "stdout",
     "output_type": "stream",
     "text": [
      "x: [   1.    2.    3.    4.    5.    6.    7.    8.    9.   10.   11.   12.\n",
      "   13.   14.   15.   16.   17.   18.   19.   20.   21.   22.   23.   24.\n",
      "   25.   26.   27.   28.   29.   30.   31.   32.   33.   34.   35.   36.\n",
      "   37.   38.   39.   40.   41.   42.   43.   44.   45.   46.   47.   48.\n",
      "   49.   50.   51.   52.   53.   54.   55.   56.   57.   58.   59.   60.\n",
      "   61.   62.   63.   64.   65.   66.   67.   68.   69.   70.   71.   72.\n",
      "   73.   74.   75.   76.   77.   78.   79.   80.   81.   82.   83.   84.\n",
      "   85.   86.   87.   88.   89.   90.   91.   92.   93.   94.   95.   96.\n",
      "   97.   98.   99.  100.]\n"
     ]
    }
   ],
   "source": [
    "#on s'assure que toutes les figures sont fermées:\n",
    "plt.close()\n",
    "#on crée une figure\n",
    "plt.figure()\n",
    "plt.plot(alea)\n",
    "plt.bar(np.linspace(1,100,100),alea,color=\"r\")\n",
    "#on affiche la figure\n",
    "plt.show()\n",
    "print(\"x:\",np.linspace(1,100,100))"
   ]
  },
  {
   "cell_type": "markdown",
   "metadata": {},
   "source": [
    "# A. Provision pour participation aux bénéfices"
   ]
  },
  {
   "cell_type": "markdown",
   "metadata": {},
   "source": [
    "#### 1. Quel est le but de la provision pour participation aux bénéfices ? Rappelez ci-dessous ses règles de dotation et de reprise"
   ]
  },
  {
   "cell_type": "markdown",
   "metadata": {},
   "source": [
    "La provision pour participation aux bénéfices permet de lisser les rendements. Les sommes dotées doivent être reprises sous 8 ans. La PPB ne peut pas être utilisée pour servir les taux techniques."
   ]
  },
  {
   "cell_type": "markdown",
   "metadata": {},
   "source": [
    "#### 2. L'assureur A commercialise des produits d'épargne et souhaite distribuer à ses assurés un rendement stable année après année. Il s'est engagé contractuellement auprès de ses assurés à leur redistribuer 100% des produits financiers issus des actifs qu'il détient. Les produits financiers générés par ces actifs sont toutefois volatiles et l'assureur souhaite utiliser la PPB pour lisser le rendement servi aux assurés. \n",
    "\n",
    "On se placera dans la suite sur un horizon de projection de T=30 ans.\n",
    "\n",
    "##### 2.a. On propose de simuler aléatoirement les produits financiers dont dispose l'assureur chaque année : ils sont ainsi supposés suivre une loi normale de moyenne 5 M€ et de variance 5 M€.\n",
    "\n",
    "Définir un vecteur de réalisation des produis financiers disponibles année après année (sous la forme d'un tableau numpy à une dimension) en utilisant la fonction np.random.randn(n) qui renvoie un vecteur de n réalisations d'une loi normale N(0,1) (pour plus d'information sur cette fonction, help(np.random.randn).\n",
    "\n",
    "##### 2.b. On supposera dans un premier temps que la contrainte de reprise sous 8 ans des sommes dotées en PPB ne s'applique pas. \n",
    "- la PPB est initialement constituée de 5 M€\n",
    "- la cible de revalorisation, fixe à chaque année de projection, est de 4,5 M€.\n",
    "\n",
    "Lorsque les produits financiers sont suffisants pour remplir la cible de 4,5 M€, l'excédent est doté en PPB, lorsqu'ils sont inssufisants, une reprise est réalisée (sans toutefois que la provision puisse prendre des valeurs négatives).\n",
    "\n",
    "Calculez le vecteur \"revalo\" qui contiendra les revalorisations futures ainsi que le vecteur \"PPB\" qui représente l'évolution de la PPB tout au long de la projection.\n",
    "\n",
    "##### 2.c. Afficher à l'aide de la fonction \"plt.bar\" de matplotlib les trois vecteurs."
   ]
  },
  {
   "cell_type": "code",
   "execution_count": 165,
   "metadata": {},
   "outputs": [
    {
     "name": "stdout",
     "output_type": "stream",
     "text": [
      "[  3.36253385   7.08165467   5.66300685   7.94803196   1.23477074\n",
      "   3.44935091   0.50187972   6.3133742    4.75707011  10.72195412\n",
      "   3.12848491   2.50899013   1.96920072   2.64270548   2.86306015\n",
      "   1.63781736   4.10515999   4.69574286   3.8199831    3.80882856\n",
      "   4.01826479   7.02034846   1.55105691   8.33590945   5.29578505\n",
      "   0.9814442    3.81544689   6.56706579   6.08071687   7.54524133]\n",
      "[ 4.5         4.5         4.5         4.5         4.5         4.5         4.5\n",
      "  4.5         4.5         4.5         4.5         4.5         4.5         4.5\n",
      "  4.5         3.28388587  4.10515999  4.5         4.01572597  3.80882856\n",
      "  4.01826479  4.5         4.07140537  4.5         4.5         4.5         4.5\n",
      "  4.5         4.5         4.5       ]\n",
      "[  5.           3.86253385   6.44418852   7.60719537  11.05522733\n",
      "   7.78999807   6.73934898   2.74122869   4.55460289   4.811673\n",
      "  11.03362712   9.66211204   7.67110217   5.14030289   3.28300836\n",
      "   1.64606851   0.           0.           0.19574286   0.           0.           0.\n",
      "   2.52034846   0.           3.83590945   4.6316945    1.1131387\n",
      "   0.42858559   2.49565138   4.07636825   7.12160958]\n"
     ]
    },
    {
     "data": {
      "image/png": "[encoded data removed]",
      "text/plain": [
       "<matplotlib.figure.Figure at 0x251b1771358>"
      ]
     },
     "metadata": {},
     "output_type": "display_data"
    }
   ],
   "source": [
    "PFi=np.random.randn(30)\n",
    "PFi=PFi*np.sqrt(5)+5 #on multiplie par 5 et on ajoute 5 pour se ramnener à une N(5,5)\n",
    "print (PFi)\n",
    "\n",
    "#Pour chaque année on regarde le résultat\n",
    "#si resultat(i) <4,5 on prend la différence\n",
    "PPb=np.zeros(31)\n",
    "PPb[0]=5\n",
    "Revalo=np.zeros(30)\n",
    "seuil=4.5\n",
    "for i in range(0,30):\n",
    "    if PFi[i]>=seuil:\n",
    "        PPb[i+1]=PPb[i]+PFi[i]-seuil\n",
    "        Revalo[i]=seuil\n",
    "    else:\n",
    "        PPb[i+1]=max(0,PPb[i]+(PFi[i]-seuil))\n",
    "        Revalo[i]=PPb[i]-PPb[i+1]+PFi[i]\n",
    "print(Revalo)\n",
    "print(PPb)\n",
    "np.linspace(1,30,30)\n",
    "plt.close()\n",
    "plt.figure(figsize=(15,7))\n",
    "plt.subplot(131)\n",
    "plt.title(\"PFI\")\n",
    "plt.bar(np.linspace(1,30,30),PFi)\n",
    "plt.subplot(132)\n",
    "plt.title(\"PPB\")\n",
    "plt.bar(np.linspace(1,30,30),PPb[0:30])\n",
    "plt.subplot(133)\n",
    "plt.title(\"Revalo\")\n",
    "plt.bar(np.linspace(1,30,30),Revalo)\n",
    "plt.show()\n",
    "plt.close()"
   ]
  },
  {
   "cell_type": "markdown",
   "metadata": {
    "collapsed": true
   },
   "source": [
    "#### 3. On souhaite maintenant calculer à chaque pas de projection la probabilité que la revalorisation cible ne soit pas atteinte. \n",
    "\n",
    "Adaptez la réponse à la question 2 pour simuler un grand nombre de trajectoires et déterminier empiriquement cette probabilité."
   ]
  },
  {
   "cell_type": "code",
   "execution_count": 166,
   "metadata": {},
   "outputs": [
    {
     "data": {
      "image/png": "[encoded data removed]",
      "text/plain": [
       "<matplotlib.figure.Figure at 0x251b1284978>"
      ]
     },
     "metadata": {},
     "output_type": "display_data"
    }
   ],
   "source": [
    "#écrivez ici votre réponse\n",
    "ProbaEchec=np.zeros(30)\n",
    "n=100000\n",
    "seuil=4.5\n",
    "for k in range(0,n):\n",
    "    PFi=np.random.randn(30)\n",
    "    PFi=PFi*np.sqrt(5)+5 #on multiplie par 5 et on ajoute 5 pour se ramnener à une N(5,5)\n",
    "\n",
    "    PPb=np.zeros(31)\n",
    "    PPb[0]=5\n",
    "    Revalo=np.zeros(30,dtype=np.float32)\n",
    "    \n",
    "    for i in range(0,30):\n",
    "        if PFi[i]>=seuil:\n",
    "            PPb[i+1]=PPb[i]+PFi[i]-seuil\n",
    "            Revalo[i]=seuil\n",
    "        else:\n",
    "            PPb[i+1]=max(0,PPb[i]+(PFi[i]-seuil))\n",
    "            Revalo[i]=PPb[i]-PPb[i+1]+PFi[i]\n",
    "        if Revalo[i]<seuil:\n",
    "            #ProbaEchec[i]=ProbaEchec[i]+1/n\n",
    "            ProbaEchec[i]+=1/n\n",
    "plt.close()\n",
    "plt.bar(np.linspace(1,30,30),ProbaEchec)\n",
    "plt.title(\"Probabilité de ne pas servir la cible\")\n",
    "plt.show()\n",
    "        \n"
   ]
  },
  {
   "cell_type": "markdown",
   "metadata": {},
   "source": [
    "#### 4. On tient maintenant compte de la contrainte de reprise des sommes dotées en PPB sous 8 ans.  Modifiez le code de la question 2 pour déterminer les chroniques de revalorisation dans ces nouvelles conditions."
   ]
  },
  {
   "cell_type": "code",
   "execution_count": 167,
   "metadata": {
    "scrolled": true
   },
   "outputs": [
    {
     "data": {
      "image/png": "[encoded data removed]",
      "text/plain": [
       "<matplotlib.figure.Figure at 0x251b1ebf7f0>"
      ]
     },
     "metadata": {},
     "output_type": "display_data"
    }
   ],
   "source": [
    "#écrivez ici votre réponse\n",
    "PFi=np.random.randn(30)\n",
    "PFi=PFi*np.sqrt(5)+5 #on multiplie par 5 et on ajoute 5 pour se ramnener à une N(5,5)\n",
    "\n",
    "#Pour chaque année on regarde le résultat\n",
    "#si resultat(i) <4,5 on prend la différence\n",
    "PPb=np.zeros((8,31))\n",
    "PPb[0,0]=5\n",
    "Revalo=np.zeros(30)\n",
    "seuil=4.5\n",
    "#boucle sur les pas de temps\n",
    "for i in range(0,30):\n",
    "    pfi_restants=PFi[i]\n",
    "    #Si les produits financiers + la PPB arrivée à échéance sont supérieurs au seuil \n",
    "    if PFi[i]+PPb[7,i]>=seuil:\n",
    "        #Si la PPB seule est supérieure au seuil\n",
    "        if PPb[7,i]>=seuil:\n",
    "            #On sert l'ensemble de la PPB\n",
    "            Revalo[i]=PPb[7,i].copy()\n",
    "            #On dote les produits financiers (si >0) à la PPB\n",
    "            PPb[0,i+1]=max(PFi[i],0)\n",
    "        #Sinon\n",
    "        else:\n",
    "            #On sert la cible avec la PPB\n",
    "            Revalo[i]=seuil\n",
    "            #On dote les Pfi restants à la PPB\n",
    "            PPb[0,i+1]=PFi[i]-(seuil-PPb[7,i])\n",
    "    else:\n",
    "        #Si les PfI + la PPB 8 ans sont inférieurs au seuil\n",
    "        reprise = 0\n",
    "        #On fait une boucle pour reprendre en priorité sur les anciennetés de PPB les plus élevées\n",
    "        for n in range(7,-1,-1): #on part de 7 avec un pas de -1\n",
    "            #On cible de reprendre la cible - ce qui a déjà été repris, et au plus les montants disponibles\n",
    "            reprise_n=min(PPb[n,i],seuil-reprise)\n",
    "            #On reprend la somme\n",
    "            PPb[n,i]-=reprise_n\n",
    "            #On incrémente le compteur de reprise\n",
    "            reprise+=reprise_n\n",
    "        Revalo[i]=reprise\n",
    "        #Si la reprise est insuffisante, on sert un complément à partir des produits financiers\n",
    "        if reprise<seuil:\n",
    "            #On complète avec ce qui manque, au plus les produits fi\n",
    "            complement=min(max(0,PFi[i]),seuil-reprise)\n",
    "            pfi_restants=PFi[i]-complement\n",
    "            Revalo[i]+=complement\n",
    "        #On dote les produits restants en PPB (ancienneté 0, pour l'année suivante)\n",
    "        PPb[0,i+1]+=max(0,pfi_restants)\n",
    "    #On fait viellir la PPB d'un an\n",
    "    PPb[1:7,i+1]=PPb[0:6,i].copy()\n",
    "\n",
    "np.linspace(1,30,30)\n",
    "plt.close()\n",
    "plt.figure(figsize=(15,7))\n",
    "plt.subplot(131)\n",
    "plt.title(\"PFI\")\n",
    "plt.bar(np.linspace(1,30,30),PFi)\n",
    "plt.subplot(132)\n",
    "plt.title(\"PPB\")\n",
    "plt.bar(np.linspace(1,30,30),PPb[:,0:30].sum(0))\n",
    "plt.subplot(133)\n",
    "plt.title(\"Revalo\")\n",
    "plt.bar(np.linspace(1,30,30),Revalo)\n",
    "plt.show()\n",
    "plt.close()\n"
   ]
  },
  {
   "cell_type": "markdown",
   "metadata": {},
   "source": [
    "#### 5. Par analogie avec la question 3, calculez la nouvelle probabilité de ne pas servir la cible de revalorisation. "
   ]
  },
  {
   "cell_type": "code",
   "execution_count": 168,
   "metadata": {
    "scrolled": true
   },
   "outputs": [],
   "source": [
    "ProbaEchec8=np.zeros(30)\n",
    "N=100000\n",
    "for k in range(0,N):\n",
    "    PFi=np.random.randn(30)\n",
    "    PFi=PFi*np.sqrt(5)+5 #on multiplie par 5 et on ajoute 5 pour se ramnener à une N(5,5)\n",
    "\n",
    "    #Pour chaque année on regarde le résultat\n",
    "    #si resultat(i) <4,5 on prend la différence\n",
    "    PPb=np.zeros((8,31))\n",
    "    PPb[0,0]=5\n",
    "    Revalo=np.zeros(30)\n",
    "    seuil=4.5\n",
    "    #boucle sur les pas de temps\n",
    "    for i in range(0,30):\n",
    "        pfi_restants=PFi[i]\n",
    "        #Si les produits financiers + la PPB arrivée à échéance sont supérieurs au seuil \n",
    "        if PFi[i]+PPb[7,i]>=seuil:\n",
    "            #Si la PPB seule est supérieure au seuil\n",
    "            if PPb[7,i]>=seuil:\n",
    "                #On sert l'ensemble de la PPB\n",
    "                Revalo[i]=PPb[7,i].copy()\n",
    "                #On dote les produits financiers (si >0) à la PPB\n",
    "                PPb[0,i+1]=max(PFi[i],0)\n",
    "            #Sinon\n",
    "            else:\n",
    "                #On sert la cible avec la PPB\n",
    "                Revalo[i]=seuil\n",
    "                #On dote les Pfi restants à la PPB\n",
    "                PPb[0,i+1]=PFi[i]-(seuil-PPb[7,i])\n",
    "        else:\n",
    "            #Si les PfI + la PPB 8 ans sont inférieurs au seuil\n",
    "            reprise = 0\n",
    "            #On fait une boucle pour reprendre en priorité sur les anciennetés de PPB les plus élevées\n",
    "            for n in range(7,-1,-1): #on part de 7 avec un pas de -1\n",
    "                #On cible de reprendre la cible - ce qui a déjà été repris, et au plus les montants disponibles\n",
    "                reprise_n=min(PPb[n,i],seuil-reprise)\n",
    "                #On reprend la somme\n",
    "                PPb[n,i]-=reprise_n\n",
    "                #On incrémente le compteur de reprise\n",
    "                reprise+=reprise_n\n",
    "            Revalo[i]=reprise\n",
    "            #Si la reprise est insuffisante, on sert un complément à partir des produits financiers\n",
    "            if reprise<seuil:\n",
    "                #On complète avec ce qui manque, au plus les produits fi\n",
    "                complement=min(max(0,PFi[i]),seuil-reprise)\n",
    "                pfi_restants=PFi[i]-complement\n",
    "                Revalo[i]+=complement\n",
    "            #On dote les produits restants en PPB (ancienneté 0, pour l'année suivante)\n",
    "            PPb[0,i+1]+=max(0,pfi_restants)\n",
    "        #On fait viellir la PPB d'un an\n",
    "        PPb[1:7,i+1]=PPb[0:6,i].copy()\n",
    "        if np.abs(Revalo[i]-seuil)>0.0001: #Si cible différente de la revalo:\n",
    "            ProbaEchec8[i]+=1/N\n"
   ]
  },
  {
   "cell_type": "markdown",
   "metadata": {},
   "source": [
    "#### 6. Affichez alors le résultat sur le même graphique que le résultat obtenu en question 3 et commentez. \n",
    "\n",
    "Précision : dans un Notebook, les variables définies dans les cellules précédentes restent disponibles une fois calculées. Il n'est donc pas nécessaire de les re-calculer dans la cellule courante."
   ]
  },
  {
   "cell_type": "code",
   "execution_count": 169,
   "metadata": {},
   "outputs": [
    {
     "name": "stdout",
     "output_type": "stream",
     "text": [
      "[ 0.       0.02524  0.03954  0.04472  0.04521  0.04444  0.04313  0.04119\n",
      "  0.0375   0.03648  0.03489  0.03208  0.02984  0.02832  0.02716  0.02455\n",
      "  0.02333  0.02233  0.02119  0.01984  0.01922  0.01851  0.01776  0.0173\n",
      "  0.01688  0.01627  0.01578  0.01522  0.01458  0.01458]\n"
     ]
    },
    {
     "data": {
      "image/png": "[encoded data removed]",
      "text/plain": [
       "<matplotlib.figure.Figure at 0x251b0fe3eb8>"
      ]
     },
     "metadata": {},
     "output_type": "display_data"
    }
   ],
   "source": [
    "print(ProbaEchec8)\n",
    "plt.close()\n",
    "plt.bar(np.linspace(1,30,30),ProbaEchec8)\n",
    "plt.bar(np.linspace(1,30,30),ProbaEchec,color=\"r\",alpha=0.6)\n",
    "plt.title(\"Probabilité de ne pas servir la cible\")\n",
    "plt.show()"
   ]
  },
  {
   "cell_type": "markdown",
   "metadata": {
    "collapsed": true
   },
   "source": [
    "Du fait de la règle des 8 ans, la probabilité de ne pas servir la cible devient suppérieure avec la règle des 8 ans par rapport au cas sans. "
   ]
  },
  {
   "cell_type": "markdown",
   "metadata": {},
   "source": [
    "#### 7. Que deviennent les résultats précédents si les sommes dotées en PPB doivent être reprises non pas sous 8 mais sous 10 ans ?"
   ]
  },
  {
   "cell_type": "code",
   "execution_count": 170,
   "metadata": {
    "collapsed": true
   },
   "outputs": [],
   "source": [
    "#écrivez ici votre réponse\n"
   ]
  },
  {
   "cell_type": "markdown",
   "metadata": {
    "collapsed": true
   },
   "source": [
    "## B. Réserve de capitalisation\n",
    "\n",
    "#### 1. Quel est le but de la réserve de capitalisation ? Rappelez ci-dessous ses règles de dotation et de reprise"
   ]
  },
  {
   "cell_type": "markdown",
   "metadata": {},
   "source": [
    "[double cliquer pour afficher l'espace de réponse]"
   ]
  },
  {
   "cell_type": "markdown",
   "metadata": {},
   "source": [
    "#### 2. Calcul de la valeur d'une obligation : on suppose que l'on dispose des caractéristiques d'une obligation achetée au pair en fin d'année (nominal N, taux de coupon C, maturité M) et dont les échéances sont en fin d'année. On dispose également d'une courbe de taux sans risque spot r(t). En faisant l'hypothèse de l'absence de risque de crédit, écrire la formule de calcul de la valeur de marché d'une obligation."
   ]
  },
  {
   "cell_type": "markdown",
   "metadata": {},
   "source": [
    "[double cliquer pour afficher l'espace de réponse]"
   ]
  },
  {
   "cell_type": "markdown",
   "metadata": {},
   "source": [
    "Dans la suite du problème, on utilisera la courbe de taux spot EIOPA à fin 2018 jusqu'à la maturité 10 ans: "
   ]
  },
  {
   "cell_type": "code",
   "execution_count": 171,
   "metadata": {},
   "outputs": [
    {
     "data": {
      "image/png": "[encoded data removed]",
      "text/plain": [
       "<matplotlib.figure.Figure at 0x251b1bc8128>"
      ]
     },
     "metadata": {},
     "output_type": "display_data"
    }
   ],
   "source": [
    "import numpy as np\n",
    "from matplotlib import pyplot as plt\n",
    "r0=np.array([-0.093,-0.035,0.063,0.194,0.339,0.478,0.612,0.739,0.858,0.966])*1/100\n",
    "t=np.linspace(1,10,10)\n",
    "plt.close()\n",
    "plt.plot(t,r0)\n",
    "plt.show()"
   ]
  },
  {
   "cell_type": "markdown",
   "metadata": {},
   "source": [
    "#### 3. Implémentez une fonction qui applique la formule précédente et renvoie le prix de l'obligation comme une fonction des caractéristiques (M, C, N) et de la courbe de taux (tableau r)\n",
    "\n",
    "En python, il est possible de définir des fonctions personnalisées en utilisant \"def\". Par exemple :"
   ]
  },
  {
   "cell_type": "code",
   "execution_count": 172,
   "metadata": {
    "collapsed": true
   },
   "outputs": [],
   "source": [
    "def ma_fonction(x,y):\n",
    "    #On indique dans cette partie tout ce que fait la fonction (peut inclure des boucles, des conditions, etc.)\n",
    "    z=x+y\n",
    "    return y #valeur retournée par la fonction"
   ]
  },
  {
   "cell_type": "code",
   "execution_count": 173,
   "metadata": {
    "collapsed": true
   },
   "outputs": [],
   "source": [
    "#écrivez votre réponse ici\n",
    "def valeur(M,C,N,r):\n",
    "    valeur=0\n",
    "    for t in range(0,M):\n",
    "        valeur+=C*N*np.exp(-r[t]*(t+1)) #en convention exponentielle, sinon convention actuarielle 1/(1+r)^M\n",
    "    valeur+=N*np.exp(-r[t]*M)\n",
    "    return valeur"
   ]
  },
  {
   "cell_type": "markdown",
   "metadata": {},
   "source": [
    "testez la fonction définie précédemment sur une obligation de maturité 10 ans et de coupon 0%"
   ]
  },
  {
   "cell_type": "code",
   "execution_count": 174,
   "metadata": {},
   "outputs": [
    {
     "name": "stdout",
     "output_type": "stream",
     "text": [
      "0.90791910115\n"
     ]
    }
   ],
   "source": [
    "#testez la fonction définie précédemment sur une obligation\n",
    "print(valeur(10,0,1,r0))"
   ]
  },
  {
   "cell_type": "markdown",
   "metadata": {},
   "source": [
    "#### 4. Le portefeuille d'un assureur A des composé des obligations suivantes achetées au pair :\n",
    "- Obligation 1, maturité 10 ans, coupon 3.2%, nominal 50 M€ ;\n",
    "- Obligation 2, maturité 7 ans, coupon 2.8%, nominal 50 M€ ;\n",
    "- Obligation 3, maturité 5 ans, coupon 1.8%, nominal 50 M€ ;\n",
    "- Obligation 4, maturité 2 ans, coupon 1.2%, nominal 25 M€ ;\n",
    "- Obligation 5, maturité 1 ans, coupon 1%, nominal 25 M€ ;\n",
    "\n",
    "Calculez la valeur de marché du portefeuille d'actifs de A"
   ]
  },
  {
   "cell_type": "code",
   "execution_count": 175,
   "metadata": {},
   "outputs": [
    {
     "name": "stdout",
     "output_type": "stream",
     "text": [
      "248.258408005\n"
     ]
    }
   ],
   "source": [
    "#écrivez votre réponse ici\n",
    "\n",
    "Portefeuille=[[10,3.2/100,50],\n",
    "              [7,2.8/100,50],\n",
    "              [5,1.8/100,50],\n",
    "              [2,1.2/100,25],\n",
    "              [1,1/100,50]]\n",
    "vm=0\n",
    "for obligation in Portefeuille:#On boucle sur les objets de portefeuille\n",
    "    vm+=valeur(obligation[0],obligation[1],obligation[2],r0)\n",
    "print(vm)"
   ]
  },
  {
   "cell_type": "markdown",
   "metadata": {
    "collapsed": true
   },
   "source": [
    "#### 5.a On suppose de la valeur de la réserve de capitalisation de l'assureur est aujourd'hui nulle. Que se passerait-il si les obligations en portefeuille étaient cédées aujourd'hui ?"
   ]
  },
  {
   "cell_type": "code",
   "execution_count": 176,
   "metadata": {},
   "outputs": [
    {
     "name": "stdout",
     "output_type": "stream",
     "text": [
      "RKPI: 48.2584080047\n"
     ]
    }
   ],
   "source": [
    "#écrivez votre réponse ici\n",
    "\n",
    "#On doterait la réserve de capitalisation à hauteur de :\n",
    "print(\"RKPI:\",vm-200)#On retire la VNC"
   ]
  },
  {
   "cell_type": "markdown",
   "metadata": {},
   "source": [
    "#### 5.b Décrivez le nouveau portefeuille d'actif si l'on rachetait une obligation au pair et sans risque de maturité 10 ans dont on précisera les caractéristiques ?"
   ]
  },
  {
   "cell_type": "code",
   "execution_count": 177,
   "metadata": {},
   "outputs": [
    {
     "name": "stdout",
     "output_type": "stream",
     "text": [
      "[ 1.00093043  1.00070025  0.99811178  0.99227003  0.98319284  0.97172737\n",
      "  0.95806467  0.94259365  0.92568618  0.9079191 ]\n",
      "Taux de coupon:  0.951131409288 % , VM = N = 248.258408005\n"
     ]
    }
   ],
   "source": [
    "#écrivez votre réponse ici\n",
    "\n",
    "#On calcule les zero-coupons associés à la courbe de taux r0:\n",
    "#astuce:il est possible de donner à une fonction telle que exponentielle un tableau de valeur, ou un produit \n",
    "#terme à terme de tableaux de valeurs. On obtient alors en sortie la fonction appliquée à chaque terme du tableau\n",
    "ZC0=np.exp(-np.linspace(1,10,10)*r0)\n",
    "\n",
    "print(ZC0)\n",
    "\n",
    "#Pour rappel, VM_oblig=Sum_t C*N*ZC(t) + N ZC(M), c'est à dire\n",
    "#C=(VM-N ZC(M))/(N Sum_t ZC(t))\n",
    "#Si l'obligation est achetée au pair, alors vm=N=248,...\n",
    "C=(1-ZC0[9])/(ZC0.sum())\n",
    "print(\"Taux de coupon: \",C*100,\"%\", \", VM = N =\",vm)"
   ]
  },
  {
   "cell_type": "markdown",
   "metadata": {},
   "source": [
    "#### On suppose que la participation aux bénéfices prévue contractuellement inclût 90 % des produits des actifs en représentation des provisions mathématiques et les coupons et nominaux reçus sont réinvestis en trésorerie, laquelle est revalorisée d'année en année au taux sans risque calculé à partir de la courbe des taux fournie.\n",
    "\n",
    "#### 6. Calculez les produits financiers entrant dans la participation aux bénéfices associés avec les deux stratégies d'investissement ainsi que la part de produits financiers revenant à l'assureur.\n",
    "\n",
    "##### 6.a stratégie 1 : conservation des actifs du portefeuille initial jusqu'à l'échéance"
   ]
  },
  {
   "cell_type": "code",
   "execution_count": 178,
   "metadata": {},
   "outputs": [
    {
     "name": "stdout",
     "output_type": "stream",
     "text": [
      "Produits financiers 50.4210162529\n",
      "Produits financiers partagés 45.3789146276\n",
      "Produits financiers assureur 5.04210162529\n"
     ]
    }
   ],
   "source": [
    "#écrivez votre réponse ici\n",
    "\n",
    "pfi=0\n",
    "cash=0\n",
    "\n",
    "for t in range(0,10):\n",
    "    if t>0:\n",
    "        cash*=ZC0[t-1]/ZC0[t]\n",
    "        pfi+=cash*(ZC0[t-1]/ZC0[t]-1)\n",
    "\n",
    "    for oblig in Portefeuille:\n",
    "        if t<=oblig[0]:#t<=Maturité\n",
    "            pfi+=oblig[1]*oblig[2]#coupon * nominal\n",
    "            cash+=oblig[1]*oblig[2]\n",
    "        if t==oblig[0]:#==Maturité\n",
    "            cash+=oblig[2]#nominal\n",
    "\n",
    "            \n",
    "print(\"Produits financiers\",pfi)\n",
    "print(\"Produits financiers partagés\",pfi*0.9)\n",
    "print(\"Produits financiers assureur\",pfi*0.1)"
   ]
  },
  {
   "cell_type": "markdown",
   "metadata": {},
   "source": [
    "##### 6.b stratégie 2 : vente de l'ensemble des actifs puis conservation jusqu'à l'échéance"
   ]
  },
  {
   "cell_type": "code",
   "execution_count": 179,
   "metadata": {},
   "outputs": [
    {
     "name": "stdout",
     "output_type": "stream",
     "text": [
      "Produits financiers 25.2037003232\n",
      "Produits finannciers partagés 18.2739674142\n",
      "Produits financiers assureur 6.929732909\n"
     ]
    }
   ],
   "source": [
    "#écrivez votre réponse ici\n",
    "\n",
    "pfi=0\n",
    "cash=0\n",
    "\n",
    "Portefeuille2=[[10,C,vm]]\n",
    "\n",
    "for t in range(0,10):\n",
    "    if t>0:\n",
    "        cash*=ZC0[t-1]/ZC0[t]\n",
    "        pfi+=cash*(ZC0[t-1]/ZC0[t]-1)\n",
    "    for oblig in Portefeuille2:\n",
    "        if t<=oblig[0]:#t<=Maturité\n",
    "            pfi+=oblig[1]*oblig[2]#coupon * nominal\n",
    "            cash+=oblig[1]*oblig[2]\n",
    "        if t==oblig[0]:#==Maturité\n",
    "            cash+=oblig[2]#nominal\n",
    "\n",
    "            \n",
    "print(\"Produits financiers\",pfi)\n",
    "#On partage seulement les produits financiers en face de la PM (le total des provisions étant constitué \n",
    "#de la PM et de la réserve de capitalisation)\n",
    "print(\"Produits finannciers partagés\",pfi*0.9*200/vm)\n",
    "print(\"Produits financiers assureur\",pfi*(1-0.9*200/vm))\n"
   ]
  },
  {
   "cell_type": "markdown",
   "metadata": {},
   "source": [
    "#### 6.c Commentez : sans la réserve de capitalisation, le montant de produits financiers in fine partagés avec les assurés aurait-il été inférieur à celui partagé avec celle-ci ? Quel est l'objet de la réserve de capitalisation ?"
   ]
  },
  {
   "cell_type": "code",
   "execution_count": 180,
   "metadata": {},
   "outputs": [
    {
     "name": "stdout",
     "output_type": "stream",
     "text": [
      "Produits financiers 73.4621083278\n",
      "Produits financiers partagés 53.2637730391\n",
      "Produits financiers assureur 20.1983352887\n"
     ]
    }
   ],
   "source": [
    "#écrivez votre réponse ici\n",
    "\n",
    "pfi=vm-200\n",
    "cash=0\n",
    "\n",
    "Portefeuille2=[[10,C,vm]]\n",
    "\n",
    "for t in range(0,10):\n",
    "    if t>0:\n",
    "        cash*=ZC0[t-1]/ZC0[t]\n",
    "        pfi+=cash*(ZC0[t-1]/ZC0[t]-1)\n",
    "    for oblig in Portefeuille2:\n",
    "        if t<=oblig[0]:#t<=Maturité\n",
    "            pfi+=oblig[1]*oblig[2]#coupon * nominal\n",
    "            cash+=oblig[1]*oblig[2]\n",
    "        if t==oblig[0]:#==Maturité\n",
    "            cash+=oblig[2]#nominal\n",
    "\n",
    "            \n",
    "print(\"Produits financiers\",pfi)\n",
    "#On partage seulement les produits financiers en face de la PM (le total des provisions étant constitué \n",
    "#de la PM et de la réserve de capitalisation)\n",
    "print(\"Produits financiers partagés\",pfi*0.9*200/vm)\n",
    "print(\"Produits financiers assureur\",pfi*(1-0.9*200/vm))"
   ]
  },
  {
   "cell_type": "markdown",
   "metadata": {},
   "source": [
    "En l'absence de réserve de capitalisation, les montants partagés au titre de la PB ainsi que les produits financiers conservés par l'assureur auraient été nettement plus importants, ce qui aurait fait peser le risque que les produits financiers conservés par l'assureur soient distribués sous forme de dividendes. En termes de montant, pour un assureur qui aurait 200 M€ de PM, les fonds propres S1 seraient d'environ 8 M€ au minimum. Les 20 M€ dégagés par la session brutale de l'ensemble des obligations constituent alors plus que les fonds propres apportés initialement par l'actionnaire.\n",
    "La réserve de capitalisation conduit à conserver les richesses obligataires et à limiter l'intérêt de cessions brutales de titres obligataires en période de taux bas."
   ]
  },
  {
   "cell_type": "code",
   "execution_count": null,
   "metadata": {
    "collapsed": true
   },
   "outputs": [],
   "source": []
  }
 ],
 "metadata": {
  "kernelspec": {
   "display_name": "Python 3",
   "language": "python",
   "name": "python3"
  },
  "language_info": {
   "codemirror_mode": {
    "name": "ipython",
    "version": 3
   },
   "file_extension": ".py",
   "mimetype": "text/x-python",
   "name": "python",
   "nbconvert_exporter": "python",
   "pygments_lexer": "ipython3",
   "version": "3.6.1"
  }
 },
 "nbformat": 4,
 "nbformat_minor": 2
}
