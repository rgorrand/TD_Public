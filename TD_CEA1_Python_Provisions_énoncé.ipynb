{
 "cells": [
  {
   "cell_type": "markdown",
   "metadata": {},
   "source": [
    "# TD CEA 1 - Autres provisions techniques : initiation à Python\n",
    "## 3 Octobre 2019\n",
    "\n",
    "### Préliminaires\n",
    "Ce document est ce que l'on appelle un \"Notebook\". Il s'agit d'un format un peu particulier qui permet de combiner à la fois du texte et des morceaux de code, contenus dans des cellules, qui peuvent s'exécuter les unes à la suite des autres. Il est possible de faire apparaître dans le Notebook les résultats de l'exécution du code (chiffres, graphiques) à mesure que celui-ci est excécuté. Pour exécuter une cellule de code, on peut cliquer sur \"Exécuter\" ci-dessus, ou encore appuyer simultanément sur \"Maj\" et \"Entrée\".\n",
    "\n",
    "Ceci est rendu possible par le fait que, tout comme R ou Matlab, Python est un language interprêté. A l'inverse d'un langage compilé (p.ex. C) qui doit être lu d'un bloc pour être exécuté, un langage interprêté peut être lu au fur et à mesure de son exécution.\n",
    "\n",
    "Remarque : Le format Notebook n'est en rien obligatoire et il est aussi tout à fait possible de créer des programmes python d'un seul bloc ! De manière générale, si vous le souhaitez et si vous disposez de pas ou peu de bases en termes de programmation, vous pouvez vous reporter au tutoriel OpenClassroom suivant:\n",
    "https://openclassrooms.com/fr/courses/235344-apprenez-a-programmer-en-python\n",
    "\n",
    "## Introduction à Python\n",
    "Tout d'abord, quelques rappels ou règles de base en python.\n",
    "\n",
    "### Les variables\n",
    "Pour déclarer une variable, il suffit de la nommer et de lui assigner une valeur, par exemple, les variables a et b ci-dessous:"
   ]
  },
  {
   "cell_type": "code",
   "execution_count": 1,
   "metadata": {},
   "outputs": [],
   "source": [
    "a=3\n",
    "b=5"
   ]
  },
  {
   "cell_type": "markdown",
   "metadata": {},
   "source": [
    "On peut alors créer deux autres variables c et d que l'on définit comme le produit et la somme de a et b et afficher leurs valeurs:"
   ]
  },
  {
   "cell_type": "code",
   "execution_count": 2,
   "metadata": {},
   "outputs": [
    {
     "name": "stdout",
     "output_type": "stream",
     "text": [
      "c = 15\n",
      "d = 8\n"
     ]
    }
   ],
   "source": [
    "c=a*b\n",
    "d=a+b\n",
    "\n",
    "print(\"c =\",c)\n",
    "print(\"d =\",d)"
   ]
  },
  {
   "cell_type": "markdown",
   "metadata": {},
   "source": [
    "Vous pouvez alors remonter quelques lignes plus haut et changer la valeur de a et b, puis actualiser les calculs en exécutant les briques de code.\n",
    "L'instruction print est une fonction dont les arguments (renseignés à l'intérieur de parenthèses) sont une liste de choses à afficher à la suite sur une même ligne. \n",
    "\n",
    "Dans l'instruction print(\"c =\",c), on a demandé l'affichage de la chaine de caractères \"c =\" (entourée de guillemets pour signifier qu'il s'agit de texte), puis de c."
   ]
  },
  {
   "cell_type": "markdown",
   "metadata": {},
   "source": [
    "## Les listes\n",
    "Il est possible de regrouper des variables dans des \"listes\". Une liste se présente sous la forme d'une suite d'éléments délimitée par des crochets et séparés par des virgules.\n",
    "\n",
    "On peut appeler les éléments constituant une boucle à l'aide de crochets. Le i-ème élément peut ainsi être appelé par liste[i].\n",
    "Par exemple :"
   ]
  },
  {
   "cell_type": "code",
   "execution_count": 3,
   "metadata": {},
   "outputs": [
    {
     "name": "stdout",
     "output_type": "stream",
     "text": [
      "[1, 3, 5]\n",
      "1er élément: 1\n",
      "dernier élément: 5\n"
     ]
    }
   ],
   "source": [
    "liste=[1,3,5]\n",
    "print(liste)\n",
    "print(\"1er élément:\",liste[0])\n",
    "print(\"dernier élément:\",liste[2])"
   ]
  },
  {
   "cell_type": "markdown",
   "metadata": {},
   "source": [
    "Attention, comme dans Matlab mais contrairement à R, les listes sont indexées à partir de 0 et non à partir de 1.\n",
    "Pour récupérer le N-ième élément d'une liste, il faut donc appeler liste[N-1].\n",
    "\n",
    "On peut concaténer deux listes ensemble en utilisant l'opérateur d'addition + :"
   ]
  },
  {
   "cell_type": "code",
   "execution_count": 4,
   "metadata": {
    "scrolled": true
   },
   "outputs": [
    {
     "name": "stdout",
     "output_type": "stream",
     "text": [
      "[1, 3, 5, 'a']\n"
     ]
    }
   ],
   "source": [
    "liste=liste+[\"a\"]\n",
    "print(liste)"
   ]
  },
  {
   "cell_type": "markdown",
   "metadata": {},
   "source": [
    "Python est un langage dit \"objet\". Une liste est ainsi un objet qui contient à la fois des données (les termes de la liste), mais également des méthodes. Il s'agit de fonctions qui peuvent effectuer des opérations spécifiques sur la liste. De manière générale, on accède aux méthodes en utilisant le point (.) : liste.fonction(argument de la fonction).\n",
    "\n",
    "On peut alors par exemple ajouter un élément à la liste en utilisant la fonction append: "
   ]
  },
  {
   "cell_type": "code",
   "execution_count": 5,
   "metadata": {},
   "outputs": [
    {
     "name": "stdout",
     "output_type": "stream",
     "text": [
      "[1, 3, 5, 'a', 'un terme ajouté']\n"
     ]
    }
   ],
   "source": [
    "liste.append(\"un terme ajouté\")\n",
    "print(liste)"
   ]
  },
  {
   "cell_type": "markdown",
   "metadata": {},
   "source": [
    "On peut également utiliser l'instruction \"pop\" pour supprimer. De manière générale pour voir la documentation associée à un objet et les différentes fonctions utilisables, on peut utiliser la fonction help."
   ]
  },
  {
   "cell_type": "code",
   "execution_count": 6,
   "metadata": {},
   "outputs": [
    {
     "name": "stdout",
     "output_type": "stream",
     "text": [
      "Help on list object:\n",
      "\n",
      "class list(object)\n",
      " |  list(iterable=(), /)\n",
      " |  \n",
      " |  Built-in mutable sequence.\n",
      " |  \n",
      " |  If no argument is given, the constructor creates a new empty list.\n",
      " |  The argument must be an iterable if specified.\n",
      " |  \n",
      " |  Methods defined here:\n",
      " |  \n",
      " |  __add__(self, value, /)\n",
      " |      Return self+value.\n",
      " |  \n",
      " |  __contains__(self, key, /)\n",
      " |      Return key in self.\n",
      " |  \n",
      " |  __delitem__(self, key, /)\n",
      " |      Delete self[key].\n",
      " |  \n",
      " |  __eq__(self, value, /)\n",
      " |      Return self==value.\n",
      " |  \n",
      " |  __ge__(self, value, /)\n",
      " |      Return self>=value.\n",
      " |  \n",
      " |  __getattribute__(self, name, /)\n",
      " |      Return getattr(self, name).\n",
      " |  \n",
      " |  __getitem__(...)\n",
      " |      x.__getitem__(y) <==> x[y]\n",
      " |  \n",
      " |  __gt__(self, value, /)\n",
      " |      Return self>value.\n",
      " |  \n",
      " |  __iadd__(self, value, /)\n",
      " |      Implement self+=value.\n",
      " |  \n",
      " |  __imul__(self, value, /)\n",
      " |      Implement self*=value.\n",
      " |  \n",
      " |  __init__(self, /, *args, **kwargs)\n",
      " |      Initialize self.  See help(type(self)) for accurate signature.\n",
      " |  \n",
      " |  __iter__(self, /)\n",
      " |      Implement iter(self).\n",
      " |  \n",
      " |  __le__(self, value, /)\n",
      " |      Return self<=value.\n",
      " |  \n",
      " |  __len__(self, /)\n",
      " |      Return len(self).\n",
      " |  \n",
      " |  __lt__(self, value, /)\n",
      " |      Return self<value.\n",
      " |  \n",
      " |  __mul__(self, value, /)\n",
      " |      Return self*value.\n",
      " |  \n",
      " |  __ne__(self, value, /)\n",
      " |      Return self!=value.\n",
      " |  \n",
      " |  __repr__(self, /)\n",
      " |      Return repr(self).\n",
      " |  \n",
      " |  __reversed__(self, /)\n",
      " |      Return a reverse iterator over the list.\n",
      " |  \n",
      " |  __rmul__(self, value, /)\n",
      " |      Return value*self.\n",
      " |  \n",
      " |  __setitem__(self, key, value, /)\n",
      " |      Set self[key] to value.\n",
      " |  \n",
      " |  __sizeof__(self, /)\n",
      " |      Return the size of the list in memory, in bytes.\n",
      " |  \n",
      " |  append(self, object, /)\n",
      " |      Append object to the end of the list.\n",
      " |  \n",
      " |  clear(self, /)\n",
      " |      Remove all items from list.\n",
      " |  \n",
      " |  copy(self, /)\n",
      " |      Return a shallow copy of the list.\n",
      " |  \n",
      " |  count(self, value, /)\n",
      " |      Return number of occurrences of value.\n",
      " |  \n",
      " |  extend(self, iterable, /)\n",
      " |      Extend list by appending elements from the iterable.\n",
      " |  \n",
      " |  index(self, value, start=0, stop=9223372036854775807, /)\n",
      " |      Return first index of value.\n",
      " |      \n",
      " |      Raises ValueError if the value is not present.\n",
      " |  \n",
      " |  insert(self, index, object, /)\n",
      " |      Insert object before index.\n",
      " |  \n",
      " |  pop(self, index=-1, /)\n",
      " |      Remove and return item at index (default last).\n",
      " |      \n",
      " |      Raises IndexError if list is empty or index is out of range.\n",
      " |  \n",
      " |  remove(self, value, /)\n",
      " |      Remove first occurrence of value.\n",
      " |      \n",
      " |      Raises ValueError if the value is not present.\n",
      " |  \n",
      " |  reverse(self, /)\n",
      " |      Reverse *IN PLACE*.\n",
      " |  \n",
      " |  sort(self, /, *, key=None, reverse=False)\n",
      " |      Stable sort *IN PLACE*.\n",
      " |  \n",
      " |  ----------------------------------------------------------------------\n",
      " |  Static methods defined here:\n",
      " |  \n",
      " |  __new__(*args, **kwargs) from builtins.type\n",
      " |      Create and return a new object.  See help(type) for accurate signature.\n",
      " |  \n",
      " |  ----------------------------------------------------------------------\n",
      " |  Data and other attributes defined here:\n",
      " |  \n",
      " |  __hash__ = None\n",
      "\n"
     ]
    }
   ],
   "source": [
    "help(liste)"
   ]
  },
  {
   "cell_type": "code",
   "execution_count": 7,
   "metadata": {},
   "outputs": [
    {
     "name": "stdout",
     "output_type": "stream",
     "text": [
      "[1, 3, 5, 'a']\n"
     ]
    }
   ],
   "source": [
    "liste.pop(4)\n",
    "print(liste)"
   ]
  },
  {
   "cell_type": "markdown",
   "metadata": {},
   "source": [
    "Il n'y a pas de contrainte particulière sur les listes et on peut ainsi faire facilement des listes de liste"
   ]
  },
  {
   "cell_type": "code",
   "execution_count": 8,
   "metadata": {},
   "outputs": [
    {
     "name": "stdout",
     "output_type": "stream",
     "text": [
      "[[1, 0.25, 0.25], [0.25, 1, 0], [0.25, 0, 1]]\n"
     ]
    }
   ],
   "source": [
    "matrice=[[1,0.25,0.25],[0.25,1,0],[0.25,0,1]]\n",
    "print(matrice)"
   ]
  },
  {
   "cell_type": "markdown",
   "metadata": {},
   "source": [
    "Puis on accède par double crochet aux éléments de la liste de liste : matrice[i][j] renvoie ainsi la i-ème ligne et j-ème colonne:"
   ]
  },
  {
   "cell_type": "code",
   "execution_count": 9,
   "metadata": {},
   "outputs": [
    {
     "name": "stdout",
     "output_type": "stream",
     "text": [
      "1\n",
      "0.25\n"
     ]
    }
   ],
   "source": [
    "print(matrice[0][0])\n",
    "print(matrice[1][0])\n"
   ]
  },
  {
   "cell_type": "markdown",
   "metadata": {},
   "source": [
    "## Les conditions et tests logiques\n",
    "Les tests logiques s'écrivent comme à l'aide des opérateurs \"==\" pour vérifier une égalité ou != pour une différence."
   ]
  },
  {
   "cell_type": "code",
   "execution_count": 10,
   "metadata": {},
   "outputs": [
    {
     "name": "stdout",
     "output_type": "stream",
     "text": [
      "1 égal 0? False\n",
      "1 différent de 0 ? True\n"
     ]
    }
   ],
   "source": [
    "print(\"1 égal 0?\",1==0)\n",
    "print(\"1 différent de 0 ?\",1!=0)"
   ]
  },
  {
   "cell_type": "markdown",
   "metadata": {},
   "source": [
    "Il est également possible de tester des inégalités (inférieur strict, inférieur ou égal):"
   ]
  },
  {
   "cell_type": "code",
   "execution_count": 11,
   "metadata": {},
   "outputs": [
    {
     "name": "stdout",
     "output_type": "stream",
     "text": [
      "False\n",
      "False\n",
      "False\n",
      "True\n"
     ]
    }
   ],
   "source": [
    "print(1<0)\n",
    "print(1<=0)\n",
    "print(1>1)\n",
    "print(1>=1)"
   ]
  },
  {
   "cell_type": "markdown",
   "metadata": {},
   "source": [
    "Les tests logiques peuvent également être combinés à l'aide des opérateurs ET (&) et OU (barre verticale : |)"
   ]
  },
  {
   "cell_type": "code",
   "execution_count": 12,
   "metadata": {},
   "outputs": [
    {
     "name": "stdout",
     "output_type": "stream",
     "text": [
      "True\n"
     ]
    }
   ],
   "source": [
    "un_test=(1==0)|(1!=0)\n",
    "print(un_test)"
   ]
  },
  {
   "cell_type": "code",
   "execution_count": 13,
   "metadata": {},
   "outputs": [
    {
     "name": "stdout",
     "output_type": "stream",
     "text": [
      "False\n"
     ]
    }
   ],
   "source": [
    "un_test=(1==0)&(1!=0)\n",
    "print(un_test)"
   ]
  },
  {
   "cell_type": "markdown",
   "metadata": {},
   "source": [
    "à partir de ces tests logiques, il est possible d'écrire des conditions.\n",
    "\n",
    "Python se caractérise par une syntaxe minimaliste et très visuelle. Contrairement à des langages comme le C ou le Java, il n'est pas nécessaire d'entourer une boucle de parenthèses ou d'accolades : on utilisera la tabulation pour indiquer les instructions qui font partie de la boucle. Ainsi, l'intendation du code n'est pas une simple bonne pratique mais fait partie intégrante de la syntaxe de Python.\n",
    "\n",
    "Les \"si\" s'écrirons simplement:"
   ]
  },
  {
   "cell_type": "code",
   "execution_count": 14,
   "metadata": {},
   "outputs": [
    {
     "name": "stdout",
     "output_type": "stream",
     "text": [
      "i est égal à 0\n"
     ]
    }
   ],
   "source": [
    "i=1\n",
    "if i==0:\n",
    "    #on écrit les instructions à l'intérieur du if en les décalant d'une largeur de tabulation.\n",
    "    print(\"i est égal à 0\")\n",
    "elif i==1:\n",
    "    print(\"i est égal à 0\")\n",
    "else:\n",
    "    print(\"i n'est ni égal à 0, ni à 1\")"
   ]
  },
  {
   "cell_type": "markdown",
   "metadata": {},
   "source": [
    "## Les boucles\n",
    "Pour écrire des boucles \"for\", la syntaxe de Python aura ici aussi recours à la tabulation. \n",
    "\n",
    "### Exemple"
   ]
  },
  {
   "cell_type": "code",
   "execution_count": 15,
   "metadata": {},
   "outputs": [
    {
     "name": "stdout",
     "output_type": "stream",
     "text": [
      "0 1\n",
      "1 2\n",
      "2 3\n",
      "3 4\n",
      "4 5\n",
      "5 6\n",
      "6 7\n",
      "7 8\n",
      "8 9\n",
      "9 10\n"
     ]
    }
   ],
   "source": [
    "a=0\n",
    "#ici, i va de 0 à 10 (exclu) et pour chaque valeur de i, les instructions dans la boucle sont exécutées\n",
    "for i in range(0,10):\n",
    "    a=a+1\n",
    "    print(i,a)"
   ]
  },
  {
   "cell_type": "markdown",
   "metadata": {},
   "source": [
    "Ici, on a initialisé une variable a, puis on a incrémentée celle-ci 10 fois de 1.\n",
    "La variable de boucle i a quant à elle pris ses valeurs entre 1 et 0 et 9 mais n'a pas été utilisée explicitement pour les calculs.\n",
    "\n",
    "Dans l'instruction range, on indique les deux extrémités de l'intervalle d'entiers à parcourir : la première est inclue, la seconde exclue. Ainsi, un range(0,n) comprendra n termes, de 0 à n-1.\n",
    "\n",
    "Les instructions à l'intérieur de la boucle peuvent être identifiées par une tabulation (touche tab). Pour sortir de la boucle, il suffira de revenir au niveau de tabulation inférieur. On peut bien entendu imbriquer plusieurs boucles les unes dans les autres en utilisant des doubles ou triples tabulations.\n",
    "\n",
    "N.B. : Les instructions For se terminent par un \":\" "
   ]
  },
  {
   "cell_type": "markdown",
   "metadata": {},
   "source": [
    "### Pratique\n",
    "#### 1. Adaptez la boucle de l'exemple précédent pour calculer la somme de i = 1 à 10 (inclus) de i et afficher les valeurs intermédiaires calculées."
   ]
  },
  {
   "cell_type": "code",
   "execution_count": 16,
   "metadata": {},
   "outputs": [],
   "source": [
    "#écrivez ici votre réponse\n"
   ]
  },
  {
   "cell_type": "markdown",
   "metadata": {},
   "source": [
    "#### 2. Modifiez à la marge pour n'afficher que le résultat final obtenu à la dernière itération."
   ]
  },
  {
   "cell_type": "code",
   "execution_count": 17,
   "metadata": {},
   "outputs": [],
   "source": [
    "#écrivez ici votre réponse\n"
   ]
  },
  {
   "cell_type": "markdown",
   "metadata": {},
   "source": [
    "De la même manière, il est possible de réaliser des boucles conditionnelles \"while\"."
   ]
  },
  {
   "cell_type": "code",
   "execution_count": 18,
   "metadata": {},
   "outputs": [
    {
     "name": "stdout",
     "output_type": "stream",
     "text": [
      "0 1\n",
      "1 2\n",
      "2 3\n",
      "3 4\n",
      "4 5\n",
      "5 6\n",
      "6 7\n",
      "7 8\n",
      "8 9\n",
      "9 10\n"
     ]
    }
   ],
   "source": [
    "a=0\n",
    "i=0\n",
    "while i<10:\n",
    "    a=a+1\n",
    "    print(i,a)\n",
    "    i=i+1\n"
   ]
  },
  {
   "cell_type": "markdown",
   "metadata": {},
   "source": [
    "#### 3. Réalisez une boucle \"while\" équivalente à la boucle \"for\" de la question 2."
   ]
  },
  {
   "cell_type": "code",
   "execution_count": 19,
   "metadata": {},
   "outputs": [],
   "source": [
    "#écrivez ici votre réponse\n"
   ]
  },
  {
   "cell_type": "markdown",
   "metadata": {},
   "source": [
    "# Les librairies : exemple de numpy et matplotlib"
   ]
  },
  {
   "cell_type": "markdown",
   "metadata": {
    "collapsed": true
   },
   "source": [
    "Python fait partie des langages dont la richesse se base sur les nombreuses librairies déjà développées et disponibles pour l'utilisateur. Outre les fonctions et la flexibilité qu'elles apportent, elles améliorent aussi le temps de calcul. Tout comme dans Matlab, les librairies orientées calcul sont ainsi implémentées dans des langages plus performants sur le plan du temps de calcul (p.ex. C++) sans que l'utilisateur en ait à supporter la lourdeur syntaxique.\n",
    "\n",
    "## Numpy\n",
    "Numpy est l'une des librairies centrales dès lors qu'il est question de calcul. Elle permet de travailler avec des tableaux de chiffres ou des matrices.\n",
    "\n",
    "Pour utiliser une librairie, on commence toujours par l'importer afin de charger ses composantes. On lui donne souvent un alias (ici, numpy sera raccourci en np)"
   ]
  },
  {
   "cell_type": "code",
   "execution_count": 20,
   "metadata": {},
   "outputs": [],
   "source": [
    "#Le notebook étant en ligne on commence par installer la librairie",
    "!pip install numpy",
    "#ainsi qu'une seconde librairie",
    "!pip install matplotlib",
    "import numpy as np"
   ]
  },
  {
   "cell_type": "markdown",
   "metadata": {},
   "source": [
    "Les fonctions et composantes de la librairie sont ainsi accessibles via le \".\" : np.composante. Parmi les nombreux composants disponibles pour l'utilisateur, on s'intéressera ici à \"array\", qui permet de définir des tableaux, et à \"random\" (et en particulier random.randn) qui génère des nombres aléatoires (suivant la loi normale)."
   ]
  },
  {
   "cell_type": "code",
   "execution_count": 21,
   "metadata": {},
   "outputs": [
    {
     "name": "stdout",
     "output_type": "stream",
     "text": [
      "tableau [0. 0. 0. 0. 0. 0. 0. 0. 0. 0.]\n",
      "matrice [[0. 0. 0.]\n",
      " [0. 0. 0.]\n",
      " [0. 0. 0.]\n",
      " [0. 0. 0.]\n",
      " [0. 0. 0.]\n",
      " [0. 0. 0.]\n",
      " [0. 0. 0.]\n",
      " [0. 0. 0.]\n",
      " [0. 0. 0.]\n",
      " [0. 0. 0.]]\n",
      "liste [1 2 3 4]\n",
      "alea [-5.60879738e-01  3.55531258e-01  1.97417432e+00  3.71879304e-01\n",
      " -1.52091155e+00  1.50600529e-02 -1.24049103e-01  7.55364965e-01\n",
      "  3.08903597e-01  4.05548286e-01  4.65500009e-01 -7.60344816e-01\n",
      " -9.11230332e-01 -3.13052267e-01 -1.09029541e-01  7.55701136e-01\n",
      " -1.92239572e+00 -2.20449870e+00 -7.82060539e-01 -4.65625599e-01\n",
      "  1.85288158e-01  2.92991975e+00  1.51227714e-01  2.11173662e-03\n",
      " -1.07913143e+00  1.38113096e+00  1.00012611e+00  8.72507550e-01\n",
      "  6.96905576e-01  9.51536672e-01 -7.77057005e-01  9.52546473e-01\n",
      "  9.63968397e-01  2.21326565e+00 -1.62443128e+00 -6.29684385e-01\n",
      " -7.24705802e-01  6.12548969e-02 -3.89977002e-01  2.42041240e-01\n",
      "  8.78404136e-01 -3.35937256e-01 -1.11194257e+00  1.53153175e+00\n",
      " -4.72187787e-01  8.13131542e-01 -3.03656996e-01 -1.54659812e+00\n",
      "  9.91983667e-02 -5.91971502e-01 -5.54254742e-01  1.19855550e-01\n",
      " -3.93611699e-01  1.92804953e+00  7.18138675e-01  2.34965072e+00\n",
      " -7.72007033e-01  5.11729437e-01 -9.16801865e-01 -7.88151728e-01\n",
      "  1.46685525e-01 -1.74850771e-01 -7.94596198e-01 -9.63501847e-01\n",
      " -3.11667331e-01 -1.08884994e+00  4.51127671e-01 -4.54886136e-01\n",
      " -6.62713149e-01  2.69964009e-01  3.90953213e-01  1.48187539e+00\n",
      " -8.20187898e-02  8.86337383e-02 -2.32211773e-01  5.40659967e-01\n",
      " -3.87740547e-01 -4.28771940e-01 -5.28244425e-01  2.18448363e+00\n",
      " -3.26801834e+00  3.23673373e-01  4.43692205e-01 -2.01646997e+00\n",
      "  2.05457888e+00 -1.87960125e+00  9.27856925e-01  1.94251529e+00\n",
      " -5.56870531e-02  4.85476091e-01 -2.50838593e-01 -2.04141966e+00\n",
      "  2.89545542e-01  5.16180640e-01  4.46795626e-01 -3.95924624e-01\n",
      " -2.74534470e-01  4.19904687e-01  1.07611476e+00 -1.42616358e+00]\n"
     ]
    }
   ],
   "source": [
    "#on définit un tableau unidimensionnel de dimension 10 (un vecteur) rempli de zeros :\n",
    "tableau=np.zeros(10)\n",
    "print(\"tableau\",tableau)\n",
    "#et une matrice de la même manière en donnant un couple de dimensions :\n",
    "matrice=np.zeros((10,3))\n",
    "print(\"matrice\",matrice)\n",
    "#Il est aussi possible de transformer une liste en tableau numpy :\n",
    "liste=np.array([1,2,3,4])\n",
    "print(\"liste\",liste)\n",
    "#On peut facilement générer des nombres aléatoires à l'aide de :\n",
    "alea=np.random.randn(100)\n",
    "print(\"alea\",alea)"
   ]
  },
  {
   "cell_type": "markdown",
   "metadata": {},
   "source": [
    "Ces tableaux sont des objets qui ont donc eux-mêmes des fonctions telles que max, sum (somme), mean (moyenne), std (écart-type)"
   ]
  },
  {
   "cell_type": "code",
   "execution_count": 22,
   "metadata": {},
   "outputs": [
    {
     "name": "stdout",
     "output_type": "stream",
     "text": [
      "par exemple: 1.037004167140121 0.010370041671401209 1.067744396698588 2.929919753198317\n"
     ]
    }
   ],
   "source": [
    "print(\"par exemple:\",alea.sum(),alea.mean(),alea.std(),alea.max())"
   ]
  },
  {
   "cell_type": "markdown",
   "metadata": {},
   "source": [
    "Pour représenter graphiquement les résultats, on peut utiliser la librairie matplotlib (voir google pour de nombreux exemples). Un graphique simple peut par exemple s'écrire :"
   ]
  },
  {
   "cell_type": "code",
   "execution_count": 23,
   "metadata": {},
   "outputs": [
    {
     "data": {
      "text/plain": [
       "<Figure size 640x480 with 1 Axes>"
      ]
     },
     "metadata": {},
     "output_type": "display_data"
    }
   ],
   "source": [
    "from matplotlib import pyplot as plt\n",
    "#on s'assure que toutes les figures sont fermées:\n",
    "plt.close()\n",
    "#on crée une figure\n",
    "plt.figure()\n",
    "plt.plot(alea)\n",
    "#on affiche la figure\n",
    "plt.show()"
   ]
  },
  {
   "cell_type": "markdown",
   "metadata": {},
   "source": [
    "En pratique, toutes les instructions plot écrites avant d'afficher la figure seront superposées sur le même graphe, ce qui permet d'afficher plusieurs courbes sur une même figure. Ainsi, par exemple, on peut utiliser la fonction \"bar\" qui trace des barres verticales étant donné des vecteurs x (abscisses) et y (ordonnées). Pour créer les abscisses, on utilise par exemple ci-dessous la fonction linspace qui crée un vecteur (une grille de 1 à 100 contenant 100 points."
   ]
  },
  {
   "cell_type": "code",
   "execution_count": 24,
   "metadata": {},
   "outputs": [
    {
     "data": {
      "image/png": "[encoded data removed]",
      "text/plain": [
       "<Figure size 432x288 with 1 Axes>"
      ]
     },
     "metadata": {
      "needs_background": "light"
     },
     "output_type": "display_data"
    },
    {
     "name": "stdout",
     "output_type": "stream",
     "text": [
      "x: [  1.   2.   3.   4.   5.   6.   7.   8.   9.  10.  11.  12.  13.  14.\n",
      "  15.  16.  17.  18.  19.  20.  21.  22.  23.  24.  25.  26.  27.  28.\n",
      "  29.  30.  31.  32.  33.  34.  35.  36.  37.  38.  39.  40.  41.  42.\n",
      "  43.  44.  45.  46.  47.  48.  49.  50.  51.  52.  53.  54.  55.  56.\n",
      "  57.  58.  59.  60.  61.  62.  63.  64.  65.  66.  67.  68.  69.  70.\n",
      "  71.  72.  73.  74.  75.  76.  77.  78.  79.  80.  81.  82.  83.  84.\n",
      "  85.  86.  87.  88.  89.  90.  91.  92.  93.  94.  95.  96.  97.  98.\n",
      "  99. 100.]\n"
     ]
    }
   ],
   "source": [
    "#on s'assure que toutes les figures sont fermées:\n",
    "plt.close()\n",
    "#on crée une figure\n",
    "plt.figure()\n",
    "plt.plot(alea)\n",
    "plt.bar(np.linspace(1,100,100),alea,color=\"r\")\n",
    "#on affiche la figure\n",
    "plt.show()\n",
    "print(\"x:\",np.linspace(1,100,100))"
   ]
  },
  {
   "cell_type": "markdown",
   "metadata": {},
   "source": [
    "# A. Provision pour participation aux bénéfices"
   ]
  },
  {
   "cell_type": "markdown",
   "metadata": {},
   "source": [
    "#### 1. Quel est le but de la provision pour participation aux bénéfices ? Rappelez ci-dessous ses règles de dotation et de reprise"
   ]
  },
  {
   "cell_type": "markdown",
   "metadata": {},
   "source": [
    "[double cliquer pour afficher l'espace de réponse]"
   ]
  },
  {
   "cell_type": "markdown",
   "metadata": {},
   "source": [
    "#### 2. L'assureur A commercialise des produits d'épargne et souhaite distribuer à ses assurés un rendement stable année après année. Il s'est engagé contractuellement auprès de ses assurés à leur redistribuer 100% des produits financiers issus des actifs qu'il détient. Les produits financiers générés par ces actifs sont toutefois volatiles et l'assureur souhaite utiliser la PPB pour lisser le rendement servi aux assurés. \n",
    "\n",
    "On se placera dans la suite sur un horizon de projection de T=30 ans.\n",
    "\n",
    "##### 2.a. On propose de simuler aléatoirement les produits financiers dont dispose l'assureur chaque année : ils sont ainsi supposés suivre une loi normale de moyenne 5 M€ et de variance 5 M€.\n",
    "\n",
    "Définir un vecteur de réalisation des produis financiers disponibles année après année (sous la forme d'un tableau numpy à une dimension) en utilisant la fonction np.random.randn(n) qui renvoie un vecteur de n réalisations d'une loi normale N(0,1) (pour plus d'information sur cette fonction, help(np.random.randn).\n",
    "\n",
    "##### 2.b. On supposera dans un premier temps que la contrainte de reprise sous 8 ans des sommes dotées en PPB ne s'applique pas. \n",
    "- la PPB est initialement constituée de 5 M€\n",
    "- la cible de revalorisation, fixe à chaque année de projection, est de 4,5 M€.\n",
    "\n",
    "Lorsque les produits financiers sont suffisants pour remplir la cible de 4,5 M€, l'excédent est doté en PPB, lorsqu'ils sont inssufisants, une reprise est réalisée (sans toutefois que la provision puisse prendre des valeurs négatives).\n",
    "\n",
    "Calculez le vecteur \"revalo\" qui contiendra les revalorisations futures ainsi que le vecteur \"PPB\" qui représente l'évolution de la PPB tout au long de la projection.\n",
    "\n",
    "##### 2.c. Afficher à l'aide de la fonction \"plt.bar\" de matplotlib les trois vecteurs."
   ]
  },
  {
   "cell_type": "code",
   "execution_count": 25,
   "metadata": {},
   "outputs": [],
   "source": [
    "#écrivez ici votre réponse\n",
    "\n",
    "            "
   ]
  },
  {
   "cell_type": "markdown",
   "metadata": {
    "collapsed": true
   },
   "source": [
    "#### 3. On souhaite maintenant calculer à chaque pas de projection la probabilité que la revalorisation cible ne soit pas atteinte. \n",
    "\n",
    "Adaptez la réponse à la question 2 pour simuler un grand nombre de trajectoires et déterminier empiriquement cette probabilité."
   ]
  },
  {
   "cell_type": "code",
   "execution_count": 26,
   "metadata": {},
   "outputs": [],
   "source": [
    "#écrivez ici votre réponse\n"
   ]
  },
  {
   "cell_type": "markdown",
   "metadata": {},
   "source": [
    "#### 4. On tient maintenant compte de la contrainte de reprise des sommes dotées en PPB sous 8 ans.  Modifiez le code de la question 2 pour déterminer les chroniques de revalorisation dans ces nouvelles conditions."
   ]
  },
  {
   "cell_type": "code",
   "execution_count": 27,
   "metadata": {},
   "outputs": [],
   "source": [
    "#écrivez ici votre réponse\n"
   ]
  },
  {
   "cell_type": "markdown",
   "metadata": {},
   "source": [
    "#### 5. Par analogie avec la question 3, calculez la nouvelle probabilité de ne pas servir la cible de revalorisation. "
   ]
  },
  {
   "cell_type": "code",
   "execution_count": 28,
   "metadata": {},
   "outputs": [],
   "source": [
    "#écrivez ici votre réponse\n"
   ]
  },
  {
   "cell_type": "markdown",
   "metadata": {},
   "source": [
    "#### 6. Affichez alors le résultat sur le même graphique que le résultat obtenu en question 3 et commentez. \n",
    "\n",
    "Précision : dans un Notebook, les variables définies dans les cellules précédentes restent disponibles une fois calculées. Il n'est donc pas nécessaire de les re-calculer dans la cellule courante."
   ]
  },
  {
   "cell_type": "code",
   "execution_count": 29,
   "metadata": {},
   "outputs": [],
   "source": [
    "#écrivez ici votre réponse\n"
   ]
  },
  {
   "cell_type": "markdown",
   "metadata": {
    "collapsed": true
   },
   "source": [
    "[double cliquer pour afficher l'espace de réponse]"
   ]
  },
  {
   "cell_type": "markdown",
   "metadata": {},
   "source": [
    "#### 7. Que deviennent les résultats précédents si les sommes dotées en PPB doivent être reprises non pas sous 8 mais sous 10 ans ?"
   ]
  },
  {
   "cell_type": "code",
   "execution_count": 30,
   "metadata": {},
   "outputs": [],
   "source": [
    "#écrivez ici votre réponse\n"
   ]
  },
  {
   "cell_type": "markdown",
   "metadata": {
    "collapsed": true
   },
   "source": [
    "## B. Réserve de capitalisation\n",
    "\n",
    "#### 1. Quel est le but de la réserve de capitalisation ? Rappelez ci-dessous ses règles de dotation et de reprise"
   ]
  },
  {
   "cell_type": "markdown",
   "metadata": {},
   "source": [
    "[double cliquer pour afficher l'espace de réponse]"
   ]
  },
  {
   "cell_type": "markdown",
   "metadata": {},
   "source": [
    "#### 2. Calcul de la valeur d'une obligation : on suppose que l'on dispose des caractéristiques d'une obligation achetée au pair en fin d'année (nominal N, taux de coupon C, maturité M) et dont les échéances sont en fin d'année. On dispose également d'une courbe de taux sans risque spot r(t). En faisant l'hypothèse de l'absence de risque de crédit, écrire la formule de calcul de la valeur de marché d'une obligation."
   ]
  },
  {
   "cell_type": "markdown",
   "metadata": {},
   "source": [
    "[double cliquer pour afficher l'espace de réponse]"
   ]
  },
  {
   "cell_type": "markdown",
   "metadata": {},
   "source": [
    "Dans la suite du problème, on utilisera la courbe de taux spot EIOPA à fin 2018 jusqu'à la maturité 10 ans: "
   ]
  },
  {
   "cell_type": "code",
   "execution_count": 31,
   "metadata": {},
   "outputs": [
    {
     "data": {
      "image/png": "[encoded data removed]",
      "text/plain": [
       "<Figure size 432x288 with 1 Axes>"
      ]
     },
     "metadata": {
      "needs_background": "light"
     },
     "output_type": "display_data"
    }
   ],
   "source": [
    "import numpy as np\n",
    "from matplotlib import pyplot as plt\n",
    "r0=np.array([-0.093,-0.035,0.063,0.194,0.339,0.478,0.612,0.739,0.858,0.966])*1/100\n",
    "t=np.linspace(1,10,10)\n",
    "plt.close()\n",
    "plt.plot(t,r0)\n",
    "plt.show()"
   ]
  },
  {
   "cell_type": "markdown",
   "metadata": {},
   "source": [
    "#### 3. Implémentez une fonction qui applique la formule précédente et renvoie le prix de l'obligation comme une fonction des caractéristiques (M, C, N) et de la courbe de taux (tableau r)\n",
    "\n",
    "En python, il est possible de définir des fonctions personnalisées en utilisant \"def\". Par exemple :"
   ]
  },
  {
   "cell_type": "code",
   "execution_count": 32,
   "metadata": {},
   "outputs": [],
   "source": [
    "def ma_fonction(x,y):\n",
    "    #On indique dans cette partie tout ce que fait la fonction (peut inclure des boucles, des conditions, etc.)\n",
    "    z=x+y\n",
    "    return y #valeur retournée par la fonction"
   ]
  },
  {
   "cell_type": "code",
   "execution_count": 33,
   "metadata": {},
   "outputs": [],
   "source": [
    "#écrivez ici votre réponse\n"
   ]
  },
  {
   "cell_type": "markdown",
   "metadata": {},
   "source": [
    "testez la fonction définie précédemment sur une obligation de maturité 10 ans et de coupon 0%"
   ]
  },
  {
   "cell_type": "code",
   "execution_count": 34,
   "metadata": {},
   "outputs": [],
   "source": [
    "#écrivez ici votre réponse"
   ]
  },
  {
   "cell_type": "markdown",
   "metadata": {},
   "source": [
    "#### 4. Le portefeuille d'un assureur A des composé des obligations suivantes achetées au pair :\n",
    "- Obligation 1, maturité 10 ans, coupon 3.2%, nominal 50 M€ ;\n",
    "- Obligation 2, maturité 7 ans, coupon 2.8%, nominal 50 M€ ;\n",
    "- Obligation 3, maturité 5 ans, coupon 1.8%, nominal 50 M€ ;\n",
    "- Obligation 4, maturité 2 ans, coupon 1.2%, nominal 25 M€ ;\n",
    "- Obligation 5, maturité 1 ans, coupon 1%, nominal 25 M€ ;\n",
    "\n",
    "Calculez la valeur de marché du portefeuille d'actifs de A"
   ]
  },
  {
   "cell_type": "code",
   "execution_count": 35,
   "metadata": {},
   "outputs": [],
   "source": [
    "#écrivez ici votre réponse"
   ]
  },
  {
   "cell_type": "markdown",
   "metadata": {
    "collapsed": true
   },
   "source": [
    "#### 5.a On suppose de la valeur de la réserve de capitalisation de l'assureur est aujourd'hui nulle. Que se passerait-il si les obligations en portefeuille étaient cédées aujourd'hui ?"
   ]
  },
  {
   "cell_type": "code",
   "execution_count": 36,
   "metadata": {},
   "outputs": [],
   "source": [
    "#écrivez votre réponse ici"
   ]
  },
  {
   "cell_type": "markdown",
   "metadata": {},
   "source": [
    "#### 5.b Décrivez le nouveau portefeuille d'actif si l'on rachetait une obligation au pair et sans risque de maturité 10 ans dont on précisera les caractéristiques ?"
   ]
  },
  {
   "cell_type": "code",
   "execution_count": 37,
   "metadata": {},
   "outputs": [],
   "source": [
    "#écrivez votre réponse ici"
   ]
  },
  {
   "cell_type": "markdown",
   "metadata": {},
   "source": [
    "#### On suppose que la participation aux bénéfices prévue contractuellement inclût 90 % des produits des actifs en représentation des provisions mathématiques et les coupons et nominaux reçus sont réinvestis en trésorerie, laquelle est revalorisée d'année en année au taux sans risque calculé à partir de la courbe des taux fournie.\n",
    "\n",
    "#### 6. Calculez les produits financiers entrant dans la participation aux bénéfices associés avec les deux stratégies d'investissement ainsi que la part de produits financiers revenant à l'assureur.\n",
    "\n",
    "##### 6.a stratégie 1 : conservation des actifs du portefeuille initial jusqu'à l'échéance"
   ]
  },
  {
   "cell_type": "code",
   "execution_count": 38,
   "metadata": {},
   "outputs": [],
   "source": [
    "#écrivez votre réponse ici"
   ]
  },
  {
   "cell_type": "markdown",
   "metadata": {},
   "source": [
    "##### 6.b stratégie 2 : vente de l'ensemble des actifs puis conservation jusqu'à l'échéance"
   ]
  },
  {
   "cell_type": "code",
   "execution_count": 39,
   "metadata": {},
   "outputs": [],
   "source": [
    "#écrivez votre réponse ici"
   ]
  },
  {
   "cell_type": "markdown",
   "metadata": {},
   "source": [
    "#### 6.c Commentez : sans la réserve de capitalisation, le montant de produits financiers in fine partagés avec les assurés aurait-il été inférieur à celui partagé avec celle-ci ? Quel est l'objet de la réserve de capitalisation ?"
   ]
  },
  {
   "cell_type": "code",
   "execution_count": 40,
   "metadata": {},
   "outputs": [],
   "source": [
    "#écrivez votre réponse ici"
   ]
  },
  {
   "cell_type": "markdown",
   "metadata": {},
   "source": [
    "[écrivez ici votre réponse]"
   ]
  }
 ],
 "metadata": {
  "kernelspec": {
   "display_name": "Python 3",
   "language": "python",
   "name": "python3"
  },
  "language_info": {
   "codemirror_mode": {
    "name": "ipython",
    "version": 3
   },
   "file_extension": ".py",
   "mimetype": "text/x-python",
   "name": "python",
   "nbconvert_exporter": "python",
   "pygments_lexer": "ipython3",
   "version": "3.7.1"
  }
 },
 "nbformat": 4,
 "nbformat_minor": 2
}
