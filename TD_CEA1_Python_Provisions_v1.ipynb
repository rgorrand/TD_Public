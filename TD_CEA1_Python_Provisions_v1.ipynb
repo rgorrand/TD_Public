{
 "cells": [
  {
   "cell_type": "markdown",
   "metadata": {},
   "source": [
    "# TD CEA 1 - Autres provisions techniques : initiation à Python\n",
    "## 3 Octobre 2019\n",
    "\n",
    "### Préliminaires\n",
    "Ce document est ce que l'on appelle un \"Notebook\". Il s'agit d'un format un peu particulier qui permet de combiner à la fois du texte et des morceaux de code, contenus dans des cellules, qui peuvent s'exécuter les unes à la suite des autres. Il est possible de faire apparaître dans le Notebook les résultats de l'exécution du code (chiffres, graphiques) à mesure que celui-ci est excécuté. Pour exécuter une cellule de code, on peut cliquer sur \"Exécuter\" ci-dessus, ou encore appuyer simultanément sur \"Maj\" et \"Entrée\".\n",
    "\n",
    "Ceci est rendu possible par le fait que, tout comme R ou Matlab, Python est un language interprêté. A l'inverse d'un langage compilé (p.ex. C) qui doit être lu d'un bloc pour être exécuté, un langage interprêté peut être lu au fur et à mesure de son exécution.\n",
    "\n",
    "Remarque : Le format Notebook n'est en rien obligatoire et il est aussi tout à fait possible de créer des programmes python d'un seul bloc ! De manière générale, si vous le souhaitez et si vous disposez de pas ou peu de bases en termes de programmation, vous pouvez vous reporter au tutoriel OpenClassroom suivant:\n",
    "\n",
    "## Introduction à Python\n",
    "Tout d'abord, quelques rappels ou règles de base en python.\n",
    "\n",
    "### Les variables\n",
    "Pour déclarer une variable, il suffit de la nommer et de lui assigner une valeur, par exemple, les variables a et b ci-dessous:"
   ]
  },
  {
   "cell_type": "code",
   "execution_count": 1,
   "metadata": {
    "collapsed": true
   },
   "outputs": [],
   "source": [
    "a=3\n",
    "b=5"
   ]
  },
  {
   "cell_type": "markdown",
   "metadata": {},
   "source": [
    "On peut alors créer deux autres variables c et d que l'on définit comme le produit et la somme de a et b et afficher leurs valeurs:"
   ]
  },
  {
   "cell_type": "code",
   "execution_count": 2,
   "metadata": {},
   "outputs": [
    {
     "name": "stdout",
     "output_type": "stream",
     "text": [
      "c = 15\n",
      "d = 8\n"
     ]
    }
   ],
   "source": [
    "c=a*b\n",
    "d=a+b\n",
    "\n",
    "print(\"c =\",c)\n",
    "print(\"d =\",d)"
   ]
  },
  {
   "cell_type": "markdown",
   "metadata": {},
   "source": [
    "Vous pouvez alors remonter quelques lignes plus haut et changer la valeur de a et b, puis actualiser les calculs en exécutant les briques de code.\n",
    "L'instruction print est une fonction dont les arguments (renseignés à l'intérieur de parenthèses) sont une liste de choses à afficher à la suite sur une même ligne. \n",
    "\n",
    "Dans l'instruction print(\"c =\",c), on a demandé l'affichage de la chaine de caractères \"c =\" (entourée de guillemets pour signifier qu'il s'agit de texte), puis de c."
   ]
  },
  {
   "cell_type": "markdown",
   "metadata": {},
   "source": [
    "## Les listes\n",
    "Il est possible de regrouper des variables dans des \"listes\". Une liste se présente sous la forme d'une suite d'éléments délimitée par des crochets et séparés par des virgules.\n",
    "\n",
    "On peut appeler les éléments constituant une boucle à l'aide de crochets. Le i-ème élément peut ainsi être appelé par liste[i].\n",
    "Par exemple :"
   ]
  },
  {
   "cell_type": "code",
   "execution_count": 3,
   "metadata": {},
   "outputs": [
    {
     "name": "stdout",
     "output_type": "stream",
     "text": [
      "[1, 3, 5]\n",
      "1er élément: 1\n",
      "dernier élément: 5\n"
     ]
    }
   ],
   "source": [
    "liste=[1,3,5]\n",
    "print(liste)\n",
    "print(\"1er élément:\",liste[0])\n",
    "print(\"dernier élément:\",liste[2])"
   ]
  },
  {
   "cell_type": "markdown",
   "metadata": {},
   "source": [
    "Attention, comme dans Matlab mais contrairement à R, les listes sont indexées à partir de 0 et non à partir de 1.\n",
    "Pour récupérer le N-ième élément d'une liste, il faut donc appeler liste[N-1].\n",
    "\n",
    "On peut concaténer deux listes ensemble en utilisant l'opérateur d'addition + :"
   ]
  },
  {
   "cell_type": "code",
   "execution_count": 4,
   "metadata": {
    "scrolled": true
   },
   "outputs": [
    {
     "name": "stdout",
     "output_type": "stream",
     "text": [
      "[1, 3, 5, 'a']\n"
     ]
    }
   ],
   "source": [
    "liste=liste+[\"a\"]\n",
    "print(liste)"
   ]
  },
  {
   "cell_type": "markdown",
   "metadata": {},
   "source": [
    "Python est un langage dit \"objet\". Une liste est ainsi un objet qui contient à la fois des données (les termes de la liste), mais également des méthodes. Il s'agit de fonctions qui peuvent effectuer des opérations spécifiques sur la liste. De manière générale, on accède aux méthodes en utilisant le point (.) : liste.fonction(argument de la fonction).\n",
    "\n",
    "On peut alors par exemple ajouter un élément à la liste en utilisant la fonction append: "
   ]
  },
  {
   "cell_type": "code",
   "execution_count": 5,
   "metadata": {},
   "outputs": [
    {
     "name": "stdout",
     "output_type": "stream",
     "text": [
      "[1, 3, 5, 'a', 'un terme ajouté']\n"
     ]
    }
   ],
   "source": [
    "liste.append(\"un terme ajouté\")\n",
    "print(liste)"
   ]
  },
  {
   "cell_type": "markdown",
   "metadata": {},
   "source": [
    "On peut également utiliser l'instruction \"pop\" pour supprimer. De manière générale pour voir la documentation associée à un objet et les différentes fonctions utilisables, on peut utiliser la fonction help."
   ]
  },
  {
   "cell_type": "code",
   "execution_count": 6,
   "metadata": {},
   "outputs": [
    {
     "name": "stdout",
     "output_type": "stream",
     "text": [
      "Help on list object:\n",
      "\n",
      "class list(object)\n",
      " |  list() -> new empty list\n",
      " |  list(iterable) -> new list initialized from iterable's items\n",
      " |  \n",
      " |  Methods defined here:\n",
      " |  \n",
      " |  __add__(self, value, /)\n",
      " |      Return self+value.\n",
      " |  \n",
      " |  __contains__(self, key, /)\n",
      " |      Return key in self.\n",
      " |  \n",
      " |  __delitem__(self, key, /)\n",
      " |      Delete self[key].\n",
      " |  \n",
      " |  __eq__(self, value, /)\n",
      " |      Return self==value.\n",
      " |  \n",
      " |  __ge__(self, value, /)\n",
      " |      Return self>=value.\n",
      " |  \n",
      " |  __getattribute__(self, name, /)\n",
      " |      Return getattr(self, name).\n",
      " |  \n",
      " |  __getitem__(...)\n",
      " |      x.__getitem__(y) <==> x[y]\n",
      " |  \n",
      " |  __gt__(self, value, /)\n",
      " |      Return self>value.\n",
      " |  \n",
      " |  __iadd__(self, value, /)\n",
      " |      Implement self+=value.\n",
      " |  \n",
      " |  __imul__(self, value, /)\n",
      " |      Implement self*=value.\n",
      " |  \n",
      " |  __init__(self, /, *args, **kwargs)\n",
      " |      Initialize self.  See help(type(self)) for accurate signature.\n",
      " |  \n",
      " |  __iter__(self, /)\n",
      " |      Implement iter(self).\n",
      " |  \n",
      " |  __le__(self, value, /)\n",
      " |      Return self<=value.\n",
      " |  \n",
      " |  __len__(self, /)\n",
      " |      Return len(self).\n",
      " |  \n",
      " |  __lt__(self, value, /)\n",
      " |      Return self<value.\n",
      " |  \n",
      " |  __mul__(self, value, /)\n",
      " |      Return self*value.n\n",
      " |  \n",
      " |  __ne__(self, value, /)\n",
      " |      Return self!=value.\n",
      " |  \n",
      " |  __new__(*args, **kwargs) from builtins.type\n",
      " |      Create and return a new object.  See help(type) for accurate signature.\n",
      " |  \n",
      " |  __repr__(self, /)\n",
      " |      Return repr(self).\n",
      " |  \n",
      " |  __reversed__(...)\n",
      " |      L.__reversed__() -- return a reverse iterator over the list\n",
      " |  \n",
      " |  __rmul__(self, value, /)\n",
      " |      Return self*value.\n",
      " |  \n",
      " |  __setitem__(self, key, value, /)\n",
      " |      Set self[key] to value.\n",
      " |  \n",
      " |  __sizeof__(...)\n",
      " |      L.__sizeof__() -- size of L in memory, in bytes\n",
      " |  \n",
      " |  append(...)\n",
      " |      L.append(object) -> None -- append object to end\n",
      " |  \n",
      " |  clear(...)\n",
      " |      L.clear() -> None -- remove all items from L\n",
      " |  \n",
      " |  copy(...)\n",
      " |      L.copy() -> list -- a shallow copy of L\n",
      " |  \n",
      " |  count(...)\n",
      " |      L.count(value) -> integer -- return number of occurrences of value\n",
      " |  \n",
      " |  extend(...)\n",
      " |      L.extend(iterable) -> None -- extend list by appending elements from the iterable\n",
      " |  \n",
      " |  index(...)\n",
      " |      L.index(value, [start, [stop]]) -> integer -- return first index of value.\n",
      " |      Raises ValueError if the value is not present.\n",
      " |  \n",
      " |  insert(...)\n",
      " |      L.insert(index, object) -- insert object before index\n",
      " |  \n",
      " |  pop(...)\n",
      " |      L.pop([index]) -> item -- remove and return item at index (default last).\n",
      " |      Raises IndexError if list is empty or index is out of range.\n",
      " |  \n",
      " |  remove(...)\n",
      " |      L.remove(value) -> None -- remove first occurrence of value.\n",
      " |      Raises ValueError if the value is not present.\n",
      " |  \n",
      " |  reverse(...)\n",
      " |      L.reverse() -- reverse *IN PLACE*\n",
      " |  \n",
      " |  sort(...)\n",
      " |      L.sort(key=None, reverse=False) -> None -- stable sort *IN PLACE*\n",
      " |  \n",
      " |  ----------------------------------------------------------------------\n",
      " |  Data and other attributes defined here:\n",
      " |  \n",
      " |  __hash__ = None\n",
      "\n"
     ]
    }
   ],
   "source": [
    "help(liste)"
   ]
  },
  {
   "cell_type": "code",
   "execution_count": 7,
   "metadata": {},
   "outputs": [
    {
     "name": "stdout",
     "output_type": "stream",
     "text": [
      "[1, 3, 5, 'a']\n"
     ]
    }
   ],
   "source": [
    "liste.pop(4)\n",
    "print(liste)"
   ]
  },
  {
   "cell_type": "markdown",
   "metadata": {},
   "source": [
    "Il n'y a pas de contrainte particulière sur les listes et on peut ainsi faire facilement des listes de liste"
   ]
  },
  {
   "cell_type": "code",
   "execution_count": 8,
   "metadata": {},
   "outputs": [
    {
     "name": "stdout",
     "output_type": "stream",
     "text": [
      "[[1, 0.25, 0.25], [0.25, 1, 0], [0.25, 0, 1]]\n"
     ]
    }
   ],
   "source": [
    "matrice=[[1,0.25,0.25],[0.25,1,0],[0.25,0,1]]\n",
    "print(matrice)"
   ]
  },
  {
   "cell_type": "markdown",
   "metadata": {},
   "source": [
    "Puis on accède par double crochet aux éléments de la liste de liste : matrice[i][j] renvoie ainsi la i-ème ligne et j-ème colonne:"
   ]
  },
  {
   "cell_type": "code",
   "execution_count": 9,
   "metadata": {},
   "outputs": [
    {
     "name": "stdout",
     "output_type": "stream",
     "text": [
      "1\n",
      "0.25\n"
     ]
    }
   ],
   "source": [
    "print(matrice[0][0])\n",
    "print(matrice[1][0])\n"
   ]
  },
  {
   "cell_type": "markdown",
   "metadata": {},
   "source": [
    "## Les conditions et tests logiques\n",
    "Les tests logiques s'écrivent comme à l'aide des opérateurs \"==\" pour vérifier une égalité ou != pour une différence."
   ]
  },
  {
   "cell_type": "code",
   "execution_count": 10,
   "metadata": {},
   "outputs": [
    {
     "name": "stdout",
     "output_type": "stream",
     "text": [
      "1 égal 0? False\n",
      "1 différent de 0 ? True\n"
     ]
    }
   ],
   "source": [
    "print(\"1 égal 0?\",1==0)\n",
    "print(\"1 différent de 0 ?\",1!=0)"
   ]
  },
  {
   "cell_type": "markdown",
   "metadata": {},
   "source": [
    "Il est également possible de tester des inégalités (inférieur strict, inférieur ou égal):"
   ]
  },
  {
   "cell_type": "code",
   "execution_count": 11,
   "metadata": {},
   "outputs": [
    {
     "name": "stdout",
     "output_type": "stream",
     "text": [
      "False\n",
      "False\n",
      "False\n",
      "True\n"
     ]
    }
   ],
   "source": [
    "print(1<0)\n",
    "print(1<=0)\n",
    "print(1>1)\n",
    "print(1>=1)"
   ]
  },
  {
   "cell_type": "markdown",
   "metadata": {},
   "source": [
    "Les tests logiques peuvent également être combinés à l'aide des opérateurs ET (&) et OU (barre verticale : |)"
   ]
  },
  {
   "cell_type": "code",
   "execution_count": 12,
   "metadata": {},
   "outputs": [
    {
     "name": "stdout",
     "output_type": "stream",
     "text": [
      "True\n"
     ]
    }
   ],
   "source": [
    "un_test=(1==0)|(1!=0)\n",
    "print(un_test)"
   ]
  },
  {
   "cell_type": "code",
   "execution_count": 13,
   "metadata": {},
   "outputs": [
    {
     "name": "stdout",
     "output_type": "stream",
     "text": [
      "False\n"
     ]
    }
   ],
   "source": [
    "un_test=(1==0)&(1!=0)\n",
    "print(un_test)"
   ]
  },
  {
   "cell_type": "markdown",
   "metadata": {},
   "source": [
    "## Les boucles\n",
    "Python se caractérise par une syntaxe minimaliste et très visuelle. Contrairement à des langages comme le C ou le Java, il n'est pas nécessaire d'entourer une boucle de parenthèses ou d'accolades : on utilisera la tabulation pour indiquer les instructions qui font partie de la boucle. Ainsi, l'intendation du code n'est pas une simple bonne pratique mais fait partie intégrante de la syntaxe de Python.\n",
    "\n",
    "### Exemple"
   ]
  },
  {
   "cell_type": "code",
   "execution_count": 14,
   "metadata": {},
   "outputs": [
    {
     "name": "stdout",
     "output_type": "stream",
     "text": [
      "0 1\n",
      "1 2\n",
      "2 3\n",
      "3 4\n",
      "4 5\n",
      "5 6\n",
      "6 7\n",
      "7 8\n",
      "8 9\n",
      "9 10\n"
     ]
    }
   ],
   "source": [
    "a=0\n",
    "for i in range(0,10):\n",
    "    a=a+1\n",
    "    print(i,a)"
   ]
  },
  {
   "cell_type": "markdown",
   "metadata": {},
   "source": [
    "Ici, on a initialisé une variable a, puis on a incrémentée celle-ci 10 fois de 1.\n",
    "La variable de boucle i a quant à elle pris ses valeurs entre 1 et 0 et 9 mais n'a pas été utilisée explicitement pour les calculs.\n",
    "\n",
    "Dans l'instruction range, on indique les deux extrémités de l'intervalle d'entiers à parcourir : la première est inclue, la seconde exclue. Ainsi, un range(0,n) comprendra n termes, de 0 à n-1.\n",
    "\n",
    "Les instructions à l'intérieur de la boucle peuvent être identifiées par une tabulation (touche tab). Pour sortir de la boucle, il suffira de revenir au niveau de tabulation inférieur. On peut bien entendu imbriquer plusieurs boucles les unes dans les autres en utilisant des doubles ou triples tabulations.\n",
    "\n",
    "N.B. : Les instructions For se terminent par un \":\" "
   ]
  },
  {
   "cell_type": "markdown",
   "metadata": {},
   "source": [
    "### Pratique\n",
    "#### 1. Adaptez la boucle de l'exemple précédent pour calculer la somme de i = 1 à 10 (inclus) de i et afficher les valeurs intermédiaires calculées."
   ]
  },
  {
   "cell_type": "code",
   "execution_count": 15,
   "metadata": {},
   "outputs": [
    {
     "name": "stdout",
     "output_type": "stream",
     "text": [
      "1 1\n",
      "2 3\n",
      "3 6\n",
      "4 10\n",
      "5 15\n",
      "6 21\n",
      "7 28\n",
      "8 36\n",
      "9 45\n",
      "10 55\n"
     ]
    }
   ],
   "source": [
    "#écrivez ici votre réponse\n",
    "a=0\n",
    "for i in range(1,11):\n",
    "    a=a+i\n",
    "    print(i,a)"
   ]
  },
  {
   "cell_type": "markdown",
   "metadata": {},
   "source": [
    "#### 2. Modifiez à la marge pour n'afficher que le résultat final obtenu à la dernière itération."
   ]
  },
  {
   "cell_type": "code",
   "execution_count": 16,
   "metadata": {},
   "outputs": [
    {
     "name": "stdout",
     "output_type": "stream",
     "text": [
      "10 55\n"
     ]
    }
   ],
   "source": [
    "#écrivez ici votre réponse puis appuyez sur MAJ+Entrée pour exécuter la cellule\n",
    "a=0\n",
    "for i in range(1,11):\n",
    "    a=a+i\n",
    "print(i,a)"
   ]
  },
  {
   "cell_type": "markdown",
   "metadata": {},
   "source": [
    "De la même manière, il est possible de réaliser des boucles conditionnelles \"while\"."
   ]
  },
  {
   "cell_type": "code",
   "execution_count": 17,
   "metadata": {},
   "outputs": [
    {
     "name": "stdout",
     "output_type": "stream",
     "text": [
      "0 1\n",
      "1 2\n",
      "2 3\n",
      "3 4\n",
      "4 5\n",
      "5 6\n",
      "6 7\n",
      "7 8\n",
      "8 9\n",
      "9 10\n"
     ]
    }
   ],
   "source": [
    "a=0\n",
    "i=0\n",
    "while i<10:\n",
    "    a=a+1\n",
    "    print(i,a)\n",
    "    i=i+1\n"
   ]
  },
  {
   "cell_type": "markdown",
   "metadata": {},
   "source": [
    "#### 3. Réalisez une boucle \"while\" équivalente à la boucle \"for\" de la question 2."
   ]
  },
  {
   "cell_type": "code",
   "execution_count": 18,
   "metadata": {
    "collapsed": true
   },
   "outputs": [],
   "source": [
    "#écrivez ici votre réponse\n"
   ]
  },
  {
   "cell_type": "markdown",
   "metadata": {},
   "source": [
    "# Les librairies : exemple de numpy et matplotlib"
   ]
  },
  {
   "cell_type": "markdown",
   "metadata": {
    "collapsed": true
   },
   "source": [
    "Python fait partie des langages dont la richesse se base sur les nombreuses librairies déjà développées et disponibles pour l'utilisateur. Outre les fonctions et la flexibilité qu'elles apportent, elles améliorent aussi le temps de calcul. Tout comme dans Matlab, les librairies orientées calcul sont ainsi implémentées dans des langages plus performants sur le plan du temps de calcul (p.ex. C++) sans que l'utilisateur en ait à supporter la lourdeur syntaxique.\n",
    "\n",
    "## Numpy\n",
    "Numpy est l'une des librairies centrales dès lors qu'il est question de calcul. Elle permet de travailler avec des tableaux de chiffres ou des matrices.\n",
    "\n",
    "Pour utiliser une librairie, on commence toujours par l'importer afin de charger ses composantes. On lui donne souvent un alias (ici, numpy sera raccourci en np)"
   ]
  },
  {
   "cell_type": "code",
   "execution_count": 28,
   "metadata": {
    "collapsed": true
   },
   "outputs": [],
   "source": [
    "import numpy as np"
   ]
  },
  {
   "cell_type": "markdown",
   "metadata": {},
   "source": [
    "Les fonctions et composantes de la librairie sont ainsi accessibles via le \".\" : np.composante. Parmi les nombreux composants disponibles pour l'utilisateur, on s'intéressera ici à \"array\", qui permet de définir des tableaux, et à \"random\" (et en particulier random.randn) qui génère des nombres aléatoires (suivant la loi normale)."
   ]
  },
  {
   "cell_type": "code",
   "execution_count": 31,
   "metadata": {},
   "outputs": [
    {
     "name": "stdout",
     "output_type": "stream",
     "text": [
      "tableau [ 0.  0.  0.  0.  0.  0.  0.  0.  0.  0.]\n",
      "matrice [[ 0.  0.  0.]\n",
      " [ 0.  0.  0.]\n",
      " [ 0.  0.  0.]\n",
      " [ 0.  0.  0.]\n",
      " [ 0.  0.  0.]\n",
      " [ 0.  0.  0.]\n",
      " [ 0.  0.  0.]\n",
      " [ 0.  0.  0.]\n",
      " [ 0.  0.  0.]\n",
      " [ 0.  0.  0.]]\n",
      "liste [1 2 3 4]\n",
      "alea [-1.8714816  -1.29454157 -0.79890173  0.79584665 -0.76866002  0.07425258\n",
      "  1.50541091  0.96440448  0.09412746 -1.02050208  0.31762816  0.43346506\n",
      " -0.59312509  0.8715304  -1.30715746 -0.31218283  0.58611079  0.6628125\n",
      " -0.41154642  0.43483964  0.63641284 -0.48359782  0.41089112  0.19580945\n",
      "  0.67762557  0.36635663 -0.50317011  0.57854789  1.11267244  1.27497478\n",
      " -0.94139806 -1.6183888   0.63435544  1.5488636   0.64346475 -1.15948713\n",
      "  1.43507396 -0.32909736  0.83318552 -0.73134583  1.08467811  1.26527947\n",
      "  0.89457543 -1.12262138  0.05441724 -0.5596345  -2.97082881 -0.61445127\n",
      "  0.87247572  0.05491288 -0.13321185 -1.31350299 -0.57258418 -2.17935661\n",
      " -1.04168979 -0.75527079  0.95094668  0.18792476 -1.6842187   0.60474845\n",
      " -0.95781298  0.87902689  0.17091295  1.31836434  0.2285596  -0.15223406\n",
      " -0.72219556  2.24097371  0.15862132 -1.35744781 -0.1472808   0.57054169\n",
      " -2.33152637 -0.23829425 -0.64790648 -1.59878238 -0.73323941 -0.13489565\n",
      " -1.10513005 -0.11464002  2.8326266  -0.69860326 -0.2156906  -0.53932568\n",
      "  0.71540798  0.61176772 -1.65878771 -1.05660553 -1.54307248  0.34861157\n",
      "  0.19211734 -0.35647499 -0.23607252  0.43166044 -1.09409868 -0.04837342\n",
      "  0.40428942 -0.13308438 -0.2732233  -1.61362501]\n"
     ]
    }
   ],
   "source": [
    "#on définit un tableau unidimensionnel de dimension 10 (un vecteur) rempli de zeros :\n",
    "tableau=np.zeros(10)\n",
    "print(\"tableau\",tableau)\n",
    "#et une matrice de la même manière en donnant un couple de dimensions :\n",
    "matrice=np.zeros((10,3))\n",
    "print(\"matrice\",matrice)\n",
    "#Il est aussi possible de transformer une liste en tableau numpy :\n",
    "liste=np.array([1,2,3,4])\n",
    "print(\"liste\",liste)\n",
    "#On peut facilement générer des nombres aléatoires à l'aide de :\n",
    "alea=np.random.randn(100)\n",
    "print(\"alea\",alea)"
   ]
  },
  {
   "cell_type": "markdown",
   "metadata": {},
   "source": [
    "Ces tableaux sont des objets qui ont donc eux-mêmes des fonctions telles que max, sum (somme), mean (moyenne), std (écart-type)"
   ]
  },
  {
   "cell_type": "code",
   "execution_count": 33,
   "metadata": {},
   "outputs": [
    {
     "name": "stdout",
     "output_type": "stream",
     "text": [
      "par exemple: -12.6382752224 -0.126382752224 1.00128503073 2.83262660348\n"
     ]
    }
   ],
   "source": [
    "print(\"par exemple:\",alea.sum(),alea.mean(),alea.std(),alea.max())"
   ]
  },
  {
   "cell_type": "markdown",
   "metadata": {},
   "source": [
    "Pour représenter graphiquement les résultats, on peut utiliser la librairie matplotlib (voir google pour de nombreux exemples). Un graphique simple peut par exemple s'écrire :"
   ]
  },
  {
   "cell_type": "code",
   "execution_count": 35,
   "metadata": {},
   "outputs": [
    {
     "data": {
      "image/png": "[encoded data removed]",
      "text/plain": [
       "<matplotlib.figure.Figure at 0x8993f28>"
      ]
     },
     "metadata": {},
     "output_type": "display_data"
    }
   ],
   "source": [
    "#on s'assure que toutes les figures sont fermées:\n",
    "plt.close()\n",
    "#on crée une figure\n",
    "plt.figure()\n",
    "plt.plot(alea)\n",
    "#on affiche la figure\n",
    "plt.show()"
   ]
  },
  {
   "cell_type": "markdown",
   "metadata": {},
   "source": [
    "En pratique, toutes les instructions plot écrites avant d'afficher la figure seront superposées sur le même graphe, ce qui permet d'afficher plusieurs courbes sur une même figure. Ainsi, par exemple, on peut utiliser la fonction \"bar\" qui trace des barres verticales étant donné des vecteurs x (abscisses) et y (ordonnées). Pour créer les abscisses, on utilise par exemple ci-dessous la fonction linspace qui crée un vecteur (une grille de 1 à 100 contenant 100 points."
   ]
  },
  {
   "cell_type": "code",
   "execution_count": 41,
   "metadata": {},
   "outputs": [
    {
     "data": {
      "image/png": "[encoded data removed]",
      "text/plain": [
       "<matplotlib.figure.Figure at 0x7c25470>"
      ]
     },
     "metadata": {},
     "output_type": "display_data"
    },
    {
     "name": "stdout",
     "output_type": "stream",
     "text": [
      "x: [   1.    2.    3.    4.    5.    6.    7.    8.    9.   10.   11.   12.\n",
      "   13.   14.   15.   16.   17.   18.   19.   20.   21.   22.   23.   24.\n",
      "   25.   26.   27.   28.   29.   30.   31.   32.   33.   34.   35.   36.\n",
      "   37.   38.   39.   40.   41.   42.   43.   44.   45.   46.   47.   48.\n",
      "   49.   50.   51.   52.   53.   54.   55.   56.   57.   58.   59.   60.\n",
      "   61.   62.   63.   64.   65.   66.   67.   68.   69.   70.   71.   72.\n",
      "   73.   74.   75.   76.   77.   78.   79.   80.   81.   82.   83.   84.\n",
      "   85.   86.   87.   88.   89.   90.   91.   92.   93.   94.   95.   96.\n",
      "   97.   98.   99.  100.]\n"
     ]
    }
   ],
   "source": [
    "#on s'assure que toutes les figures sont fermées:\n",
    "plt.close()\n",
    "#on crée une figure\n",
    "plt.figure()\n",
    "plt.plot(alea)\n",
    "plt.bar(np.linspace(1,100,100),alea,color=\"r\")\n",
    "#on affiche la figure\n",
    "plt.show()\n",
    "print(\"x:\",np.linspace(1,100,100))"
   ]
  },
  {
   "cell_type": "markdown",
   "metadata": {},
   "source": [
    "# A. Provision pour participation aux bénéfices"
   ]
  },
  {
   "cell_type": "markdown",
   "metadata": {},
   "source": [
    "#### 1. Quel est le but de la provision pour participation aux bénéfices ? Rappelez ci-dessous ses règles de dotation et de reprise"
   ]
  },
  {
   "cell_type": "markdown",
   "metadata": {},
   "source": [
    "[double cliquer pour afficher l'espace de réponse]"
   ]
  },
  {
   "cell_type": "markdown",
   "metadata": {},
   "source": [
    "#### 2. L'assureur A commercialise des produits d'épargne et souhaite distribuer à ses assurés un rendement stable année après année. Il s'est engagé contractuellement auprès de ses assurés à leur redistribuer 100% des produits financiers issus des actifs qu'il détient. Les produits financiers générés par ces actifs sont toutefois volatiles et l'assureur souhaite utiliser la PPB pour lisser le rendement servi aux assurés. \n",
    "\n",
    "On se placera dans la suite sur un horizon de projection de T=30 ans.\n",
    "\n",
    "##### 2.a. On propose de simuler aléatoirement les produits financiers dont dispose l'assureur chaque année : ils sont ainsi supposés suivre une loi normale de moyenne 5 M€ et de variance 5 M€.\n",
    "\n",
    "Définir un vecteur de réalisation des produis financiers disponibles année après année (sous la forme d'un tableau numpy à une dimension) en utilisant la fonction np.random.randn(n) qui renvoie un vecteur de n réalisations d'une loi normale N(0,1) (pour plus d'information sur cette fonction, help(np.random.randn).\n",
    "\n",
    "##### 2.b. On supposera dans un premier temps que la contrainte de reprise sous 8 ans des sommes dotées en PPB ne s'applique pas. \n",
    "- la PPB est initialement constituée de 5 M€\n",
    "- la cible de revalorisation, fixe à chaque année de projection, est de 4,5 M€.\n",
    "\n",
    "Lorsque les produits financiers sont suffisants pour remplir la cible de 4,5 M€, l'excédent est doté en PPB, lorsqu'ils sont inssufisants, une reprise est réalisée (sans toutefois que la provision puisse prendre des valeurs négatives).\n",
    "\n",
    "Calculez le vecteur \"revalo\" qui contiendra les revalorisations futures ainsi que le vecteur \"PPB\" qui représente l'évolution de la PPB tout au long de la projection.\n",
    "\n",
    "##### 2.c. Afficher à l'aide de la fonction \"plt.bar\" de matplotlib les trois vecteurs."
   ]
  },
  {
   "cell_type": "code",
   "execution_count": 19,
   "metadata": {},
   "outputs": [
    {
     "data": {
      "image/png": "[encoded data removed]",
      "text/plain": [
       "<matplotlib.figure.Figure at 0x4ac02b0>"
      ]
     },
     "metadata": {},
     "output_type": "display_data"
    }
   ],
   "source": [
    "#écrivez ici votre réponse\n",
    "import numpy as np\n",
    "from matplotlib import pyplot as plt\n",
    "#2.a On définit l'horizon temporel\n",
    "T=30\n",
    "pfi=np.random.randn(T)*5+5\n",
    "cible=4.5\n",
    "\n",
    "#Pour afficher le graphique, on utilise \"bar(x,y)\" où x correspond ici aux années de\n",
    "#projection et y à la valeur calculée (hauteur des barres).\n",
    "u=np.linspace(1,T,T)\n",
    "\n",
    "#2.b \n",
    "#On initialise les tableaux\n",
    "revalo=np.zeros(T+1)\n",
    "PPB=np.zeros(T+1)\n",
    "#On initialise le vecteur PPB\n",
    "PPB[0]=5\n",
    "#Puis on réalise une boucle de projection\n",
    "for t in range(0,T):\n",
    "    if pfi[t]>cible:\n",
    "        PPB[t+1]=PPB[t]+(pfi[t]-cible)\n",
    "        revalo[t]=cible\n",
    "    elif pfi[t]<cible:\n",
    "        #Si PPB + Pfi suffisant\n",
    "        if PPB[t]+pfi[t]>cible:\n",
    "            PPB[t+1]=PPB[t]-(cible-pfi[t])\n",
    "            revalo[t]=cible\n",
    "        else:\n",
    "            PPB[t+1]=0\n",
    "            revalo[t]=np.max((0,pfi[t]+PPB[t]))\n",
    "plt.close()\n",
    "plt.figure(figsize=(15,7))\n",
    "plt.subplot(1,3,1)\n",
    "plt.title(\"produits\")\n",
    "plt.bar(u,pfi[0:T])\n",
    "plt.subplot(1,3,2)\n",
    "plt.bar(u,revalo[1:T+1])\n",
    "plt.title(\"revalorisation\")\n",
    "plt.subplot(1,3,3)\n",
    "plt.bar(u,PPB[0:T])\n",
    "plt.title(\"PPB\")\n",
    "\n",
    "\n",
    "plt.show()\n",
    "plt.close()\n",
    "\n",
    "            "
   ]
  },
  {
   "cell_type": "markdown",
   "metadata": {
    "collapsed": true
   },
   "source": [
    "#### 3. On souhaite maintenant calculer à chaque pas de projection la probabilité que la revalorisation cible ne soit pas atteinte. \n",
    "\n",
    "Adaptez la réponse à la question 2 pour simuler un grand nombre de trajectoires et déterminier empiriquement cette probabilité."
   ]
  },
  {
   "cell_type": "code",
   "execution_count": 20,
   "metadata": {},
   "outputs": [
    {
     "data": {
      "image/png": "[encoded data removed]",
      "text/plain": [
       "<matplotlib.figure.Figure at 0x4ad3c50>"
      ]
     },
     "metadata": {},
     "output_type": "display_data"
    }
   ],
   "source": [
    "#On définit le nombre d'itérations \n",
    "N=10000\n",
    "\n",
    "T=30\n",
    "\n",
    "cible=4.5\n",
    "\n",
    "#On initialise le vecteur de probabilité de ne pas servir la cible :\n",
    "Proba=np.zeros(T)\n",
    "\n",
    "#Pour afficher le graphique, on utilise \"bar(x,y)\" où x correspond ici aux années de\n",
    "#projection et y à la valeur calculée (hauteur des barres).\n",
    "u=np.linspace(1,T,T)\n",
    "\n",
    "for i in range(0,N):\n",
    "    #Puis on réalise une boucle de projection\n",
    "    #en faisant attention de bien réinitialiser les variables dans la boucle !\n",
    "    pfi=np.random.randn(T)*5+5\n",
    "    #On initialise les tableaux\n",
    "    revalo=np.zeros(T+1)\n",
    "    PPB=np.zeros(T+1)\n",
    "    #On initialise le vecteur PPB\n",
    "    PPB[0]=5\n",
    "\n",
    "    for t in range(0,T):\n",
    "        if pfi[t]>cible:\n",
    "            PPB[t+1]=PPB[t]+(pfi[t]-cible)\n",
    "            revalo[t]=cible\n",
    "        elif pfi[t]<cible:\n",
    "            #Si PPB + Pfi suffisant\n",
    "            if PPB[t]+pfi[t]>cible:\n",
    "                PPB[t+1]=PPB[t]-(cible-pfi[t])\n",
    "                revalo[t]=cible\n",
    "            else:\n",
    "                PPB[t+1]=0\n",
    "                revalo[t]=np.max((0,pfi[t]+PPB[t]))\n",
    "                Proba[t]+=1./N\n",
    "plt.close()\n",
    "plt.bar(u,Proba*100)\n",
    "plt.ylabel(\"Probabilité de ne pas servir la cible (en %)\")\n",
    "plt.xlabel(\"nombre d'années de projection\")\n",
    "plt.show()"
   ]
  },
  {
   "cell_type": "markdown",
   "metadata": {},
   "source": [
    "#### 4. On tient maintenant compte de la contrainte de reprise des sommes dotées en PPB sous 8 ans.  Modifiez le code de la question 2 pour déterminer les chroniques de revalorisation dans ces nouvelles conditions."
   ]
  },
  {
   "cell_type": "code",
   "execution_count": 21,
   "metadata": {},
   "outputs": [
    {
     "data": {
      "image/png": "[encoded data removed]",
      "text/plain": [
       "<matplotlib.figure.Figure at 0x61fd668>"
      ]
     },
     "metadata": {},
     "output_type": "display_data"
    }
   ],
   "source": [
    "#écrivez ici votre réponse\n",
    "import numpy as np\n",
    "from matplotlib import pyplot as plt\n",
    "#2.a On définit l'horizon temporel\n",
    "T=30\n",
    "pfi=np.random.randn(T)*5+5\n",
    "cible=4.5\n",
    "\n",
    "#Pour afficher le graphique, on utilise \"bar(x,y)\" où x correspond ici aux années de\n",
    "#projection et y à la valeur calculée (hauteur des barres).\n",
    "u=np.linspace(1,T,T)\n",
    "\n",
    "#2.b \n",
    "#On initialise les tableaux\n",
    "revalo=np.zeros(T+1)\n",
    "#Cette fois-ci, la PPB est à un tableau multidimensionnel (T+1,8)\n",
    "PPB=np.zeros((T+1,8))\n",
    "#On initialise le vecteur PPB\n",
    "PPB[0,0]=5\n",
    "#Puis on réalise une boucle de projection\n",
    "for t in range(0,T):\n",
    "    PPB[t+1,1:7]=PPB[t,0:6]\n",
    "    if pfi[t]>cible:\n",
    "        PPB[t+1,0]=(pfi[t]-cible)\n",
    "        #On force à distribuer le montant arrivé à échéance\n",
    "        revalo[t]=cible+PPB[t,6]\n",
    "    elif pfi[t]<=cible:\n",
    "        #Si PPB + Pfi suffisant : on regarde pour ça la somme suivant la dimension (1) (et non 0)\n",
    "        #des sommes disponibles sur la PPB.\n",
    "        servi=pfi[t]\n",
    "\n",
    "        #Dans tous les cas on sert les sommes en 8ème année\n",
    "        servi+=PPB[t,6]\n",
    "\n",
    "        k=1\n",
    "        #on fait une boucle while pour itérer sur les anciennetés de PPB\n",
    "        while (servi<cible)&(k<=7):\n",
    "            #astuce de syntaxe: plutôt que d'écrire a=a+1, on peut écrire a+=1\n",
    "            #8 = 5\n",
    "            servi_old=servi\n",
    "            servi+=np.min((PPB[t+1,7-k],np.max((0,cible-servi))))\n",
    "            PPB[t+1,7-k]-=servi-servi_old\n",
    "\n",
    "            k+=1\n",
    "        revalo[t]=servi\n",
    "        \n",
    "\n",
    "plt.close()\n",
    "plt.figure(figsize=(15,7))\n",
    "plt.subplot(1,3,1)\n",
    "plt.title(\"produits\")\n",
    "plt.bar(u,pfi[0:T])\n",
    "plt.subplot(1,3,2)\n",
    "plt.bar(u,revalo[1:T+1])\n",
    "plt.title(\"revalorisation\")\n",
    "plt.subplot(1,3,3)\n",
    "plt.bar(u,PPB[0:T,:].sum(1))\n",
    "plt.title(\"PPB\")\n",
    "\n",
    "\n",
    "plt.show()\n",
    "plt.close()\n",
    "\n"
   ]
  },
  {
   "cell_type": "markdown",
   "metadata": {},
   "source": [
    "#### 5. Par analogie avec la question 3, calculez la nouvelle probabilité de ne pas servir la cible de revalorisation. "
   ]
  },
  {
   "cell_type": "code",
   "execution_count": 22,
   "metadata": {},
   "outputs": [
    {
     "data": {
      "image/png": "[encoded data removed]",
      "text/plain": [
       "<matplotlib.figure.Figure at 0x495ea20>"
      ]
     },
     "metadata": {},
     "output_type": "display_data"
    }
   ],
   "source": [
    "#écrivez ici votre réponse\n",
    "import numpy as np\n",
    "from matplotlib import pyplot as plt\n",
    "\n",
    "#On définit le nombre d'itérations \n",
    "N=10000\n",
    "\n",
    "T=30\n",
    "\n",
    "cible=4.5\n",
    "\n",
    "#On initialise le vecteur de probabilité de ne pas servir la cible :\n",
    "Proba_sup=np.zeros(T)\n",
    "Proba_inf=np.zeros(T)\n",
    "\n",
    "\n",
    "#Pour afficher le graphique, on utilise \"bar(x,y)\" où x correspond ici aux années de\n",
    "#projection et y à la valeur calculée (hauteur des barres).\n",
    "u=np.linspace(1,T,T)\n",
    "\n",
    "for i in range(0,N):\n",
    "    #on initialise l'aléa\n",
    "    pfi=np.random.randn(T)*5+5\n",
    "    #On initialise les tableaux\n",
    "    revalo=np.zeros(T+1)\n",
    "    #Cette fois-ci, la PPB est à un tableau multidimensionnel (T+1,8)\n",
    "    PPB=np.zeros((T+1,8))\n",
    "    #On initialise le vecteur PPB\n",
    "    PPB[0,0]=5\n",
    "    #Puis on réalise une boucle de projection\n",
    "    for t in range(0,T):\n",
    "        PPB[t+1,1:7]=PPB[t,0:6]\n",
    "        if pfi[t]>cible:\n",
    "            PPB[t+1,0]=(pfi[t]-cible)\n",
    "            #On force à distribuer le montant arrivé à échéance\n",
    "            revalo[t]=cible+PPB[t,6]\n",
    "        elif pfi[t]<=cible:\n",
    "            #Si PPB + Pfi suffisant : on regarde pour ça la somme suivant la dimension (1) (et non 0)\n",
    "            #des sommes disponibles sur la PPB.\n",
    "            servi=pfi[t]\n",
    "\n",
    "            #Dans tous les cas on sert les sommes en 8ème année\n",
    "            servi+=PPB[t,7]\n",
    "\n",
    "            k=1\n",
    "            #on fait une boucle while pour itérer sur les anciennetés de PPB\n",
    "            while (servi<cible)&(k<=7):\n",
    "                #astuce de syntaxe: plutôt que d'écrire a=a+1, on peut écrire a+=1\n",
    "                #8 = 5\n",
    "                servi_old=servi\n",
    "                #au plus on donne le montant disponible\n",
    "                servi+=np.min((PPB[t+1,7-k],np.max((0,cible-servi))))\n",
    "                PPB[t+1,7-k]-=servi-servi_old\n",
    "\n",
    "                k+=1\n",
    "            revalo[t]=servi\n",
    "        if revalo[t]<cible:\n",
    "            Proba_inf[t]+=1/N\n",
    "        if revalo[t]>cible:\n",
    "            Proba_sup[t]+=1/N\n",
    "\n",
    "plt.close()\n",
    "plt.figure(figsize=(10,4))\n",
    "plt.subplot(121)\n",
    "plt.bar(u,Proba_inf[0:T]*100)\n",
    "plt.ylabel(\"Probabilité de servir moins que la cible (en %)\")\n",
    "plt.xlabel(\"nombre d'années de projection\")\n",
    "plt.subplot(122)\n",
    "plt.bar(u,Proba_sup[0:T]*100)\n",
    "plt.ylabel(\"Probabilité de servir plus que la cible (en %)\")\n",
    "plt.xlabel(\"nombre d'années de projection\")\n",
    "plt.show()\n",
    "plt.close()"
   ]
  },
  {
   "cell_type": "markdown",
   "metadata": {},
   "source": [
    "#### 6. Affichez alors le résultat sur le même graphique que le résultat obtenu en question 3 et commentez. \n",
    "\n",
    "Précision : dans un Notebook, les variables définies dans les cellules précédentes restent disponibles une fois calculées. Il n'est donc pas nécessaire de les re-calculer dans la cellule courante."
   ]
  },
  {
   "cell_type": "code",
   "execution_count": 23,
   "metadata": {},
   "outputs": [
    {
     "data": {
      "image/png": "[encoded data removed]",
      "text/plain": [
       "<matplotlib.figure.Figure at 0x831a588>"
      ]
     },
     "metadata": {},
     "output_type": "display_data"
    }
   ],
   "source": [
    "#Comparaison des deux graphiques\n",
    "plt.close()\n",
    "plt.figure()\n",
    "plt.bar(u,Proba[0:T]*100)\n",
    "plt.bar(u,Proba_inf[0:T]*100,alpha=0.6)\n",
    "plt.legend([\"sans 8 ans\",\"avec 8 ans\"])\n",
    "plt.ylabel(\"Probabilité de servir plus que la cible (en %)\")\n",
    "plt.xlabel(\"nombre d'années de projection\")\n",
    "plt.show()\n",
    "plt.close()"
   ]
  },
  {
   "cell_type": "markdown",
   "metadata": {
    "collapsed": true
   },
   "source": [
    "[double cliquer pour afficher l'espace de réponse]\n",
    "\n",
    "Sur les premières années, le comportement est relativement similaire, puis partir de 8 ans, la contrainte réglementaire de reprise des sommes dotées sous 8 ans commence à détériorer le niveau des revalorisations. "
   ]
  },
  {
   "cell_type": "code",
   "execution_count": null,
   "metadata": {
    "collapsed": true
   },
   "outputs": [],
   "source": []
  }
 ],
 "metadata": {
  "kernelspec": {
   "display_name": "Python 3",
   "language": "python",
   "name": "python3"
  },
  "language_info": {
   "codemirror_mode": {
    "name": "ipython",
    "version": 3
   },
   "file_extension": ".py",
   "mimetype": "text/x-python",
   "name": "python",
   "nbconvert_exporter": "python",
   "pygments_lexer": "ipython3",
   "version": "3.6.1"
  }
 },
 "nbformat": 4,
 "nbformat_minor": 2
}
